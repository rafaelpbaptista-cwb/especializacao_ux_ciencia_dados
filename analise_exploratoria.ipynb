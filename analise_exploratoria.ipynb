{
 "cells": [
  {
   "cell_type": "markdown",
   "id": "9a691b5f",
   "metadata": {},
   "source": [
    "# Descrição Dataframe\n",
    "\n",
    "## Amostra\n",
    "Segue uma pequena amostra do dataframe já tratado"
   ]
  },
  {
   "cell_type": "code",
   "execution_count": 14,
   "id": "4a07ebdb",
   "metadata": {},
   "outputs": [
    {
     "data": {
      "application/vnd.microsoft.datawrangler.viewer.v0+json": {
       "columns": [
        {
         "name": "index",
         "rawType": "int64",
         "type": "integer"
        },
        {
         "name": "cidade_destinatario",
         "rawType": "object",
         "type": "string"
        },
        {
         "name": "uf",
         "rawType": "object",
         "type": "string"
        },
        {
         "name": "grp_transportadora",
         "rawType": "object",
         "type": "string"
        },
        {
         "name": "dt_despacho_pedido",
         "rawType": "datetime64[ns]",
         "type": "datetime"
        },
        {
         "name": "dt_entrega_pedido",
         "rawType": "datetime64[ns]",
         "type": "datetime"
        },
        {
         "name": "dt_previsao_entrega_cliente",
         "rawType": "datetime64[ns]",
         "type": "datetime"
        },
        {
         "name": "dt_criacao",
         "rawType": "datetime64[ns]",
         "type": "datetime"
        },
        {
         "name": "dt_pagamento_pedido",
         "rawType": "datetime64[ns]",
         "type": "datetime"
        },
        {
         "name": "flg_existem_ocorrencias",
         "rawType": "bool",
         "type": "boolean"
        },
        {
         "name": "tp_praca",
         "rawType": "object",
         "type": "string"
        },
        {
         "name": "des_unidade_negocio",
         "rawType": "object",
         "type": "string"
        },
        {
         "name": "des_cd_origem",
         "rawType": "object",
         "type": "string"
        },
        {
         "name": "qtd_dias_tat",
         "rawType": "float64",
         "type": "float"
        },
        {
         "name": "entregue_no_prazo",
         "rawType": "bool",
         "type": "boolean"
        },
        {
         "name": "qtde_dias_prazo_entrega",
         "rawType": "timedelta64[ns]",
         "type": "unknown"
        },
        {
         "name": "qtde_dias_efet_entrega",
         "rawType": "timedelta64[ns]",
         "type": "unknown"
        },
        {
         "name": "pct_atraso",
         "rawType": "float64",
         "type": "float"
        }
       ],
       "ref": "51bc2fc1-0472-4159-bc89-0d133cf0ace9",
       "rows": [
        [
         "0",
         "CURITIBA",
         "PR",
         "Transportadora 4",
         "2023-12-04 05:56:39",
         "2023-12-07 00:00:00",
         "2023-12-07 00:00:00",
         "2023-11-30 00:00:00",
         "2023-11-30 00:00:00",
         "False",
         "Capital",
         "Multi",
         "PR-Campina G. Sul",
         "5.0",
         "True",
         "2 days 18:03:21",
         "2 days 18:03:21",
         "1.0"
        ],
        [
         "1",
         "PARAUAPEBAS",
         "PA",
         "Transportadora 2",
         "2023-11-21 12:39:55",
         "2023-12-01 00:00:00",
         "2023-12-11 00:00:00",
         "2023-11-15 00:00:00",
         "2023-11-17 00:00:00",
         "False",
         "Interior",
         "Mono",
         "PR-Campina G. Sul",
         "10.0",
         "True",
         "19 days 11:20:05",
         "9 days 11:20:05",
         "0.4864494577702753"
        ],
        [
         "2",
         "JACAREZINHO",
         "PR",
         "Transportadora 4",
         "2023-10-28 10:12:24",
         "2023-10-31 00:00:00",
         "2023-11-06 00:00:00",
         "2023-10-26 00:00:00",
         "2023-10-27 00:00:00",
         "False",
         "Interior",
         "Mono",
         "PR-Campina G. Sul",
         "2.0",
         "True",
         "8 days 13:47:36",
         "2 days 13:47:36",
         "0.30026887816255793"
        ],
        [
         "3",
         "SÃO PAULO",
         "SP",
         "Transportadora 5",
         "2023-08-23 17:52:06",
         "2023-08-24 00:00:00",
         "2023-08-24 00:00:00",
         "2023-08-22 00:00:00",
         "2023-08-22 00:00:00",
         "False",
         "Capital",
         "Multi",
         "PR-Campina G. Sul",
         "2.0",
         "True",
         "0 days 06:07:54",
         "0 days 06:07:54",
         "1.0"
        ],
        [
         "4",
         "SAO LUIS",
         "MA",
         "Transportadora 3",
         "2023-08-14 08:41:00",
         "2023-08-23 00:00:00",
         "2023-08-24 00:00:00",
         "2023-08-13 00:00:00",
         "2023-08-12 00:00:00",
         "False",
         "Capital",
         "Multi",
         "PR-Campina G. Sul",
         "8.0",
         "True",
         "9 days 15:19:00",
         "8 days 15:19:00",
         "0.8962461272425968"
        ],
        [
         "5",
         "MOGI DAS CRUZES",
         "SP",
         "Transportadora 1",
         "2023-08-14 15:07:01",
         "2023-08-16 00:00:00",
         "2023-08-16 00:00:00",
         "2023-08-13 00:00:00",
         "2023-08-13 00:00:00",
         "False",
         "Reg. Metropolitana",
         "Mono",
         "SP-Registro",
         "3.0",
         "True",
         "1 days 08:52:59",
         "1 days 08:52:59",
         "1.0"
        ],
        [
         "6",
         "SÃO PAULO",
         "SP",
         "Transportadora 1",
         "2023-11-26 02:14:59",
         "2023-11-28 00:00:00",
         "2023-12-06 00:00:00",
         "2023-11-24 00:00:00",
         "2023-11-24 00:00:00",
         "False",
         "Capital",
         "Multi",
         "PR-Campina G. Sul",
         "2.0",
         "True",
         "9 days 21:45:01",
         "1 days 21:45:01",
         "0.19242996561518214"
        ],
        [
         "7",
         "CURITIBA",
         "PR",
         "Transportadora 4",
         "2023-10-25 13:01:37",
         "2023-10-26 00:00:00",
         "2023-10-26 00:00:00",
         "2023-10-24 00:00:00",
         "2023-10-24 00:00:00",
         "False",
         "Capital",
         "Mono",
         "PR-Campina G. Sul",
         "2.0",
         "True",
         "0 days 10:58:23",
         "0 days 10:58:23",
         "1.0"
        ],
        [
         "8",
         "BRASILIA",
         "DF",
         "Transportadora 4",
         "2023-08-03 00:03:06",
         "2023-08-05 00:00:00",
         "2023-08-09 00:00:00",
         "2023-08-02 00:00:00",
         "2023-08-02 00:00:00",
         "False",
         "Capital",
         "Multi",
         "PR-Campina G. Sul",
         "2.0",
         "True",
         "5 days 23:56:54",
         "1 days 23:56:54",
         "0.3330940499484769"
        ],
        [
         "9",
         "BARUERI",
         "SP",
         "Transportadora 3",
         "2023-09-21 14:19:54",
         "2023-09-23 00:00:00",
         "2023-09-27 00:00:00",
         "2023-09-19 00:00:00",
         "2023-09-19 00:00:00",
         "False",
         "Reg. Metropolitana",
         "Multi",
         "PR-Campina G. Sul",
         "3.0",
         "True",
         "5 days 09:40:06",
         "1 days 09:40:06",
         "0.2596496188995"
        ],
        [
         "10",
         "BARRA BONITA",
         "SP",
         "Transportadora 3",
         "2023-09-20 12:19:58",
         "2023-09-23 00:00:00",
         "2023-09-25 00:00:00",
         "2023-09-19 00:00:00",
         "2023-09-19 00:00:00",
         "False",
         "Interior",
         "Mono",
         "SP-Registro",
         "3.0",
         "True",
         "4 days 11:40:02",
         "2 days 11:40:02",
         "0.5541818669666307"
        ],
        [
         "11",
         "CARUARU",
         "PE",
         "Transportadora 3",
         "2023-10-07 14:25:03",
         "2023-10-13 00:00:00",
         "2023-11-01 00:00:00",
         "2023-09-12 00:00:00",
         "2023-09-12 00:00:00",
         "False",
         "Interior",
         "Mono",
         "SP-Registro",
         "22.0",
         "True",
         "24 days 09:34:57",
         "5 days 09:34:57",
         "0.22128820448015438"
        ],
        [
         "12",
         "NOSSA SENHORA DO SOCORRO",
         "SE",
         "Transportadora 2",
         "2023-10-26 13:19:57",
         "2023-10-31 00:00:00",
         "2023-11-08 00:00:00",
         "2023-10-25 00:00:00",
         "2023-10-25 00:00:00",
         "False",
         "Interior",
         "Multi",
         "PR-Campina G. Sul",
         "4.0",
         "True",
         "12 days 10:40:03",
         "4 days 10:40:03",
         "0.3571446508240769"
        ],
        [
         "13",
         "Santos",
         "SP",
         "Transportadora 2",
         "2023-07-21 06:37:42",
         "2023-07-24 00:00:00",
         "2023-07-25 00:00:00",
         "2023-07-21 00:00:00",
         "2023-07-20 00:00:00",
         "False",
         "Capital",
         "Multi",
         "PR-Campina G. Sul",
         "2.0",
         "True",
         "3 days 17:22:18",
         "2 days 17:22:18",
         "0.7314585159353263"
        ],
        [
         "14",
         "SALVADOR",
         "BA",
         "Transportadora 2",
         "2023-10-04 12:39:16",
         "2023-10-09 00:00:00",
         "2023-10-17 00:00:00",
         "2023-10-03 00:00:00",
         "2023-10-03 00:00:00",
         "False",
         "Capital",
         "Mono",
         "PR-Campina G. Sul",
         "4.0",
         "True",
         "12 days 11:20:44",
         "4 days 11:20:44",
         "0.35860079952192003"
        ],
        [
         "15",
         "Novo Hamburgo",
         "RS",
         "Transportadora 4",
         "2023-07-26 07:18:34",
         "2023-07-31 00:00:00",
         "2023-07-31 00:00:00",
         "2023-07-26 00:00:00",
         "2023-07-25 00:00:00",
         "False",
         "Capital",
         "Multi",
         "PR-Campina G. Sul",
         "4.0",
         "True",
         "4 days 16:41:26",
         "4 days 16:41:26",
         "1.0"
        ],
        [
         "16",
         "JOÃO PESSOA",
         "PB",
         "Transportadora 2",
         "2023-07-17 15:05:14",
         "2023-07-24 00:00:00",
         "2023-07-26 00:00:00",
         "2023-07-13 00:00:00",
         "2023-07-13 00:00:00",
         "True",
         "Capital",
         "Mono",
         "PR-Campina G. Sul",
         "7.0",
         "True",
         "8 days 08:54:46",
         "6 days 08:54:46",
         "0.7610903570648402"
        ],
        [
         "17",
         "OSASCO",
         "SP",
         "Transportadora 1",
         "2023-09-28 15:25:09",
         "2023-09-29 00:00:00",
         "2023-10-02 00:00:00",
         "2023-09-27 00:00:00",
         "2023-09-27 00:00:00",
         "False",
         "Reg. Metropolitana",
         "Mono",
         "SP-Registro",
         "2.0",
         "True",
         "3 days 08:34:51",
         "0 days 08:34:51",
         "0.10648727468277196"
        ],
        [
         "18",
         "CAFELÂNDIA",
         "PR",
         "Transportadora 4",
         "2023-09-05 04:13:24",
         "2023-09-08 00:00:00",
         "2023-09-12 00:00:00",
         "2023-09-04 00:00:00",
         "2023-09-04 00:00:00",
         "False",
         "Interior",
         "Multi",
         "PR-Campina G. Sul",
         "3.0",
         "True",
         "6 days 19:46:36",
         "2 days 19:46:36",
         "0.4138359147619726"
        ],
        [
         "19",
         "SANTO ANDRÉ",
         "SP",
         "Transportadora 1",
         "2023-11-11 12:38:50",
         "2023-11-15 00:00:00",
         "2023-11-16 00:00:00",
         "2023-11-11 00:00:00",
         "2023-11-11 00:00:00",
         "False",
         "Reg. Metropolitana",
         "Multi",
         "PR-Campina G. Sul",
         "2.0",
         "True",
         "4 days 11:21:10",
         "3 days 11:21:10",
         "0.776438015887391"
        ],
        [
         "20",
         "GOIÂNIA",
         "GO",
         "Transportadora 3",
         "2023-11-28 21:45:28",
         "2023-12-02 00:00:00",
         "2023-12-08 00:00:00",
         "2023-11-25 00:00:00",
         "2023-11-25 00:00:00",
         "False",
         "Capital",
         "Multi",
         "PR-Campina G. Sul",
         "5.0",
         "True",
         "9 days 02:14:32",
         "3 days 02:14:32",
         "0.3401826716492378"
        ],
        [
         "21",
         "RIO DE JANEIRO",
         "RJ",
         "Transportadora 1",
         "2023-11-21 09:43:31",
         "2023-11-23 00:00:00",
         "2023-11-28 00:00:00",
         "2023-11-20 00:00:00",
         "2023-11-20 00:00:00",
         "False",
         "Capital",
         "Multi",
         "PR-Campina G. Sul",
         "3.0",
         "True",
         "6 days 14:16:29",
         "1 days 14:16:29",
         "0.24182460524860958"
        ],
        [
         "22",
         "JOINVILLE",
         "SC",
         "Transportadora 4",
         "2023-09-25 08:00:29",
         "2023-09-26 00:00:00",
         "2023-09-28 00:00:00",
         "2023-09-24 00:00:00",
         "2023-09-24 00:00:00",
         "False",
         "Interior",
         "Multi",
         "PR-Campina G. Sul",
         "2.0",
         "True",
         "2 days 15:59:31",
         "0 days 15:59:31",
         "0.24990558707476201"
        ],
        [
         "23",
         "Ribeirão Preto",
         "SP",
         "Transportadora 1",
         "2023-06-30 05:26:48",
         "2023-07-01 00:00:00",
         "2023-07-05 00:00:00",
         "2023-06-30 00:00:00",
         "2023-06-29 00:00:00",
         "False",
         "Interior",
         "Multi",
         "PR-Campina G. Sul",
         "1.0",
         "True",
         "4 days 18:33:12",
         "0 days 18:33:12",
         "0.16196240470232207"
        ],
        [
         "24",
         "SANTOS",
         "SP",
         "Transportadora 1",
         "2023-09-28 10:21:45",
         "2023-09-29 00:00:00",
         "2023-10-03 00:00:00",
         "2023-09-27 00:00:00",
         "2023-09-27 00:00:00",
         "False",
         "Interior",
         "Multi",
         "PR-Campina G. Sul",
         "2.0",
         "True",
         "4 days 13:38:15",
         "0 days 13:38:15",
         "0.12438718504161442"
        ],
        [
         "25",
         "BELO HORIZONTE",
         "MG",
         "Transportadora 3",
         "2023-09-04 12:12:51",
         "2023-09-06 00:00:00",
         "2023-09-06 00:00:00",
         "2023-09-01 00:00:00",
         "2023-09-01 00:00:00",
         "False",
         "Capital",
         "Mono",
         "PR-Campina G. Sul",
         "3.0",
         "True",
         "1 days 11:47:09",
         "1 days 11:47:09",
         "1.0"
        ],
        [
         "26",
         "PELOTAS",
         "RS",
         "Transportadora 4",
         "2023-08-14 19:20:33",
         "2023-08-18 00:00:00",
         "2023-08-18 00:00:00",
         "2023-08-13 00:00:00",
         "2023-08-13 00:00:00",
         "True",
         "Interior",
         "Mono",
         "PR-Campina G. Sul",
         "5.0",
         "True",
         "3 days 04:39:27",
         "3 days 04:39:27",
         "1.0"
        ],
        [
         "27",
         "GUARULHOS",
         "SP",
         "Transportadora 1",
         "2023-09-26 09:24:16",
         "2023-09-27 00:00:00",
         "2023-09-28 00:00:00",
         "2023-09-22 00:00:00",
         "2023-09-22 00:00:00",
         "False",
         "Reg. Metropolitana",
         "Mono",
         "SP-Registro",
         "3.0",
         "True",
         "1 days 14:35:44",
         "0 days 14:35:44",
         "0.3781667434362045"
        ],
        [
         "28",
         "Guarulhos",
         "SP",
         "Transportadora 1",
         "2023-08-03 08:29:49",
         "2023-08-04 00:00:00",
         "2023-08-08 00:00:00",
         "2023-08-03 00:00:00",
         "2023-08-02 00:00:00",
         "False",
         "Capital",
         "Multi",
         "PR-Campina G. Sul",
         "2.0",
         "True",
         "4 days 15:30:11",
         "0 days 15:30:11",
         "0.1390370468173518"
        ],
        [
         "29",
         "Matão",
         "SP",
         "Transportadora 1",
         "2023-07-28 10:09:00",
         "2023-07-31 00:00:00",
         "2023-08-02 00:00:00",
         "2023-07-27 00:00:00",
         "2023-07-27 00:00:00",
         "False",
         "Interior",
         "Multi",
         "PR-Campina G. Sul",
         "2.0",
         "True",
         "4 days 13:51:00",
         "2 days 13:51:00",
         "0.5630405097860719"
        ],
        [
         "30",
         "LIMEIRA",
         "SP",
         "Transportadora 1",
         "2023-08-16 13:30:38",
         "2023-08-18 00:00:00",
         "2023-08-21 00:00:00",
         "2023-08-13 00:00:00",
         "2023-08-13 00:00:00",
         "False",
         "Interior",
         "Mono",
         "PR-Campina G. Sul",
         "5.0",
         "True",
         "4 days 10:29:22",
         "1 days 10:29:22",
         "0.3238766492244928"
        ],
        [
         "31",
         "CAMBORIÚ",
         "SC",
         "Transportadora 4",
         "2023-09-11 02:30:28",
         "2023-09-13 00:00:00",
         "2023-09-14 00:00:00",
         "2023-09-08 00:00:00",
         "2023-09-08 00:00:00",
         "False",
         "Reg. Metropolitana",
         "Multi",
         "PR-Campina G. Sul",
         "3.0",
         "True",
         "2 days 21:29:32",
         "1 days 21:29:32",
         "0.6546376093247845"
        ],
        [
         "32",
         "VARGINHA",
         "MG",
         "Transportadora 1",
         "2023-10-05 15:55:02",
         "2023-10-09 00:00:00",
         "2023-10-13 00:00:00",
         "2023-10-05 00:00:00",
         "2023-10-05 00:00:00",
         "False",
         "Interior",
         "Multi",
         "PR-Campina G. Sul",
         "2.0",
         "True",
         "7 days 08:04:58",
         "3 days 08:04:58",
         "0.4548018766426144"
        ],
        [
         "33",
         "DUQUE DE CAXIAS",
         "RJ",
         "Transportadora 2",
         "2023-11-23 17:22:43",
         "2023-11-27 00:00:00",
         "2023-12-01 00:00:00",
         "2023-11-21 00:00:00",
         "2023-11-22 00:00:00",
         "False",
         "Reg. Metropolitana",
         "Mono",
         "PR-Campina G. Sul",
         "3.0",
         "True",
         "7 days 06:37:17",
         "3 days 06:37:17",
         "0.45023916823222304"
        ],
        [
         "34",
         "TERESÓPOLIS",
         "RJ",
         "Transportadora 1",
         "2023-09-19 01:22:00",
         "2023-09-21 00:00:00",
         "2023-09-22 00:00:00",
         "2023-09-16 00:00:00",
         "2023-09-16 00:00:00",
         "False",
         "Reg. Metropolitana",
         "Multi",
         "PR-Campina G. Sul",
         "4.0",
         "True",
         "2 days 22:38:00",
         "1 days 22:38:00",
         "0.660217083529967"
        ],
        [
         "35",
         "Santos",
         "SP",
         "Transportadora 1",
         "2023-07-12 06:28:20",
         "2023-07-13 00:00:00",
         "2023-07-14 00:00:00",
         "2023-07-12 00:00:00",
         "2023-07-11 00:00:00",
         "False",
         "Capital",
         "Multi",
         "PR-Campina G. Sul",
         "2.0",
         "True",
         "1 days 17:31:40",
         "0 days 17:31:40",
         "0.42207357859531774"
        ],
        [
         "36",
         "GOIÂNIA",
         "GO",
         "Transportadora 4",
         "2023-10-09 11:07:35",
         "2023-10-11 00:00:00",
         "2023-10-13 00:00:00",
         "2023-10-07 00:00:00",
         "2023-10-07 00:00:00",
         "False",
         "Capital",
         "Multi",
         "PR-Campina G. Sul",
         "3.0",
         "True",
         "3 days 12:52:25",
         "1 days 12:52:25",
         "0.43445319020111606"
        ],
        [
         "37",
         "SÃO PAULO",
         "SP",
         "Transportadora 5",
         "2023-11-21 01:15:21",
         "2023-11-21 00:00:00",
         "2023-11-23 00:00:00",
         "2023-11-17 00:00:00",
         "2023-11-17 00:00:00",
         "False",
         "Capital",
         "Multi",
         "SP-Jaguaré",
         "2.0",
         "True",
         "1 days 22:44:39",
         "-1 days +22:44:39",
         "0.0"
        ],
        [
         "38",
         "GOIÂNIA",
         "GO",
         "Transportadora 2",
         "2023-11-03 13:16:46",
         "2023-11-08 00:00:00",
         "2023-11-09 00:00:00",
         "2023-11-02 00:00:00",
         "2023-11-02 00:00:00",
         "False",
         "Capital",
         "Mono",
         "PR-Campina G. Sul",
         "4.0",
         "True",
         "5 days 10:43:14",
         "4 days 10:43:14",
         "0.8164022490724488"
        ],
        [
         "39",
         "RIO DE JANEIRO",
         "RJ",
         "Transportadora 1",
         "2023-09-11 14:07:57",
         "2023-09-13 00:00:00",
         "2023-09-14 00:00:00",
         "2023-09-09 00:00:00",
         "2023-09-09 00:00:00",
         "False",
         "Capital",
         "Mono",
         "PR-Campina G. Sul",
         "3.0",
         "True",
         "2 days 09:52:03",
         "1 days 09:52:03",
         "0.5852594288676718"
        ],
        [
         "40",
         "CUSTÓDIA",
         "PE",
         "Transportadora 3",
         "2023-09-21 16:37:03",
         "2023-10-04 00:00:00",
         "2023-10-05 00:00:00",
         "2023-09-20 00:00:00",
         "2023-09-20 00:00:00",
         "False",
         "Interior",
         "Mono",
         "PR-Campina G. Sul",
         "10.0",
         "True",
         "13 days 07:22:57",
         "12 days 07:22:57",
         "0.924854993620502"
        ],
        [
         "41",
         "VITÓRIA DA CONQUISTA",
         "BA",
         "Transportadora 2",
         "2023-11-13 15:50:54",
         "2023-11-19 00:00:00",
         "2023-11-24 00:00:00",
         "2023-11-12 00:00:00",
         "2023-11-12 00:00:00",
         "False",
         "Interior",
         "Multi",
         "PR-Campina G. Sul",
         "4.0",
         "True",
         "10 days 08:09:06",
         "5 days 08:09:06",
         "0.5164247671115111"
        ],
        [
         "42",
         "TERESINA",
         "PI",
         "Transportadora 1",
         "2023-09-04 15:09:53",
         "2023-09-13 00:00:00",
         "2023-09-15 00:00:00",
         "2023-09-03 00:00:00",
         "2023-09-03 00:00:00",
         "True",
         "Capital",
         "Mono",
         "SP-Registro",
         "7.0",
         "True",
         "10 days 08:50:07",
         "8 days 08:50:07",
         "0.807101306419798"
        ],
        [
         "43",
         "BRASÍLIA",
         "DF",
         "Transportadora 4",
         "2023-11-28 10:02:54",
         "2023-12-01 00:00:00",
         "2023-12-05 00:00:00",
         "2023-11-27 00:00:00",
         "2023-11-27 00:00:00",
         "False",
         "Capital",
         "Mono",
         "PR-Campina G. Sul",
         "4.0",
         "True",
         "6 days 13:57:06",
         "2 days 13:57:06",
         "0.3922191387660782"
        ],
        [
         "44",
         "TEOTÔNIO VILELA",
         "AL",
         "Transportadora 2",
         "2023-12-01 21:27:32",
         "2023-12-15 00:00:00",
         "2023-12-22 00:00:00",
         "2023-11-29 00:00:00",
         "2023-11-29 00:00:00",
         "True",
         "Interior",
         "Mono",
         "SP-Registro",
         "12.0",
         "True",
         "20 days 02:32:28",
         "13 days 02:32:28",
         "0.6518431359907159"
        ],
        [
         "45",
         "PORTO FERREIRA",
         "SP",
         "Transportadora 1",
         "2023-11-21 15:31:40",
         "2023-11-23 00:00:00",
         "2023-11-23 00:00:00",
         "2023-11-17 00:00:00",
         "2023-11-17 00:00:00",
         "False",
         "Interior",
         "Mono",
         "SP-Registro",
         "4.0",
         "True",
         "1 days 08:28:20",
         "1 days 08:28:20",
         "1.0"
        ],
        [
         "46",
         "Criciúma",
         "SC",
         "Transportadora 4",
         "2023-08-09 00:14:28",
         "2023-08-11 00:00:00",
         "2023-08-14 00:00:00",
         "2023-08-08 00:00:00",
         "2023-08-08 00:00:00",
         "False",
         "Interior",
         "Multi",
         "PR-Campina G. Sul",
         "3.0",
         "True",
         "4 days 23:45:32",
         "1 days 23:45:32",
         "0.39879201729400743"
        ],
        [
         "47",
         "LIMEIRA",
         "SP",
         "Transportadora 1",
         "2023-10-13 10:40:58",
         "2023-10-16 00:00:00",
         "2023-10-19 00:00:00",
         "2023-10-11 00:00:00",
         "2023-10-11 00:00:00",
         "False",
         "Interior",
         "Multi",
         "PR-Campina G. Sul",
         "2.0",
         "True",
         "5 days 13:19:02",
         "2 days 13:19:02",
         "0.45993474211467217"
        ],
        [
         "48",
         "SÃO JOSÉ DA LAPA",
         "MG",
         "Transportadora 1",
         "2023-10-19 11:15:32",
         "2023-10-21 00:00:00",
         "2023-10-24 00:00:00",
         "2023-10-18 00:00:00",
         "2023-10-18 00:00:00",
         "False",
         "Reg. Metropolitana",
         "Mono",
         "PR-Campina G. Sul",
         "2.0",
         "True",
         "4 days 12:44:28",
         "1 days 12:44:28",
         "0.33787691458816554"
        ],
        [
         "49",
         "Juiz de Fora",
         "MG",
         "Transportadora 1",
         "2023-08-11 05:32:03",
         "2023-08-15 00:00:00",
         "2023-08-17 00:00:00",
         "2023-08-11 00:00:00",
         "2023-08-10 00:00:00",
         "False",
         "Interior",
         "Multi",
         "PR-Campina G. Sul",
         "3.0",
         "True",
         "5 days 18:27:57",
         "3 days 18:27:57",
         "0.6533440860862186"
        ]
       ],
       "shape": {
        "columns": 17,
        "rows": 460937
       }
      },
      "text/html": [
       "<div>\n",
       "<style scoped>\n",
       "    .dataframe tbody tr th:only-of-type {\n",
       "        vertical-align: middle;\n",
       "    }\n",
       "\n",
       "    .dataframe tbody tr th {\n",
       "        vertical-align: top;\n",
       "    }\n",
       "\n",
       "    .dataframe thead th {\n",
       "        text-align: right;\n",
       "    }\n",
       "</style>\n",
       "<table border=\"1\" class=\"dataframe\">\n",
       "  <thead>\n",
       "    <tr style=\"text-align: right;\">\n",
       "      <th></th>\n",
       "      <th>cidade_destinatario</th>\n",
       "      <th>uf</th>\n",
       "      <th>grp_transportadora</th>\n",
       "      <th>dt_despacho_pedido</th>\n",
       "      <th>dt_entrega_pedido</th>\n",
       "      <th>dt_previsao_entrega_cliente</th>\n",
       "      <th>dt_criacao</th>\n",
       "      <th>dt_pagamento_pedido</th>\n",
       "      <th>flg_existem_ocorrencias</th>\n",
       "      <th>tp_praca</th>\n",
       "      <th>des_unidade_negocio</th>\n",
       "      <th>des_cd_origem</th>\n",
       "      <th>qtd_dias_tat</th>\n",
       "      <th>entregue_no_prazo</th>\n",
       "      <th>qtde_dias_prazo_entrega</th>\n",
       "      <th>qtde_dias_efet_entrega</th>\n",
       "      <th>pct_atraso</th>\n",
       "    </tr>\n",
       "  </thead>\n",
       "  <tbody>\n",
       "    <tr>\n",
       "      <th>0</th>\n",
       "      <td>CURITIBA</td>\n",
       "      <td>PR</td>\n",
       "      <td>Transportadora 4</td>\n",
       "      <td>2023-12-04 05:56:39</td>\n",
       "      <td>2023-12-07</td>\n",
       "      <td>2023-12-07</td>\n",
       "      <td>2023-11-30</td>\n",
       "      <td>2023-11-30</td>\n",
       "      <td>False</td>\n",
       "      <td>Capital</td>\n",
       "      <td>Multi</td>\n",
       "      <td>PR-Campina G. Sul</td>\n",
       "      <td>5.0</td>\n",
       "      <td>True</td>\n",
       "      <td>2 days 18:03:21</td>\n",
       "      <td>2 days 18:03:21</td>\n",
       "      <td>1.000000</td>\n",
       "    </tr>\n",
       "    <tr>\n",
       "      <th>1</th>\n",
       "      <td>PARAUAPEBAS</td>\n",
       "      <td>PA</td>\n",
       "      <td>Transportadora 2</td>\n",
       "      <td>2023-11-21 12:39:55</td>\n",
       "      <td>2023-12-01</td>\n",
       "      <td>2023-12-11</td>\n",
       "      <td>2023-11-15</td>\n",
       "      <td>2023-11-17</td>\n",
       "      <td>False</td>\n",
       "      <td>Interior</td>\n",
       "      <td>Mono</td>\n",
       "      <td>PR-Campina G. Sul</td>\n",
       "      <td>10.0</td>\n",
       "      <td>True</td>\n",
       "      <td>19 days 11:20:05</td>\n",
       "      <td>9 days 11:20:05</td>\n",
       "      <td>0.486449</td>\n",
       "    </tr>\n",
       "    <tr>\n",
       "      <th>2</th>\n",
       "      <td>JACAREZINHO</td>\n",
       "      <td>PR</td>\n",
       "      <td>Transportadora 4</td>\n",
       "      <td>2023-10-28 10:12:24</td>\n",
       "      <td>2023-10-31</td>\n",
       "      <td>2023-11-06</td>\n",
       "      <td>2023-10-26</td>\n",
       "      <td>2023-10-27</td>\n",
       "      <td>False</td>\n",
       "      <td>Interior</td>\n",
       "      <td>Mono</td>\n",
       "      <td>PR-Campina G. Sul</td>\n",
       "      <td>2.0</td>\n",
       "      <td>True</td>\n",
       "      <td>8 days 13:47:36</td>\n",
       "      <td>2 days 13:47:36</td>\n",
       "      <td>0.300269</td>\n",
       "    </tr>\n",
       "    <tr>\n",
       "      <th>3</th>\n",
       "      <td>SÃO PAULO</td>\n",
       "      <td>SP</td>\n",
       "      <td>Transportadora 5</td>\n",
       "      <td>2023-08-23 17:52:06</td>\n",
       "      <td>2023-08-24</td>\n",
       "      <td>2023-08-24</td>\n",
       "      <td>2023-08-22</td>\n",
       "      <td>2023-08-22</td>\n",
       "      <td>False</td>\n",
       "      <td>Capital</td>\n",
       "      <td>Multi</td>\n",
       "      <td>PR-Campina G. Sul</td>\n",
       "      <td>2.0</td>\n",
       "      <td>True</td>\n",
       "      <td>0 days 06:07:54</td>\n",
       "      <td>0 days 06:07:54</td>\n",
       "      <td>1.000000</td>\n",
       "    </tr>\n",
       "    <tr>\n",
       "      <th>4</th>\n",
       "      <td>SAO LUIS</td>\n",
       "      <td>MA</td>\n",
       "      <td>Transportadora 3</td>\n",
       "      <td>2023-08-14 08:41:00</td>\n",
       "      <td>2023-08-23</td>\n",
       "      <td>2023-08-24</td>\n",
       "      <td>2023-08-13</td>\n",
       "      <td>2023-08-12</td>\n",
       "      <td>False</td>\n",
       "      <td>Capital</td>\n",
       "      <td>Multi</td>\n",
       "      <td>PR-Campina G. Sul</td>\n",
       "      <td>8.0</td>\n",
       "      <td>True</td>\n",
       "      <td>9 days 15:19:00</td>\n",
       "      <td>8 days 15:19:00</td>\n",
       "      <td>0.896246</td>\n",
       "    </tr>\n",
       "    <tr>\n",
       "      <th>...</th>\n",
       "      <td>...</td>\n",
       "      <td>...</td>\n",
       "      <td>...</td>\n",
       "      <td>...</td>\n",
       "      <td>...</td>\n",
       "      <td>...</td>\n",
       "      <td>...</td>\n",
       "      <td>...</td>\n",
       "      <td>...</td>\n",
       "      <td>...</td>\n",
       "      <td>...</td>\n",
       "      <td>...</td>\n",
       "      <td>...</td>\n",
       "      <td>...</td>\n",
       "      <td>...</td>\n",
       "      <td>...</td>\n",
       "      <td>...</td>\n",
       "    </tr>\n",
       "    <tr>\n",
       "      <th>503523</th>\n",
       "      <td>BELO HORIZONTE</td>\n",
       "      <td>MG</td>\n",
       "      <td>Transportadora 3</td>\n",
       "      <td>2023-09-04 15:43:43</td>\n",
       "      <td>2023-09-07</td>\n",
       "      <td>2023-09-06</td>\n",
       "      <td>2023-09-03</td>\n",
       "      <td>2023-09-03</td>\n",
       "      <td>True</td>\n",
       "      <td>Capital</td>\n",
       "      <td>Multi</td>\n",
       "      <td>PR-Campina G. Sul</td>\n",
       "      <td>3.0</td>\n",
       "      <td>False</td>\n",
       "      <td>1 days 08:16:17</td>\n",
       "      <td>2 days 08:16:17</td>\n",
       "      <td>1.743693</td>\n",
       "    </tr>\n",
       "    <tr>\n",
       "      <th>503525</th>\n",
       "      <td>SÃO PAULO</td>\n",
       "      <td>SP</td>\n",
       "      <td>Transportadora 5</td>\n",
       "      <td>2023-08-23 17:39:03</td>\n",
       "      <td>2023-08-26</td>\n",
       "      <td>2023-08-24</td>\n",
       "      <td>2023-08-22</td>\n",
       "      <td>2023-08-22</td>\n",
       "      <td>True</td>\n",
       "      <td>Capital</td>\n",
       "      <td>Multi</td>\n",
       "      <td>PR-Campina G. Sul</td>\n",
       "      <td>3.0</td>\n",
       "      <td>False</td>\n",
       "      <td>0 days 06:20:57</td>\n",
       "      <td>2 days 06:20:57</td>\n",
       "      <td>8.560047</td>\n",
       "    </tr>\n",
       "    <tr>\n",
       "      <th>503526</th>\n",
       "      <td>São Paulo</td>\n",
       "      <td>SP</td>\n",
       "      <td>Transportadora 1</td>\n",
       "      <td>2023-09-19 15:09:15</td>\n",
       "      <td>2023-09-25</td>\n",
       "      <td>2023-09-20</td>\n",
       "      <td>2023-09-18</td>\n",
       "      <td>2023-09-16</td>\n",
       "      <td>True</td>\n",
       "      <td>Capital</td>\n",
       "      <td>Multi</td>\n",
       "      <td>SP-Jaguaré</td>\n",
       "      <td>6.0</td>\n",
       "      <td>False</td>\n",
       "      <td>0 days 08:50:45</td>\n",
       "      <td>5 days 08:50:45</td>\n",
       "      <td>14.565709</td>\n",
       "    </tr>\n",
       "    <tr>\n",
       "      <th>503527</th>\n",
       "      <td>NITERÓI</td>\n",
       "      <td>RJ</td>\n",
       "      <td>Transportadora 3</td>\n",
       "      <td>2023-10-16 14:59:28</td>\n",
       "      <td>2023-10-19</td>\n",
       "      <td>2023-10-18</td>\n",
       "      <td>2023-10-14</td>\n",
       "      <td>2023-10-14</td>\n",
       "      <td>False</td>\n",
       "      <td>Reg. Metropolitana</td>\n",
       "      <td>Mono</td>\n",
       "      <td>SP-Registro</td>\n",
       "      <td>4.0</td>\n",
       "      <td>False</td>\n",
       "      <td>1 days 09:00:32</td>\n",
       "      <td>2 days 09:00:32</td>\n",
       "      <td>1.727077</td>\n",
       "    </tr>\n",
       "    <tr>\n",
       "      <th>503529</th>\n",
       "      <td>Canoas</td>\n",
       "      <td>RS</td>\n",
       "      <td>Transportadora 4</td>\n",
       "      <td>2023-07-11 03:14:47</td>\n",
       "      <td>2023-07-13</td>\n",
       "      <td>2023-07-12</td>\n",
       "      <td>2023-07-11</td>\n",
       "      <td>2023-07-09</td>\n",
       "      <td>False</td>\n",
       "      <td>Capital</td>\n",
       "      <td>Multi</td>\n",
       "      <td>PR-Campina G. Sul</td>\n",
       "      <td>4.0</td>\n",
       "      <td>False</td>\n",
       "      <td>0 days 20:45:13</td>\n",
       "      <td>1 days 20:45:13</td>\n",
       "      <td>2.156425</td>\n",
       "    </tr>\n",
       "  </tbody>\n",
       "</table>\n",
       "<p>460937 rows × 17 columns</p>\n",
       "</div>"
      ],
      "text/plain": [
       "       cidade_destinatario  uf grp_transportadora  dt_despacho_pedido  \\\n",
       "0                 CURITIBA  PR   Transportadora 4 2023-12-04 05:56:39   \n",
       "1              PARAUAPEBAS  PA   Transportadora 2 2023-11-21 12:39:55   \n",
       "2              JACAREZINHO  PR   Transportadora 4 2023-10-28 10:12:24   \n",
       "3                SÃO PAULO  SP   Transportadora 5 2023-08-23 17:52:06   \n",
       "4                 SAO LUIS  MA   Transportadora 3 2023-08-14 08:41:00   \n",
       "...                    ...  ..                ...                 ...   \n",
       "503523      BELO HORIZONTE  MG   Transportadora 3 2023-09-04 15:43:43   \n",
       "503525           SÃO PAULO  SP   Transportadora 5 2023-08-23 17:39:03   \n",
       "503526           São Paulo  SP   Transportadora 1 2023-09-19 15:09:15   \n",
       "503527             NITERÓI  RJ   Transportadora 3 2023-10-16 14:59:28   \n",
       "503529              Canoas  RS   Transportadora 4 2023-07-11 03:14:47   \n",
       "\n",
       "       dt_entrega_pedido dt_previsao_entrega_cliente dt_criacao  \\\n",
       "0             2023-12-07                  2023-12-07 2023-11-30   \n",
       "1             2023-12-01                  2023-12-11 2023-11-15   \n",
       "2             2023-10-31                  2023-11-06 2023-10-26   \n",
       "3             2023-08-24                  2023-08-24 2023-08-22   \n",
       "4             2023-08-23                  2023-08-24 2023-08-13   \n",
       "...                  ...                         ...        ...   \n",
       "503523        2023-09-07                  2023-09-06 2023-09-03   \n",
       "503525        2023-08-26                  2023-08-24 2023-08-22   \n",
       "503526        2023-09-25                  2023-09-20 2023-09-18   \n",
       "503527        2023-10-19                  2023-10-18 2023-10-14   \n",
       "503529        2023-07-13                  2023-07-12 2023-07-11   \n",
       "\n",
       "       dt_pagamento_pedido  flg_existem_ocorrencias            tp_praca  \\\n",
       "0               2023-11-30                    False             Capital   \n",
       "1               2023-11-17                    False            Interior   \n",
       "2               2023-10-27                    False            Interior   \n",
       "3               2023-08-22                    False             Capital   \n",
       "4               2023-08-12                    False             Capital   \n",
       "...                    ...                      ...                 ...   \n",
       "503523          2023-09-03                     True             Capital   \n",
       "503525          2023-08-22                     True             Capital   \n",
       "503526          2023-09-16                     True             Capital   \n",
       "503527          2023-10-14                    False  Reg. Metropolitana   \n",
       "503529          2023-07-09                    False             Capital   \n",
       "\n",
       "       des_unidade_negocio      des_cd_origem  qtd_dias_tat  \\\n",
       "0                    Multi  PR-Campina G. Sul           5.0   \n",
       "1                     Mono  PR-Campina G. Sul          10.0   \n",
       "2                     Mono  PR-Campina G. Sul           2.0   \n",
       "3                    Multi  PR-Campina G. Sul           2.0   \n",
       "4                    Multi  PR-Campina G. Sul           8.0   \n",
       "...                    ...                ...           ...   \n",
       "503523               Multi  PR-Campina G. Sul           3.0   \n",
       "503525               Multi  PR-Campina G. Sul           3.0   \n",
       "503526               Multi         SP-Jaguaré           6.0   \n",
       "503527                Mono        SP-Registro           4.0   \n",
       "503529               Multi  PR-Campina G. Sul           4.0   \n",
       "\n",
       "        entregue_no_prazo qtde_dias_prazo_entrega qtde_dias_efet_entrega  \\\n",
       "0                    True         2 days 18:03:21        2 days 18:03:21   \n",
       "1                    True        19 days 11:20:05        9 days 11:20:05   \n",
       "2                    True         8 days 13:47:36        2 days 13:47:36   \n",
       "3                    True         0 days 06:07:54        0 days 06:07:54   \n",
       "4                    True         9 days 15:19:00        8 days 15:19:00   \n",
       "...                   ...                     ...                    ...   \n",
       "503523              False         1 days 08:16:17        2 days 08:16:17   \n",
       "503525              False         0 days 06:20:57        2 days 06:20:57   \n",
       "503526              False         0 days 08:50:45        5 days 08:50:45   \n",
       "503527              False         1 days 09:00:32        2 days 09:00:32   \n",
       "503529              False         0 days 20:45:13        1 days 20:45:13   \n",
       "\n",
       "        pct_atraso  \n",
       "0         1.000000  \n",
       "1         0.486449  \n",
       "2         0.300269  \n",
       "3         1.000000  \n",
       "4         0.896246  \n",
       "...            ...  \n",
       "503523    1.743693  \n",
       "503525    8.560047  \n",
       "503526   14.565709  \n",
       "503527    1.727077  \n",
       "503529    2.156425  \n",
       "\n",
       "[460937 rows x 17 columns]"
      ]
     },
     "execution_count": 14,
     "metadata": {},
     "output_type": "execute_result"
    }
   ],
   "source": [
    "import pandas as pd\n",
    "\n",
    "df = pd.read_csv(\"dados/amostra.csv\")\n",
    "\n",
    "df[\"dt_despacho_pedido\"] = pd.to_datetime(\n",
    "    df[\"dt_despacho_pedido\"] + \" \" + df[\"hr_despacho_pedido\"],\n",
    "    format=\"%Y-%m-%d %H:%M:%S\",\n",
    ")\n",
    "\n",
    "df[\"dt_entrega_pedido\"] = pd.to_datetime(df[\"dt_entrega_pedido\"])\n",
    "\n",
    "df[\"dt_previsao_entrega_cliente\"] = pd.to_datetime(df[\"dt_previsao_entrega_cliente\"])\n",
    "\n",
    "df[\"dt_criacao\"] = pd.to_datetime(df[\"dt_criacao\"])\n",
    "\n",
    "df[\"dt_pagamento_pedido\"] = pd.to_datetime(df[\"dt_pagamento_pedido\"])\n",
    "\n",
    "df[\"flg_existem_ocorrencias\"] = df[\"flg_existem_ocorrencias\"].str.lower() == \"sim\"\n",
    "\n",
    "df[\"entregue_no_prazo\"] = df[\"tp_performance_entrega\"] == \"Entregue no Prazo\"\n",
    "\n",
    "df[\"qtde_dias_prazo_entrega\"] = (\n",
    "    df[\"dt_previsao_entrega_cliente\"] - df[\"dt_despacho_pedido\"]\n",
    ")\n",
    "\n",
    "df[\"qtde_dias_efet_entrega\"] = df[\"dt_entrega_pedido\"] - df[\"dt_despacho_pedido\"]\n",
    "\n",
    "df[\"pct_atraso\"] = (\n",
    "    df[\"qtde_dias_efet_entrega\"].dt.total_seconds()\n",
    "    / df[\"qtde_dias_prazo_entrega\"].dt.total_seconds()\n",
    ")\n",
    "df[\"pct_atraso\"] = df[\"pct_atraso\"].clip(lower=0)\n",
    "\n",
    "df = df.query(\n",
    "    \"not dt_despacho_pedido.isnull() and not dt_entrega_pedido.isnull() and not dt_pagamento_pedido.isnull()\"\n",
    ")\n",
    "\n",
    "df.drop(\n",
    "    columns=[\n",
    "        \"Unnamed: 0\",\n",
    "        \"hr_despacho_pedido\",\n",
    "        \"hr_entrega_pedido\",\n",
    "        \"tp_performance_entrega\",\n",
    "        \"cod_pedido\",\n",
    "    ],\n",
    "    inplace=True,\n",
    ")\n",
    "\n",
    "df"
   ]
  },
  {
   "cell_type": "markdown",
   "id": "ff769d7b",
   "metadata": {},
   "source": [
    "## Tratamentos\n",
    "Segue tratamentos efetuados em cima do dataset:\n",
    "\n",
    "- Foi retirado do dataframe os registros cuja **data despacho** esteja vazia.\n",
    "- Foi retirado do dataframe os registros cuja **data entrega** esteja vazia.\n",
    "- Foi retirado do dataframe os registros cuja **data pagamento** esteja vazia.\n",
    "- Os campos contendo **horas** foram aglutinados nos seus respectivos campos de data.\n",
    "  \n",
    "## Descrição das colunas\n",
    "\n",
    "- `cidade_destinatario`: Cidade de destino do pedido.\n",
    "- `uf`: Estado da cidade destino.\n",
    "- `grp_transportadora`: (Grupo) transportado que está realizando a entrega.\n",
    "- `dt_despacho_pedido`: data e hora em que o pedido foi despachado.\n",
    "- `dt_entrega_pedido`: data e hora em que o pedido foi entregue.\n",
    "- `dt_previsao_entrega_cliente`: data prevista para a entrega do pedido.\n",
    "- `dt_criacao`: data de cria o do pedido.\n",
    "- `dt_pagamento_pedido`: data do pagamento do pedido.\n",
    "- `flg_existem_ocorrencias`: booleano que indica se houve ocorrencias durante a entrega do pedido (problema no andamento da entrega).\n",
    "- `tp_praca`: Tipo de praça de entrega (Capital, Interior, Região Metropolitana).\n",
    "- `des_unidade_negocio`: Classificação da unidade de negócio.\n",
    "- `des_cd_origem`: Centro de distribuição de origem.\n",
    "- `entregue_no_prazo`: booleano que indica se o pedido foi entregue no prazo.\n",
    "- `qtde_dias_prazo_entrega`: quantidade de dias entre a **data de despacho** e a **data de entrega prevista**.\n",
    "- `qtde_dias_efet_entrega`: quantidade de dias entre a **data de despacho** e a **data de entrega efetiva**."
   ]
  },
  {
   "cell_type": "markdown",
   "id": "794daac5",
   "metadata": {},
   "source": [
    "# Informações gerais"
   ]
  },
  {
   "cell_type": "code",
   "execution_count": 15,
   "id": "739c11be",
   "metadata": {},
   "outputs": [
    {
     "data": {
      "text/markdown": [
       "Percentual de entregas fora do prazo: 3,82 %"
      ],
      "text/plain": [
       "<IPython.core.display.Markdown object>"
      ]
     },
     "metadata": {},
     "output_type": "display_data"
    },
    {
     "data": {
      "text/markdown": [
       "Centros de distribuições disponíveis: PR-Campina G. Sul, SP-Registro, SP-Jaguaré, SP-Cajamar"
      ],
      "text/plain": [
       "<IPython.core.display.Markdown object>"
      ]
     },
     "metadata": {},
     "output_type": "display_data"
    },
    {
     "data": {
      "text/markdown": [
       "Transportadoras de cada centro de distribuição:"
      ],
      "text/plain": [
       "<IPython.core.display.Markdown object>"
      ]
     },
     "metadata": {},
     "output_type": "display_data"
    },
    {
     "data": {
      "text/markdown": [
       "- PR-Campina G. Sul:"
      ],
      "text/plain": [
       "<IPython.core.display.Markdown object>"
      ]
     },
     "metadata": {},
     "output_type": "display_data"
    },
    {
     "data": {
      "text/markdown": [
       "              - Transportadora 1"
      ],
      "text/plain": [
       "<IPython.core.display.Markdown object>"
      ]
     },
     "metadata": {},
     "output_type": "display_data"
    },
    {
     "data": {
      "text/markdown": [
       "              - Transportadora 2"
      ],
      "text/plain": [
       "<IPython.core.display.Markdown object>"
      ]
     },
     "metadata": {},
     "output_type": "display_data"
    },
    {
     "data": {
      "text/markdown": [
       "              - Transportadora 3"
      ],
      "text/plain": [
       "<IPython.core.display.Markdown object>"
      ]
     },
     "metadata": {},
     "output_type": "display_data"
    },
    {
     "data": {
      "text/markdown": [
       "              - Transportadora 4"
      ],
      "text/plain": [
       "<IPython.core.display.Markdown object>"
      ]
     },
     "metadata": {},
     "output_type": "display_data"
    },
    {
     "data": {
      "text/markdown": [
       "              - Transportadora 5"
      ],
      "text/plain": [
       "<IPython.core.display.Markdown object>"
      ]
     },
     "metadata": {},
     "output_type": "display_data"
    },
    {
     "data": {
      "text/markdown": [
       "              - Transportadora 6"
      ],
      "text/plain": [
       "<IPython.core.display.Markdown object>"
      ]
     },
     "metadata": {},
     "output_type": "display_data"
    },
    {
     "data": {
      "text/markdown": [
       "              - Transportadora 7"
      ],
      "text/plain": [
       "<IPython.core.display.Markdown object>"
      ]
     },
     "metadata": {},
     "output_type": "display_data"
    },
    {
     "data": {
      "text/markdown": [
       "- SP-Registro:"
      ],
      "text/plain": [
       "<IPython.core.display.Markdown object>"
      ]
     },
     "metadata": {},
     "output_type": "display_data"
    },
    {
     "data": {
      "text/markdown": [
       "              - Transportadora 1"
      ],
      "text/plain": [
       "<IPython.core.display.Markdown object>"
      ]
     },
     "metadata": {},
     "output_type": "display_data"
    },
    {
     "data": {
      "text/markdown": [
       "              - Transportadora 2"
      ],
      "text/plain": [
       "<IPython.core.display.Markdown object>"
      ]
     },
     "metadata": {},
     "output_type": "display_data"
    },
    {
     "data": {
      "text/markdown": [
       "              - Transportadora 3"
      ],
      "text/plain": [
       "<IPython.core.display.Markdown object>"
      ]
     },
     "metadata": {},
     "output_type": "display_data"
    },
    {
     "data": {
      "text/markdown": [
       "              - Transportadora 4"
      ],
      "text/plain": [
       "<IPython.core.display.Markdown object>"
      ]
     },
     "metadata": {},
     "output_type": "display_data"
    },
    {
     "data": {
      "text/markdown": [
       "- SP-Jaguaré:"
      ],
      "text/plain": [
       "<IPython.core.display.Markdown object>"
      ]
     },
     "metadata": {},
     "output_type": "display_data"
    },
    {
     "data": {
      "text/markdown": [
       "              - Transportadora 1"
      ],
      "text/plain": [
       "<IPython.core.display.Markdown object>"
      ]
     },
     "metadata": {},
     "output_type": "display_data"
    },
    {
     "data": {
      "text/markdown": [
       "              - Transportadora 3"
      ],
      "text/plain": [
       "<IPython.core.display.Markdown object>"
      ]
     },
     "metadata": {},
     "output_type": "display_data"
    },
    {
     "data": {
      "text/markdown": [
       "              - Transportadora 5"
      ],
      "text/plain": [
       "<IPython.core.display.Markdown object>"
      ]
     },
     "metadata": {},
     "output_type": "display_data"
    },
    {
     "data": {
      "text/markdown": [
       "              - Transportadora 7"
      ],
      "text/plain": [
       "<IPython.core.display.Markdown object>"
      ]
     },
     "metadata": {},
     "output_type": "display_data"
    },
    {
     "data": {
      "text/markdown": [
       "              - Transportadora 8"
      ],
      "text/plain": [
       "<IPython.core.display.Markdown object>"
      ]
     },
     "metadata": {},
     "output_type": "display_data"
    },
    {
     "data": {
      "text/markdown": [
       "- SP-Cajamar:"
      ],
      "text/plain": [
       "<IPython.core.display.Markdown object>"
      ]
     },
     "metadata": {},
     "output_type": "display_data"
    },
    {
     "data": {
      "text/markdown": [
       "              - Transportadora 1"
      ],
      "text/plain": [
       "<IPython.core.display.Markdown object>"
      ]
     },
     "metadata": {},
     "output_type": "display_data"
    },
    {
     "data": {
      "text/markdown": [
       "              - Transportadora 2"
      ],
      "text/plain": [
       "<IPython.core.display.Markdown object>"
      ]
     },
     "metadata": {},
     "output_type": "display_data"
    },
    {
     "data": {
      "text/markdown": [
       "              - Transportadora 3"
      ],
      "text/plain": [
       "<IPython.core.display.Markdown object>"
      ]
     },
     "metadata": {},
     "output_type": "display_data"
    },
    {
     "data": {
      "text/markdown": [
       "              - Transportadora 5"
      ],
      "text/plain": [
       "<IPython.core.display.Markdown object>"
      ]
     },
     "metadata": {},
     "output_type": "display_data"
    }
   ],
   "source": [
    "import locale\n",
    "from IPython.display import Markdown\n",
    "\n",
    "# Cálculo do percentual de entregas fora do prazo\n",
    "\n",
    "locale.setlocale(locale.LC_ALL, 'pt_BR.UTF-8')\n",
    "percentual = (len(df.query('entregue_no_prazo == False')) / len(df)) * 100\n",
    "\n",
    "display(Markdown(f\"Percentual de entregas fora do prazo: {locale.format_string('%.2f %%', percentual, grouping=True)}\"))\n",
    "\n",
    "# Lista de Centro de distribuição (origem da entrega)\n",
    "display(Markdown(f\"Centros de distribuições disponíveis: {', '.join(df['des_cd_origem'].unique())}\"))\n",
    "\n",
    "# Transportadoras de cada centro de distribuição\n",
    "display(Markdown(\"Transportadoras de cada centro de distribuição:\"))\n",
    "for centros_dist in df[\"des_cd_origem\"].unique():\n",
    "    lista_transportadoras = df.query(\"des_cd_origem == @centros_dist\")[\"grp_transportadora\"].unique()\n",
    "    lista_transportadoras.sort()\n",
    "\n",
    "    display(\n",
    "        Markdown(\n",
    "            f\"- {centros_dist}:\"\n",
    "        )\n",
    "    )\n",
    "\n",
    "    for transportadora in lista_transportadoras:\n",
    "        display(\n",
    "            Markdown(\n",
    "                f\"              - {transportadora}\"\n",
    "            )\n",
    "        )"
   ]
  },
  {
   "cell_type": "markdown",
   "id": "ee942784",
   "metadata": {},
   "source": [
    "# Análise Exploratória\n",
    "\n",
    "## Entendimento entregas atrasadas sobre espaço temporal "
   ]
  },
  {
   "cell_type": "code",
   "execution_count": 16,
   "id": "6ad0cef9",
   "metadata": {},
   "outputs": [
    {
     "data": {
      "application/javascript": "(function(root) {\n  function now() {\n    return new Date();\n  }\n\n  var force = true;\n  var py_version = '3.4.3'.replace('rc', '-rc.').replace('.dev', '-dev.');\n  var reloading = false;\n  var Bokeh = root.Bokeh;\n\n  if (typeof (root._bokeh_timeout) === \"undefined\" || force) {\n    root._bokeh_timeout = Date.now() + 5000;\n    root._bokeh_failed_load = false;\n  }\n\n  function run_callbacks() {\n    try {\n      root._bokeh_onload_callbacks.forEach(function(callback) {\n        if (callback != null)\n          callback();\n      });\n    } finally {\n      delete root._bokeh_onload_callbacks;\n    }\n    console.debug(\"Bokeh: all callbacks have finished\");\n  }\n\n  function load_libs(css_urls, js_urls, js_modules, js_exports, callback) {\n    if (css_urls == null) css_urls = [];\n    if (js_urls == null) js_urls = [];\n    if (js_modules == null) js_modules = [];\n    if (js_exports == null) js_exports = {};\n\n    root._bokeh_onload_callbacks.push(callback);\n\n    if (root._bokeh_is_loading > 0) {\n      console.debug(\"Bokeh: BokehJS is being loaded, scheduling callback at\", now());\n      return null;\n    }\n    if (js_urls.length === 0 && js_modules.length === 0 && Object.keys(js_exports).length === 0) {\n      run_callbacks();\n      return null;\n    }\n    if (!reloading) {\n      console.debug(\"Bokeh: BokehJS not loaded, scheduling load and callback at\", now());\n    }\n\n    function on_load() {\n      root._bokeh_is_loading--;\n      if (root._bokeh_is_loading === 0) {\n        console.debug(\"Bokeh: all BokehJS libraries/stylesheets loaded\");\n        run_callbacks()\n      }\n    }\n    window._bokeh_on_load = on_load\n\n    function on_error() {\n      console.error(\"failed to load \" + url);\n    }\n\n    var skip = [];\n    if (window.requirejs) {\n      window.requirejs.config({'packages': {}, 'paths': {}, 'shim': {}});\n      root._bokeh_is_loading = css_urls.length + 0;\n    } else {\n      root._bokeh_is_loading = css_urls.length + js_urls.length + js_modules.length + Object.keys(js_exports).length;\n    }\n\n    var existing_stylesheets = []\n    var links = document.getElementsByTagName('link')\n    for (var i = 0; i < links.length; i++) {\n      var link = links[i]\n      if (link.href != null) {\n\texisting_stylesheets.push(link.href)\n      }\n    }\n    for (var i = 0; i < css_urls.length; i++) {\n      var url = css_urls[i];\n      if (existing_stylesheets.indexOf(url) !== -1) {\n\ton_load()\n\tcontinue;\n      }\n      const element = document.createElement(\"link\");\n      element.onload = on_load;\n      element.onerror = on_error;\n      element.rel = \"stylesheet\";\n      element.type = \"text/css\";\n      element.href = url;\n      console.debug(\"Bokeh: injecting link tag for BokehJS stylesheet: \", url);\n      document.body.appendChild(element);\n    }    var existing_scripts = []\n    var scripts = document.getElementsByTagName('script')\n    for (var i = 0; i < scripts.length; i++) {\n      var script = scripts[i]\n      if (script.src != null) {\n\texisting_scripts.push(script.src)\n      }\n    }\n    for (var i = 0; i < js_urls.length; i++) {\n      var url = js_urls[i];\n      if (skip.indexOf(url) !== -1 || existing_scripts.indexOf(url) !== -1) {\n\tif (!window.requirejs) {\n\t  on_load();\n\t}\n\tcontinue;\n      }\n      var element = document.createElement('script');\n      element.onload = on_load;\n      element.onerror = on_error;\n      element.async = false;\n      element.src = url;\n      console.debug(\"Bokeh: injecting script tag for BokehJS library: \", url);\n      document.head.appendChild(element);\n    }\n    for (var i = 0; i < js_modules.length; i++) {\n      var url = js_modules[i];\n      if (skip.indexOf(url) !== -1 || existing_scripts.indexOf(url) !== -1) {\n\tif (!window.requirejs) {\n\t  on_load();\n\t}\n\tcontinue;\n      }\n      var element = document.createElement('script');\n      element.onload = on_load;\n      element.onerror = on_error;\n      element.async = false;\n      element.src = url;\n      element.type = \"module\";\n      console.debug(\"Bokeh: injecting script tag for BokehJS library: \", url);\n      document.head.appendChild(element);\n    }\n    for (const name in js_exports) {\n      var url = js_exports[name];\n      if (skip.indexOf(url) >= 0 || root[name] != null) {\n\tif (!window.requirejs) {\n\t  on_load();\n\t}\n\tcontinue;\n      }\n      var element = document.createElement('script');\n      element.onerror = on_error;\n      element.async = false;\n      element.type = \"module\";\n      console.debug(\"Bokeh: injecting script tag for BokehJS library: \", url);\n      element.textContent = `\n      import ${name} from \"${url}\"\n      window.${name} = ${name}\n      window._bokeh_on_load()\n      `\n      document.head.appendChild(element);\n    }\n    if (!js_urls.length && !js_modules.length) {\n      on_load()\n    }\n  };\n\n  function inject_raw_css(css) {\n    const element = document.createElement(\"style\");\n    element.appendChild(document.createTextNode(css));\n    document.body.appendChild(element);\n  }\n\n  var js_urls = [\"https://cdn.bokeh.org/bokeh/release/bokeh-3.4.3.min.js\", \"https://cdn.bokeh.org/bokeh/release/bokeh-gl-3.4.3.min.js\", \"https://cdn.bokeh.org/bokeh/release/bokeh-widgets-3.4.3.min.js\", \"https://cdn.bokeh.org/bokeh/release/bokeh-tables-3.4.3.min.js\", \"https://cdn.holoviz.org/panel/1.4.5/dist/panel.min.js\"];\n  var js_modules = [];\n  var js_exports = {};\n  var css_urls = [];\n  var inline_js = [    function(Bokeh) {\n      Bokeh.set_log_level(\"info\");\n    },\nfunction(Bokeh) {} // ensure no trailing comma for IE\n  ];\n\n  function run_inline_js() {\n    if ((root.Bokeh !== undefined) || (force === true)) {\n      for (var i = 0; i < inline_js.length; i++) {\n\ttry {\n          inline_js[i].call(root, root.Bokeh);\n\t} catch(e) {\n\t  if (!reloading) {\n\t    throw e;\n\t  }\n\t}\n      }\n      // Cache old bokeh versions\n      if (Bokeh != undefined && !reloading) {\n\tvar NewBokeh = root.Bokeh;\n\tif (Bokeh.versions === undefined) {\n\t  Bokeh.versions = new Map();\n\t}\n\tif (NewBokeh.version !== Bokeh.version) {\n\t  Bokeh.versions.set(NewBokeh.version, NewBokeh)\n\t}\n\troot.Bokeh = Bokeh;\n      }} else if (Date.now() < root._bokeh_timeout) {\n      setTimeout(run_inline_js, 100);\n    } else if (!root._bokeh_failed_load) {\n      console.log(\"Bokeh: BokehJS failed to load within specified timeout.\");\n      root._bokeh_failed_load = true;\n    }\n    root._bokeh_is_initializing = false\n  }\n\n  function load_or_wait() {\n    // Implement a backoff loop that tries to ensure we do not load multiple\n    // versions of Bokeh and its dependencies at the same time.\n    // In recent versions we use the root._bokeh_is_initializing flag\n    // to determine whether there is an ongoing attempt to initialize\n    // bokeh, however for backward compatibility we also try to ensure\n    // that we do not start loading a newer (Panel>=1.0 and Bokeh>3) version\n    // before older versions are fully initialized.\n    if (root._bokeh_is_initializing && Date.now() > root._bokeh_timeout) {\n      root._bokeh_is_initializing = false;\n      root._bokeh_onload_callbacks = undefined;\n      console.log(\"Bokeh: BokehJS was loaded multiple times but one version failed to initialize.\");\n      load_or_wait();\n    } else if (root._bokeh_is_initializing || (typeof root._bokeh_is_initializing === \"undefined\" && root._bokeh_onload_callbacks !== undefined)) {\n      setTimeout(load_or_wait, 100);\n    } else {\n      root._bokeh_is_initializing = true\n      root._bokeh_onload_callbacks = []\n      var bokeh_loaded = Bokeh != null && (Bokeh.version === py_version || (Bokeh.versions !== undefined && Bokeh.versions.has(py_version)));\n      if (!reloading && !bokeh_loaded) {\n\troot.Bokeh = undefined;\n      }\n      load_libs(css_urls, js_urls, js_modules, js_exports, function() {\n\tconsole.debug(\"Bokeh: BokehJS plotting callback run at\", now());\n\trun_inline_js();\n      });\n    }\n  }\n  // Give older versions of the autoload script a head-start to ensure\n  // they initialize before we start loading newer version.\n  setTimeout(load_or_wait, 100)\n}(window));",
      "application/vnd.holoviews_load.v0+json": ""
     },
     "metadata": {},
     "output_type": "display_data"
    },
    {
     "data": {
      "application/javascript": "\nif ((window.PyViz === undefined) || (window.PyViz instanceof HTMLElement)) {\n  window.PyViz = {comms: {}, comm_status:{}, kernels:{}, receivers: {}, plot_index: []}\n}\n\n\n    function JupyterCommManager() {\n    }\n\n    JupyterCommManager.prototype.register_target = function(plot_id, comm_id, msg_handler) {\n      if (window.comm_manager || ((window.Jupyter !== undefined) && (Jupyter.notebook.kernel != null))) {\n        var comm_manager = window.comm_manager || Jupyter.notebook.kernel.comm_manager;\n        comm_manager.register_target(comm_id, function(comm) {\n          comm.on_msg(msg_handler);\n        });\n      } else if ((plot_id in window.PyViz.kernels) && (window.PyViz.kernels[plot_id])) {\n        window.PyViz.kernels[plot_id].registerCommTarget(comm_id, function(comm) {\n          comm.onMsg = msg_handler;\n        });\n      } else if (typeof google != 'undefined' && google.colab.kernel != null) {\n        google.colab.kernel.comms.registerTarget(comm_id, (comm) => {\n          var messages = comm.messages[Symbol.asyncIterator]();\n          function processIteratorResult(result) {\n            var message = result.value;\n            console.log(message)\n            var content = {data: message.data, comm_id};\n            var buffers = []\n            for (var buffer of message.buffers || []) {\n              buffers.push(new DataView(buffer))\n            }\n            var metadata = message.metadata || {};\n            var msg = {content, buffers, metadata}\n            msg_handler(msg);\n            return messages.next().then(processIteratorResult);\n          }\n          return messages.next().then(processIteratorResult);\n        })\n      }\n    }\n\n    JupyterCommManager.prototype.get_client_comm = function(plot_id, comm_id, msg_handler) {\n      if (comm_id in window.PyViz.comms) {\n        return window.PyViz.comms[comm_id];\n      } else if (window.comm_manager || ((window.Jupyter !== undefined) && (Jupyter.notebook.kernel != null))) {\n        var comm_manager = window.comm_manager || Jupyter.notebook.kernel.comm_manager;\n        var comm = comm_manager.new_comm(comm_id, {}, {}, {}, comm_id);\n        if (msg_handler) {\n          comm.on_msg(msg_handler);\n        }\n      } else if ((plot_id in window.PyViz.kernels) && (window.PyViz.kernels[plot_id])) {\n        var comm = window.PyViz.kernels[plot_id].connectToComm(comm_id);\n        comm.open();\n        if (msg_handler) {\n          comm.onMsg = msg_handler;\n        }\n      } else if (typeof google != 'undefined' && google.colab.kernel != null) {\n        var comm_promise = google.colab.kernel.comms.open(comm_id)\n        comm_promise.then((comm) => {\n          window.PyViz.comms[comm_id] = comm;\n          if (msg_handler) {\n            var messages = comm.messages[Symbol.asyncIterator]();\n            function processIteratorResult(result) {\n              var message = result.value;\n              var content = {data: message.data};\n              var metadata = message.metadata || {comm_id};\n              var msg = {content, metadata}\n              msg_handler(msg);\n              return messages.next().then(processIteratorResult);\n            }\n            return messages.next().then(processIteratorResult);\n          }\n        }) \n        var sendClosure = (data, metadata, buffers, disposeOnDone) => {\n          return comm_promise.then((comm) => {\n            comm.send(data, metadata, buffers, disposeOnDone);\n          });\n        };\n        var comm = {\n          send: sendClosure\n        };\n      }\n      window.PyViz.comms[comm_id] = comm;\n      return comm;\n    }\n    window.PyViz.comm_manager = new JupyterCommManager();\n    \n\n\nvar JS_MIME_TYPE = 'application/javascript';\nvar HTML_MIME_TYPE = 'text/html';\nvar EXEC_MIME_TYPE = 'application/vnd.holoviews_exec.v0+json';\nvar CLASS_NAME = 'output';\n\n/**\n * Render data to the DOM node\n */\nfunction render(props, node) {\n  var div = document.createElement(\"div\");\n  var script = document.createElement(\"script\");\n  node.appendChild(div);\n  node.appendChild(script);\n}\n\n/**\n * Handle when a new output is added\n */\nfunction handle_add_output(event, handle) {\n  var output_area = handle.output_area;\n  var output = handle.output;\n  if ((output.data == undefined) || (!output.data.hasOwnProperty(EXEC_MIME_TYPE))) {\n    return\n  }\n  var id = output.metadata[EXEC_MIME_TYPE][\"id\"];\n  var toinsert = output_area.element.find(\".\" + CLASS_NAME.split(' ')[0]);\n  if (id !== undefined) {\n    var nchildren = toinsert.length;\n    var html_node = toinsert[nchildren-1].children[0];\n    html_node.innerHTML = output.data[HTML_MIME_TYPE];\n    var scripts = [];\n    var nodelist = html_node.querySelectorAll(\"script\");\n    for (var i in nodelist) {\n      if (nodelist.hasOwnProperty(i)) {\n        scripts.push(nodelist[i])\n      }\n    }\n\n    scripts.forEach( function (oldScript) {\n      var newScript = document.createElement(\"script\");\n      var attrs = [];\n      var nodemap = oldScript.attributes;\n      for (var j in nodemap) {\n        if (nodemap.hasOwnProperty(j)) {\n          attrs.push(nodemap[j])\n        }\n      }\n      attrs.forEach(function(attr) { newScript.setAttribute(attr.name, attr.value) });\n      newScript.appendChild(document.createTextNode(oldScript.innerHTML));\n      oldScript.parentNode.replaceChild(newScript, oldScript);\n    });\n    if (JS_MIME_TYPE in output.data) {\n      toinsert[nchildren-1].children[1].textContent = output.data[JS_MIME_TYPE];\n    }\n    output_area._hv_plot_id = id;\n    if ((window.Bokeh !== undefined) && (id in Bokeh.index)) {\n      window.PyViz.plot_index[id] = Bokeh.index[id];\n    } else {\n      window.PyViz.plot_index[id] = null;\n    }\n  } else if (output.metadata[EXEC_MIME_TYPE][\"server_id\"] !== undefined) {\n    var bk_div = document.createElement(\"div\");\n    bk_div.innerHTML = output.data[HTML_MIME_TYPE];\n    var script_attrs = bk_div.children[0].attributes;\n    for (var i = 0; i < script_attrs.length; i++) {\n      toinsert[toinsert.length - 1].childNodes[1].setAttribute(script_attrs[i].name, script_attrs[i].value);\n    }\n    // store reference to server id on output_area\n    output_area._bokeh_server_id = output.metadata[EXEC_MIME_TYPE][\"server_id\"];\n  }\n}\n\n/**\n * Handle when an output is cleared or removed\n */\nfunction handle_clear_output(event, handle) {\n  var id = handle.cell.output_area._hv_plot_id;\n  var server_id = handle.cell.output_area._bokeh_server_id;\n  if (((id === undefined) || !(id in PyViz.plot_index)) && (server_id !== undefined)) { return; }\n  var comm = window.PyViz.comm_manager.get_client_comm(\"hv-extension-comm\", \"hv-extension-comm\", function () {});\n  if (server_id !== null) {\n    comm.send({event_type: 'server_delete', 'id': server_id});\n    return;\n  } else if (comm !== null) {\n    comm.send({event_type: 'delete', 'id': id});\n  }\n  delete PyViz.plot_index[id];\n  if ((window.Bokeh !== undefined) & (id in window.Bokeh.index)) {\n    var doc = window.Bokeh.index[id].model.document\n    doc.clear();\n    const i = window.Bokeh.documents.indexOf(doc);\n    if (i > -1) {\n      window.Bokeh.documents.splice(i, 1);\n    }\n  }\n}\n\n/**\n * Handle kernel restart event\n */\nfunction handle_kernel_cleanup(event, handle) {\n  delete PyViz.comms[\"hv-extension-comm\"];\n  window.PyViz.plot_index = {}\n}\n\n/**\n * Handle update_display_data messages\n */\nfunction handle_update_output(event, handle) {\n  handle_clear_output(event, {cell: {output_area: handle.output_area}})\n  handle_add_output(event, handle)\n}\n\nfunction register_renderer(events, OutputArea) {\n  function append_mime(data, metadata, element) {\n    // create a DOM node to render to\n    var toinsert = this.create_output_subarea(\n    metadata,\n    CLASS_NAME,\n    EXEC_MIME_TYPE\n    );\n    this.keyboard_manager.register_events(toinsert);\n    // Render to node\n    var props = {data: data, metadata: metadata[EXEC_MIME_TYPE]};\n    render(props, toinsert[0]);\n    element.append(toinsert);\n    return toinsert\n  }\n\n  events.on('output_added.OutputArea', handle_add_output);\n  events.on('output_updated.OutputArea', handle_update_output);\n  events.on('clear_output.CodeCell', handle_clear_output);\n  events.on('delete.Cell', handle_clear_output);\n  events.on('kernel_ready.Kernel', handle_kernel_cleanup);\n\n  OutputArea.prototype.register_mime_type(EXEC_MIME_TYPE, append_mime, {\n    safe: true,\n    index: 0\n  });\n}\n\nif (window.Jupyter !== undefined) {\n  try {\n    var events = require('base/js/events');\n    var OutputArea = require('notebook/js/outputarea').OutputArea;\n    if (OutputArea.prototype.mime_types().indexOf(EXEC_MIME_TYPE) == -1) {\n      register_renderer(events, OutputArea);\n    }\n  } catch(err) {\n  }\n}\n",
      "application/vnd.holoviews_load.v0+json": ""
     },
     "metadata": {},
     "output_type": "display_data"
    },
    {
     "data": {
      "text/html": [
       "<style>*[data-root-id],\n",
       "*[data-root-id] > * {\n",
       "  box-sizing: border-box;\n",
       "  font-family: var(--jp-ui-font-family);\n",
       "  font-size: var(--jp-ui-font-size1);\n",
       "  color: var(--vscode-editor-foreground, var(--jp-ui-font-color1));\n",
       "}\n",
       "\n",
       "/* Override VSCode background color */\n",
       ".cell-output-ipywidget-background:has(\n",
       "    > .cell-output-ipywidget-background > .lm-Widget > *[data-root-id]\n",
       "  ),\n",
       ".cell-output-ipywidget-background:has(> .lm-Widget > *[data-root-id]) {\n",
       "  background-color: transparent !important;\n",
       "}\n",
       "</style>"
      ]
     },
     "metadata": {},
     "output_type": "display_data"
    },
    {
     "data": {
      "application/vnd.holoviews_exec.v0+json": "",
      "text/html": [
       "<div id='p1002'>\n",
       "  <div id=\"c4087ab6-9a55-4e97-b68f-70f6d853b26a\" data-root-id=\"p1002\" style=\"display: contents;\"></div>\n",
       "</div>\n",
       "<script type=\"application/javascript\">(function(root) {\n",
       "  var docs_json = {\"6bcb4651-315b-4ae6-8341-72f95d47f57c\":{\"version\":\"3.4.3\",\"title\":\"Bokeh Application\",\"roots\":[{\"type\":\"object\",\"name\":\"panel.models.browser.BrowserInfo\",\"id\":\"p1002\"},{\"type\":\"object\",\"name\":\"panel.models.comm_manager.CommManager\",\"id\":\"p1003\",\"attributes\":{\"plot_id\":\"p1002\",\"comm_id\":\"3fb1b2c83c754c48a6f370a28d4e000c\",\"client_comm_id\":\"0094b6a2add24478b398303102f725d2\"}}],\"defs\":[{\"type\":\"model\",\"name\":\"ReactiveHTML1\"},{\"type\":\"model\",\"name\":\"FlexBox1\",\"properties\":[{\"name\":\"align_content\",\"kind\":\"Any\",\"default\":\"flex-start\"},{\"name\":\"align_items\",\"kind\":\"Any\",\"default\":\"flex-start\"},{\"name\":\"flex_direction\",\"kind\":\"Any\",\"default\":\"row\"},{\"name\":\"flex_wrap\",\"kind\":\"Any\",\"default\":\"wrap\"},{\"name\":\"gap\",\"kind\":\"Any\",\"default\":\"\"},{\"name\":\"justify_content\",\"kind\":\"Any\",\"default\":\"flex-start\"}]},{\"type\":\"model\",\"name\":\"FloatPanel1\",\"properties\":[{\"name\":\"config\",\"kind\":\"Any\",\"default\":{\"type\":\"map\"}},{\"name\":\"contained\",\"kind\":\"Any\",\"default\":true},{\"name\":\"position\",\"kind\":\"Any\",\"default\":\"right-top\"},{\"name\":\"offsetx\",\"kind\":\"Any\",\"default\":null},{\"name\":\"offsety\",\"kind\":\"Any\",\"default\":null},{\"name\":\"theme\",\"kind\":\"Any\",\"default\":\"primary\"},{\"name\":\"status\",\"kind\":\"Any\",\"default\":\"normalized\"}]},{\"type\":\"model\",\"name\":\"GridStack1\",\"properties\":[{\"name\":\"mode\",\"kind\":\"Any\",\"default\":\"warn\"},{\"name\":\"ncols\",\"kind\":\"Any\",\"default\":null},{\"name\":\"nrows\",\"kind\":\"Any\",\"default\":null},{\"name\":\"allow_resize\",\"kind\":\"Any\",\"default\":true},{\"name\":\"allow_drag\",\"kind\":\"Any\",\"default\":true},{\"name\":\"state\",\"kind\":\"Any\",\"default\":[]}]},{\"type\":\"model\",\"name\":\"drag1\",\"properties\":[{\"name\":\"slider_width\",\"kind\":\"Any\",\"default\":5},{\"name\":\"slider_color\",\"kind\":\"Any\",\"default\":\"black\"},{\"name\":\"value\",\"kind\":\"Any\",\"default\":50}]},{\"type\":\"model\",\"name\":\"click1\",\"properties\":[{\"name\":\"terminal_output\",\"kind\":\"Any\",\"default\":\"\"},{\"name\":\"debug_name\",\"kind\":\"Any\",\"default\":\"\"},{\"name\":\"clears\",\"kind\":\"Any\",\"default\":0}]},{\"type\":\"model\",\"name\":\"FastWrapper1\",\"properties\":[{\"name\":\"object\",\"kind\":\"Any\",\"default\":null},{\"name\":\"style\",\"kind\":\"Any\",\"default\":null}]},{\"type\":\"model\",\"name\":\"NotificationAreaBase1\",\"properties\":[{\"name\":\"js_events\",\"kind\":\"Any\",\"default\":{\"type\":\"map\"}},{\"name\":\"position\",\"kind\":\"Any\",\"default\":\"bottom-right\"},{\"name\":\"_clear\",\"kind\":\"Any\",\"default\":0}]},{\"type\":\"model\",\"name\":\"NotificationArea1\",\"properties\":[{\"name\":\"js_events\",\"kind\":\"Any\",\"default\":{\"type\":\"map\"}},{\"name\":\"notifications\",\"kind\":\"Any\",\"default\":[]},{\"name\":\"position\",\"kind\":\"Any\",\"default\":\"bottom-right\"},{\"name\":\"_clear\",\"kind\":\"Any\",\"default\":0},{\"name\":\"types\",\"kind\":\"Any\",\"default\":[{\"type\":\"map\",\"entries\":[[\"type\",\"warning\"],[\"background\",\"#ffc107\"],[\"icon\",{\"type\":\"map\",\"entries\":[[\"className\",\"fas fa-exclamation-triangle\"],[\"tagName\",\"i\"],[\"color\",\"white\"]]}]]},{\"type\":\"map\",\"entries\":[[\"type\",\"info\"],[\"background\",\"#007bff\"],[\"icon\",{\"type\":\"map\",\"entries\":[[\"className\",\"fas fa-info-circle\"],[\"tagName\",\"i\"],[\"color\",\"white\"]]}]]}]}]},{\"type\":\"model\",\"name\":\"Notification\",\"properties\":[{\"name\":\"background\",\"kind\":\"Any\",\"default\":null},{\"name\":\"duration\",\"kind\":\"Any\",\"default\":3000},{\"name\":\"icon\",\"kind\":\"Any\",\"default\":null},{\"name\":\"message\",\"kind\":\"Any\",\"default\":\"\"},{\"name\":\"notification_type\",\"kind\":\"Any\",\"default\":null},{\"name\":\"_destroyed\",\"kind\":\"Any\",\"default\":false}]},{\"type\":\"model\",\"name\":\"TemplateActions1\",\"properties\":[{\"name\":\"open_modal\",\"kind\":\"Any\",\"default\":0},{\"name\":\"close_modal\",\"kind\":\"Any\",\"default\":0}]},{\"type\":\"model\",\"name\":\"BootstrapTemplateActions1\",\"properties\":[{\"name\":\"open_modal\",\"kind\":\"Any\",\"default\":0},{\"name\":\"close_modal\",\"kind\":\"Any\",\"default\":0}]},{\"type\":\"model\",\"name\":\"TemplateEditor1\",\"properties\":[{\"name\":\"layout\",\"kind\":\"Any\",\"default\":[]}]},{\"type\":\"model\",\"name\":\"MaterialTemplateActions1\",\"properties\":[{\"name\":\"open_modal\",\"kind\":\"Any\",\"default\":0},{\"name\":\"close_modal\",\"kind\":\"Any\",\"default\":0}]},{\"type\":\"model\",\"name\":\"copy_to_clipboard1\",\"properties\":[{\"name\":\"fill\",\"kind\":\"Any\",\"default\":\"none\"},{\"name\":\"value\",\"kind\":\"Any\",\"default\":null}]}]}};\n",
       "  var render_items = [{\"docid\":\"6bcb4651-315b-4ae6-8341-72f95d47f57c\",\"roots\":{\"p1002\":\"c4087ab6-9a55-4e97-b68f-70f6d853b26a\"},\"root_ids\":[\"p1002\"]}];\n",
       "  var docs = Object.values(docs_json)\n",
       "  if (!docs) {\n",
       "    return\n",
       "  }\n",
       "  const py_version = docs[0].version.replace('rc', '-rc.').replace('.dev', '-dev.')\n",
       "  async function embed_document(root) {\n",
       "    var Bokeh = get_bokeh(root)\n",
       "    await Bokeh.embed.embed_items_notebook(docs_json, render_items);\n",
       "    for (const render_item of render_items) {\n",
       "      for (const root_id of render_item.root_ids) {\n",
       "\tconst id_el = document.getElementById(root_id)\n",
       "\tif (id_el.children.length && id_el.children[0].hasAttribute('data-root-id')) {\n",
       "\t  const root_el = id_el.children[0]\n",
       "\t  root_el.id = root_el.id + '-rendered'\n",
       "\t  for (const child of root_el.children) {\n",
       "            // Ensure JupyterLab does not capture keyboard shortcuts\n",
       "            // see: https://jupyterlab.readthedocs.io/en/4.1.x/extension/notebook.html#keyboard-interaction-model\n",
       "\t    child.setAttribute('data-lm-suppress-shortcuts', 'true')\n",
       "\t  }\n",
       "\t}\n",
       "      }\n",
       "    }\n",
       "  }\n",
       "  function get_bokeh(root) {\n",
       "    if (root.Bokeh === undefined) {\n",
       "      return null\n",
       "    } else if (root.Bokeh.version !== py_version) {\n",
       "      if (root.Bokeh.versions === undefined || !root.Bokeh.versions.has(py_version)) {\n",
       "\treturn null\n",
       "      }\n",
       "      return root.Bokeh.versions.get(py_version);\n",
       "    } else if (root.Bokeh.version === py_version) {\n",
       "      return root.Bokeh\n",
       "    }\n",
       "    return null\n",
       "  }\n",
       "  function is_loaded(root) {\n",
       "    var Bokeh = get_bokeh(root)\n",
       "    return (Bokeh != null && Bokeh.Panel !== undefined)\n",
       "  }\n",
       "  if (is_loaded(root)) {\n",
       "    embed_document(root);\n",
       "  } else {\n",
       "    var attempts = 0;\n",
       "    var timer = setInterval(function(root) {\n",
       "      if (is_loaded(root)) {\n",
       "        clearInterval(timer);\n",
       "        embed_document(root);\n",
       "      } else if (document.readyState == \"complete\") {\n",
       "        attempts++;\n",
       "        if (attempts > 200) {\n",
       "          clearInterval(timer);\n",
       "\t  var Bokeh = get_bokeh(root)\n",
       "\t  if (Bokeh == null || Bokeh.Panel == null) {\n",
       "            console.warn(\"Panel: ERROR: Unable to run Panel code because Bokeh or Panel library is missing\");\n",
       "\t  } else {\n",
       "\t    console.warn(\"Panel: WARNING: Attempting to render but not all required libraries could be resolved.\")\n",
       "\t    embed_document(root)\n",
       "\t  }\n",
       "        }\n",
       "      }\n",
       "    }, 25, root)\n",
       "  }\n",
       "})(window);</script>"
      ]
     },
     "metadata": {
      "application/vnd.holoviews_exec.v0+json": {
       "id": "p1002"
      }
     },
     "output_type": "display_data"
    },
    {
     "data": {},
     "metadata": {},
     "output_type": "display_data"
    },
    {
     "data": {
      "application/vnd.holoviews_exec.v0+json": "",
      "text/html": [
       "<div id='p1005'>\n",
       "  <div id=\"d9ba5e87-c8c8-4078-8173-9eef2f20e4b6\" data-root-id=\"p1005\" style=\"display: contents;\"></div>\n",
       "</div>\n",
       "<script type=\"application/javascript\">(function(root) {\n",
       "  var docs_json = {\"7e7da15d-92ea-432e-a901-900ffaad395a\":{\"version\":\"3.4.3\",\"title\":\"Bokeh Application\",\"roots\":[{\"type\":\"object\",\"name\":\"Row\",\"id\":\"p1005\",\"attributes\":{\"name\":\"Row00960\",\"tags\":[\"embedded\"],\"stylesheets\":[\"\\n:host(.pn-loading):before, .pn-loading:before {\\n  background-color: #c3c3c3;\\n  mask-size: auto calc(min(50%, 400px));\\n  -webkit-mask-size: auto calc(min(50%, 400px));\\n}\",{\"type\":\"object\",\"name\":\"ImportedStyleSheet\",\"id\":\"p1008\",\"attributes\":{\"url\":\"https://cdn.holoviz.org/panel/1.4.5/dist/css/loading.css\"}},{\"type\":\"object\",\"name\":\"ImportedStyleSheet\",\"id\":\"p1065\",\"attributes\":{\"url\":\"https://cdn.holoviz.org/panel/1.4.5/dist/css/listpanel.css\"}},{\"type\":\"object\",\"name\":\"ImportedStyleSheet\",\"id\":\"p1006\",\"attributes\":{\"url\":\"https://cdn.holoviz.org/panel/1.4.5/dist/bundled/theme/default.css\"}},{\"type\":\"object\",\"name\":\"ImportedStyleSheet\",\"id\":\"p1007\",\"attributes\":{\"url\":\"https://cdn.holoviz.org/panel/1.4.5/dist/bundled/theme/native.css\"}}],\"min_width\":1200,\"margin\":0,\"sizing_mode\":\"stretch_width\",\"align\":\"start\",\"children\":[{\"type\":\"object\",\"name\":\"Spacer\",\"id\":\"p1009\",\"attributes\":{\"name\":\"HSpacer00967\",\"stylesheets\":[\"\\n:host(.pn-loading):before, .pn-loading:before {\\n  background-color: #c3c3c3;\\n  mask-size: auto calc(min(50%, 400px));\\n  -webkit-mask-size: auto calc(min(50%, 400px));\\n}\",{\"id\":\"p1008\"},{\"id\":\"p1006\"},{\"id\":\"p1007\"}],\"margin\":0,\"sizing_mode\":\"stretch_width\",\"align\":\"start\"}},{\"type\":\"object\",\"name\":\"Figure\",\"id\":\"p1017\",\"attributes\":{\"width\":1200,\"margin\":[5,10],\"sizing_mode\":\"fixed\",\"align\":\"start\",\"x_range\":{\"type\":\"object\",\"name\":\"FactorRange\",\"id\":\"p1010\",\"attributes\":{\"tags\":[[[\"dt_entrega_pedido\",null],[\"entregue_no_prazo\",null]],[]],\"factors\":[[\"2023-07-31 00:00:00\",\"False\"],[\"2023-07-31 00:00:00\",\"True\"],[\"2023-08-31 00:00:00\",\"False\"],[\"2023-08-31 00:00:00\",\"True\"],[\"2023-09-30 00:00:00\",\"False\"],[\"2023-09-30 00:00:00\",\"True\"],[\"2023-10-31 00:00:00\",\"False\"],[\"2023-10-31 00:00:00\",\"True\"],[\"2023-11-30 00:00:00\",\"False\"],[\"2023-11-30 00:00:00\",\"True\"],[\"2023-12-31 00:00:00\",\"False\"],[\"2023-12-31 00:00:00\",\"True\"],[\"2024-01-31 00:00:00\",\"False\"],[\"2024-01-31 00:00:00\",\"True\"],[\"2024-12-31 00:00:00\",\"False\"],[\"2024-12-31 00:00:00\",\"True\"]]}},\"y_range\":{\"type\":\"object\",\"name\":\"Range1d\",\"id\":\"p1011\",\"attributes\":{\"tags\":[[[\"0\",null]],{\"type\":\"map\",\"entries\":[[\"invert_yaxis\",false],[\"autorange\",false]]}],\"end\":154034.4,\"reset_start\":0.0,\"reset_end\":154034.4}},\"x_scale\":{\"type\":\"object\",\"name\":\"CategoricalScale\",\"id\":\"p1027\"},\"y_scale\":{\"type\":\"object\",\"name\":\"LinearScale\",\"id\":\"p1028\"},\"title\":{\"type\":\"object\",\"name\":\"Title\",\"id\":\"p1020\",\"attributes\":{\"text\":\"Ocorr\\u00eancias Mensais Entregas no Prazo vs Fora do Prazo\",\"text_color\":\"black\",\"text_font_size\":\"12pt\"}},\"renderers\":[{\"type\":\"object\",\"name\":\"GlyphRenderer\",\"id\":\"p1058\",\"attributes\":{\"data_source\":{\"type\":\"object\",\"name\":\"ColumnDataSource\",\"id\":\"p1049\",\"attributes\":{\"selected\":{\"type\":\"object\",\"name\":\"Selection\",\"id\":\"p1050\",\"attributes\":{\"indices\":[],\"line_indices\":[]}},\"selection_policy\":{\"type\":\"object\",\"name\":\"UnionRenderers\",\"id\":\"p1051\"},\"data\":{\"type\":\"map\",\"entries\":[[\"xoffsets\",[[\"2023-07-31 00:00:00\",\"False\"],[\"2023-08-31 00:00:00\",\"False\"],[\"2023-09-30 00:00:00\",\"False\"],[\"2023-10-31 00:00:00\",\"False\"],[\"2023-11-30 00:00:00\",\"False\"],[\"2023-12-31 00:00:00\",\"False\"],[\"2024-01-31 00:00:00\",\"False\"],[\"2024-12-31 00:00:00\",\"False\"],[\"2023-07-31 00:00:00\",\"True\"],[\"2023-08-31 00:00:00\",\"True\"],[\"2023-09-30 00:00:00\",\"True\"],[\"2023-10-31 00:00:00\",\"True\"],[\"2023-11-30 00:00:00\",\"True\"],[\"2023-12-31 00:00:00\",\"True\"],[\"2024-01-31 00:00:00\",\"True\"]]],[\"A_0\",{\"type\":\"ndarray\",\"array\":{\"type\":\"bytes\",\"data\":\"mQkAAMQHAADZCQAA0gYAAKcPAACOEQAAdQEAAAgAAABr6gAAufoAADzrAADF5QAAACMCAAzNAACeHQAA\"},\"shape\":[15],\"dtype\":\"int32\",\"order\":\"little\"}],[\"dt_entrega_pedido\",{\"type\":\"ndarray\",\"array\":{\"type\":\"bytes\",\"data\":\"AADA6ZOaeEIAAAA8jqR4QgAAgCg2rnhCAADAejC4eEIAAEBn2MF4QgAAgLnSy3hCAADAC83VeEIAAAAyoEF5QgAAwOmTmnhCAAAAPI6keEIAAIAoNq54QgAAwHowuHhCAABAZ9jBeEIAAIC50st4QgAAwAvN1XhC\"},\"shape\":[15],\"dtype\":\"float64\",\"order\":\"little\"}],[\"entregue_no_prazo\",[\"False\",\"False\",\"False\",\"False\",\"False\",\"False\",\"False\",\"False\",\"True\",\"True\",\"True\",\"True\",\"True\",\"True\",\"True\"]]]}}},\"view\":{\"type\":\"object\",\"name\":\"CDSView\",\"id\":\"p1059\",\"attributes\":{\"filter\":{\"type\":\"object\",\"name\":\"AllIndices\",\"id\":\"p1060\"}}},\"glyph\":{\"type\":\"object\",\"name\":\"VBar\",\"id\":\"p1055\",\"attributes\":{\"tags\":[\"apply_ranges\"],\"x\":{\"type\":\"field\",\"field\":\"xoffsets\"},\"width\":{\"type\":\"value\",\"value\":0.8},\"top\":{\"type\":\"field\",\"field\":\"A_0\"},\"fill_color\":{\"type\":\"field\",\"field\":\"entregue_no_prazo\",\"transform\":{\"type\":\"object\",\"name\":\"CategoricalColorMapper\",\"id\":\"p1048\",\"attributes\":{\"palette\":[\"#30a2da\",\"#fc4f30\"],\"factors\":[\"False\",\"True\"]}}},\"hatch_color\":{\"type\":\"field\",\"field\":\"entregue_no_prazo\",\"transform\":{\"id\":\"p1048\"}}}},\"selection_glyph\":{\"type\":\"object\",\"name\":\"VBar\",\"id\":\"p1061\",\"attributes\":{\"tags\":[\"apply_ranges\"],\"x\":{\"type\":\"field\",\"field\":\"xoffsets\"},\"width\":{\"type\":\"value\",\"value\":0.8},\"bottom\":{\"type\":\"value\",\"value\":0},\"top\":{\"type\":\"field\",\"field\":\"A_0\"},\"line_color\":{\"type\":\"value\",\"value\":\"black\"},\"line_alpha\":{\"type\":\"value\",\"value\":1.0},\"line_width\":{\"type\":\"value\",\"value\":1},\"line_join\":{\"type\":\"value\",\"value\":\"bevel\"},\"line_cap\":{\"type\":\"value\",\"value\":\"butt\"},\"line_dash\":{\"type\":\"value\",\"value\":[]},\"line_dash_offset\":{\"type\":\"value\",\"value\":0},\"fill_color\":{\"type\":\"field\",\"field\":\"entregue_no_prazo\",\"transform\":{\"id\":\"p1048\"}},\"fill_alpha\":{\"type\":\"value\",\"value\":1.0},\"hatch_color\":{\"type\":\"field\",\"field\":\"entregue_no_prazo\",\"transform\":{\"id\":\"p1048\"}},\"hatch_alpha\":{\"type\":\"value\",\"value\":1.0},\"hatch_scale\":{\"type\":\"value\",\"value\":12.0},\"hatch_pattern\":{\"type\":\"value\",\"value\":null},\"hatch_weight\":{\"type\":\"value\",\"value\":1.0}}},\"nonselection_glyph\":{\"type\":\"object\",\"name\":\"VBar\",\"id\":\"p1056\",\"attributes\":{\"tags\":[\"apply_ranges\"],\"x\":{\"type\":\"field\",\"field\":\"xoffsets\"},\"width\":{\"type\":\"value\",\"value\":0.8},\"top\":{\"type\":\"field\",\"field\":\"A_0\"},\"line_alpha\":{\"type\":\"value\",\"value\":0.1},\"fill_color\":{\"type\":\"field\",\"field\":\"entregue_no_prazo\",\"transform\":{\"id\":\"p1048\"}},\"fill_alpha\":{\"type\":\"value\",\"value\":0.1},\"hatch_color\":{\"type\":\"field\",\"field\":\"entregue_no_prazo\",\"transform\":{\"id\":\"p1048\"}},\"hatch_alpha\":{\"type\":\"value\",\"value\":0.1}}},\"muted_glyph\":{\"type\":\"object\",\"name\":\"VBar\",\"id\":\"p1057\",\"attributes\":{\"tags\":[\"apply_ranges\"],\"x\":{\"type\":\"field\",\"field\":\"xoffsets\"},\"width\":{\"type\":\"value\",\"value\":0.8},\"top\":{\"type\":\"field\",\"field\":\"A_0\"},\"line_alpha\":{\"type\":\"value\",\"value\":0.2},\"fill_color\":{\"type\":\"field\",\"field\":\"entregue_no_prazo\",\"transform\":{\"id\":\"p1048\"}},\"fill_alpha\":{\"type\":\"value\",\"value\":0.2},\"hatch_color\":{\"type\":\"field\",\"field\":\"entregue_no_prazo\",\"transform\":{\"id\":\"p1048\"}},\"hatch_alpha\":{\"type\":\"value\",\"value\":0.2}}}}}],\"toolbar\":{\"type\":\"object\",\"name\":\"Toolbar\",\"id\":\"p1026\",\"attributes\":{\"tools\":[{\"type\":\"object\",\"name\":\"WheelZoomTool\",\"id\":\"p1015\",\"attributes\":{\"tags\":[\"hv_created\"],\"renderers\":\"auto\",\"zoom_together\":\"none\"}},{\"type\":\"object\",\"name\":\"HoverTool\",\"id\":\"p1016\",\"attributes\":{\"tags\":[\"hv_created\"],\"renderers\":[{\"id\":\"p1058\"}],\"tooltips\":[[\"dt_entrega_pedido\",\"@{dt_entrega_pedido}{%F %T}\"],[\"entregue_no_prazo\",\"@{entregue_no_prazo}\"],[\"0\",\"@{A_0}\"]],\"formatters\":{\"type\":\"map\",\"entries\":[[\"@{dt_entrega_pedido}\",\"datetime\"]]}}},{\"type\":\"object\",\"name\":\"SaveTool\",\"id\":\"p1039\"},{\"type\":\"object\",\"name\":\"PanTool\",\"id\":\"p1040\"},{\"type\":\"object\",\"name\":\"BoxZoomTool\",\"id\":\"p1041\",\"attributes\":{\"overlay\":{\"type\":\"object\",\"name\":\"BoxAnnotation\",\"id\":\"p1042\",\"attributes\":{\"syncable\":false,\"level\":\"overlay\",\"visible\":false,\"left\":{\"type\":\"number\",\"value\":\"nan\"},\"right\":{\"type\":\"number\",\"value\":\"nan\"},\"top\":{\"type\":\"number\",\"value\":\"nan\"},\"bottom\":{\"type\":\"number\",\"value\":\"nan\"},\"left_units\":\"canvas\",\"right_units\":\"canvas\",\"top_units\":\"canvas\",\"bottom_units\":\"canvas\",\"line_color\":\"black\",\"line_alpha\":1.0,\"line_width\":2,\"line_dash\":[4,4],\"fill_color\":\"lightgrey\",\"fill_alpha\":0.5}}}},{\"type\":\"object\",\"name\":\"ResetTool\",\"id\":\"p1047\"}],\"active_drag\":{\"id\":\"p1040\"},\"active_scroll\":{\"id\":\"p1015\"}}},\"left\":[{\"type\":\"object\",\"name\":\"LinearAxis\",\"id\":\"p1034\",\"attributes\":{\"ticker\":{\"type\":\"object\",\"name\":\"BasicTicker\",\"id\":\"p1035\",\"attributes\":{\"mantissas\":[1,2,5]}},\"formatter\":{\"type\":\"object\",\"name\":\"NumeralTickFormatter\",\"id\":\"p1004\",\"attributes\":{\"language\":\"pt-br\"}},\"axis_label\":\"Quantidade de Entregas\",\"major_label_policy\":{\"type\":\"object\",\"name\":\"AllLabels\",\"id\":\"p1037\"}}}],\"below\":[{\"type\":\"object\",\"name\":\"CategoricalAxis\",\"id\":\"p1029\",\"attributes\":{\"ticker\":{\"type\":\"object\",\"name\":\"CategoricalTicker\",\"id\":\"p1030\"},\"formatter\":{\"type\":\"object\",\"name\":\"CategoricalTickFormatter\",\"id\":\"p1031\"},\"axis_label\":\"M\\u00eas\",\"major_label_orientation\":0.7853981633974483,\"major_label_policy\":{\"type\":\"object\",\"name\":\"AllLabels\",\"id\":\"p1032\"}}}],\"center\":[{\"type\":\"object\",\"name\":\"Grid\",\"id\":\"p1033\",\"attributes\":{\"axis\":{\"id\":\"p1029\"},\"grid_line_color\":null}},{\"type\":\"object\",\"name\":\"Grid\",\"id\":\"p1038\",\"attributes\":{\"dimension\":1,\"axis\":{\"id\":\"p1034\"},\"grid_line_color\":null}}],\"min_border_top\":10,\"min_border_bottom\":10,\"min_border_left\":10,\"min_border_right\":10,\"output_backend\":\"webgl\"}},{\"type\":\"object\",\"name\":\"Spacer\",\"id\":\"p1063\",\"attributes\":{\"name\":\"HSpacer00968\",\"stylesheets\":[\"\\n:host(.pn-loading):before, .pn-loading:before {\\n  background-color: #c3c3c3;\\n  mask-size: auto calc(min(50%, 400px));\\n  -webkit-mask-size: auto calc(min(50%, 400px));\\n}\",{\"id\":\"p1008\"},{\"id\":\"p1006\"},{\"id\":\"p1007\"}],\"margin\":0,\"sizing_mode\":\"stretch_width\",\"align\":\"start\"}}]}}],\"defs\":[{\"type\":\"model\",\"name\":\"ReactiveHTML1\"},{\"type\":\"model\",\"name\":\"FlexBox1\",\"properties\":[{\"name\":\"align_content\",\"kind\":\"Any\",\"default\":\"flex-start\"},{\"name\":\"align_items\",\"kind\":\"Any\",\"default\":\"flex-start\"},{\"name\":\"flex_direction\",\"kind\":\"Any\",\"default\":\"row\"},{\"name\":\"flex_wrap\",\"kind\":\"Any\",\"default\":\"wrap\"},{\"name\":\"gap\",\"kind\":\"Any\",\"default\":\"\"},{\"name\":\"justify_content\",\"kind\":\"Any\",\"default\":\"flex-start\"}]},{\"type\":\"model\",\"name\":\"FloatPanel1\",\"properties\":[{\"name\":\"config\",\"kind\":\"Any\",\"default\":{\"type\":\"map\"}},{\"name\":\"contained\",\"kind\":\"Any\",\"default\":true},{\"name\":\"position\",\"kind\":\"Any\",\"default\":\"right-top\"},{\"name\":\"offsetx\",\"kind\":\"Any\",\"default\":null},{\"name\":\"offsety\",\"kind\":\"Any\",\"default\":null},{\"name\":\"theme\",\"kind\":\"Any\",\"default\":\"primary\"},{\"name\":\"status\",\"kind\":\"Any\",\"default\":\"normalized\"}]},{\"type\":\"model\",\"name\":\"GridStack1\",\"properties\":[{\"name\":\"mode\",\"kind\":\"Any\",\"default\":\"warn\"},{\"name\":\"ncols\",\"kind\":\"Any\",\"default\":null},{\"name\":\"nrows\",\"kind\":\"Any\",\"default\":null},{\"name\":\"allow_resize\",\"kind\":\"Any\",\"default\":true},{\"name\":\"allow_drag\",\"kind\":\"Any\",\"default\":true},{\"name\":\"state\",\"kind\":\"Any\",\"default\":[]}]},{\"type\":\"model\",\"name\":\"drag1\",\"properties\":[{\"name\":\"slider_width\",\"kind\":\"Any\",\"default\":5},{\"name\":\"slider_color\",\"kind\":\"Any\",\"default\":\"black\"},{\"name\":\"value\",\"kind\":\"Any\",\"default\":50}]},{\"type\":\"model\",\"name\":\"click1\",\"properties\":[{\"name\":\"terminal_output\",\"kind\":\"Any\",\"default\":\"\"},{\"name\":\"debug_name\",\"kind\":\"Any\",\"default\":\"\"},{\"name\":\"clears\",\"kind\":\"Any\",\"default\":0}]},{\"type\":\"model\",\"name\":\"FastWrapper1\",\"properties\":[{\"name\":\"object\",\"kind\":\"Any\",\"default\":null},{\"name\":\"style\",\"kind\":\"Any\",\"default\":null}]},{\"type\":\"model\",\"name\":\"NotificationAreaBase1\",\"properties\":[{\"name\":\"js_events\",\"kind\":\"Any\",\"default\":{\"type\":\"map\"}},{\"name\":\"position\",\"kind\":\"Any\",\"default\":\"bottom-right\"},{\"name\":\"_clear\",\"kind\":\"Any\",\"default\":0}]},{\"type\":\"model\",\"name\":\"NotificationArea1\",\"properties\":[{\"name\":\"js_events\",\"kind\":\"Any\",\"default\":{\"type\":\"map\"}},{\"name\":\"notifications\",\"kind\":\"Any\",\"default\":[]},{\"name\":\"position\",\"kind\":\"Any\",\"default\":\"bottom-right\"},{\"name\":\"_clear\",\"kind\":\"Any\",\"default\":0},{\"name\":\"types\",\"kind\":\"Any\",\"default\":[{\"type\":\"map\",\"entries\":[[\"type\",\"warning\"],[\"background\",\"#ffc107\"],[\"icon\",{\"type\":\"map\",\"entries\":[[\"className\",\"fas fa-exclamation-triangle\"],[\"tagName\",\"i\"],[\"color\",\"white\"]]}]]},{\"type\":\"map\",\"entries\":[[\"type\",\"info\"],[\"background\",\"#007bff\"],[\"icon\",{\"type\":\"map\",\"entries\":[[\"className\",\"fas fa-info-circle\"],[\"tagName\",\"i\"],[\"color\",\"white\"]]}]]}]}]},{\"type\":\"model\",\"name\":\"Notification\",\"properties\":[{\"name\":\"background\",\"kind\":\"Any\",\"default\":null},{\"name\":\"duration\",\"kind\":\"Any\",\"default\":3000},{\"name\":\"icon\",\"kind\":\"Any\",\"default\":null},{\"name\":\"message\",\"kind\":\"Any\",\"default\":\"\"},{\"name\":\"notification_type\",\"kind\":\"Any\",\"default\":null},{\"name\":\"_destroyed\",\"kind\":\"Any\",\"default\":false}]},{\"type\":\"model\",\"name\":\"TemplateActions1\",\"properties\":[{\"name\":\"open_modal\",\"kind\":\"Any\",\"default\":0},{\"name\":\"close_modal\",\"kind\":\"Any\",\"default\":0}]},{\"type\":\"model\",\"name\":\"BootstrapTemplateActions1\",\"properties\":[{\"name\":\"open_modal\",\"kind\":\"Any\",\"default\":0},{\"name\":\"close_modal\",\"kind\":\"Any\",\"default\":0}]},{\"type\":\"model\",\"name\":\"TemplateEditor1\",\"properties\":[{\"name\":\"layout\",\"kind\":\"Any\",\"default\":[]}]},{\"type\":\"model\",\"name\":\"MaterialTemplateActions1\",\"properties\":[{\"name\":\"open_modal\",\"kind\":\"Any\",\"default\":0},{\"name\":\"close_modal\",\"kind\":\"Any\",\"default\":0}]},{\"type\":\"model\",\"name\":\"copy_to_clipboard1\",\"properties\":[{\"name\":\"fill\",\"kind\":\"Any\",\"default\":\"none\"},{\"name\":\"value\",\"kind\":\"Any\",\"default\":null}]}]}};\n",
       "  var render_items = [{\"docid\":\"7e7da15d-92ea-432e-a901-900ffaad395a\",\"roots\":{\"p1005\":\"d9ba5e87-c8c8-4078-8173-9eef2f20e4b6\"},\"root_ids\":[\"p1005\"]}];\n",
       "  var docs = Object.values(docs_json)\n",
       "  if (!docs) {\n",
       "    return\n",
       "  }\n",
       "  const py_version = docs[0].version.replace('rc', '-rc.').replace('.dev', '-dev.')\n",
       "  async function embed_document(root) {\n",
       "    var Bokeh = get_bokeh(root)\n",
       "    await Bokeh.embed.embed_items_notebook(docs_json, render_items);\n",
       "    for (const render_item of render_items) {\n",
       "      for (const root_id of render_item.root_ids) {\n",
       "\tconst id_el = document.getElementById(root_id)\n",
       "\tif (id_el.children.length && id_el.children[0].hasAttribute('data-root-id')) {\n",
       "\t  const root_el = id_el.children[0]\n",
       "\t  root_el.id = root_el.id + '-rendered'\n",
       "\t  for (const child of root_el.children) {\n",
       "            // Ensure JupyterLab does not capture keyboard shortcuts\n",
       "            // see: https://jupyterlab.readthedocs.io/en/4.1.x/extension/notebook.html#keyboard-interaction-model\n",
       "\t    child.setAttribute('data-lm-suppress-shortcuts', 'true')\n",
       "\t  }\n",
       "\t}\n",
       "      }\n",
       "    }\n",
       "  }\n",
       "  function get_bokeh(root) {\n",
       "    if (root.Bokeh === undefined) {\n",
       "      return null\n",
       "    } else if (root.Bokeh.version !== py_version) {\n",
       "      if (root.Bokeh.versions === undefined || !root.Bokeh.versions.has(py_version)) {\n",
       "\treturn null\n",
       "      }\n",
       "      return root.Bokeh.versions.get(py_version);\n",
       "    } else if (root.Bokeh.version === py_version) {\n",
       "      return root.Bokeh\n",
       "    }\n",
       "    return null\n",
       "  }\n",
       "  function is_loaded(root) {\n",
       "    var Bokeh = get_bokeh(root)\n",
       "    return (Bokeh != null && Bokeh.Panel !== undefined)\n",
       "  }\n",
       "  if (is_loaded(root)) {\n",
       "    embed_document(root);\n",
       "  } else {\n",
       "    var attempts = 0;\n",
       "    var timer = setInterval(function(root) {\n",
       "      if (is_loaded(root)) {\n",
       "        clearInterval(timer);\n",
       "        embed_document(root);\n",
       "      } else if (document.readyState == \"complete\") {\n",
       "        attempts++;\n",
       "        if (attempts > 200) {\n",
       "          clearInterval(timer);\n",
       "\t  var Bokeh = get_bokeh(root)\n",
       "\t  if (Bokeh == null || Bokeh.Panel == null) {\n",
       "            console.warn(\"Panel: ERROR: Unable to run Panel code because Bokeh or Panel library is missing\");\n",
       "\t  } else {\n",
       "\t    console.warn(\"Panel: WARNING: Attempting to render but not all required libraries could be resolved.\")\n",
       "\t    embed_document(root)\n",
       "\t  }\n",
       "        }\n",
       "      }\n",
       "    }, 25, root)\n",
       "  }\n",
       "})(window);</script>"
      ],
      "text/plain": [
       ":Bars   [dt_entrega_pedido,entregue_no_prazo]   (0)"
      ]
     },
     "execution_count": 16,
     "metadata": {
      "application/vnd.holoviews_exec.v0+json": {
       "id": "p1005"
      }
     },
     "output_type": "execute_result"
    }
   ],
   "source": [
    "import hvplot.pandas\n",
    "from bokeh.models.formatters import NumeralTickFormatter\n",
    "\n",
    "df[[\"entregue_no_prazo\", \"dt_entrega_pedido\"]].set_index(\"dt_entrega_pedido\").groupby(\n",
    "\n",
    "    [pd.Grouper(freq=\"ME\"), \"entregue_no_prazo\"]\n",
    "\n",
    ").size().hvplot.bar(\n",
    "    title=\"Ocorrências Mensais Entregas no Prazo vs Fora do Prazo\",\n",
    "    xlabel=\"Mês\",\n",
    "    ylabel=\"Quantidade de Entregas\",\n",
    "    legend=\"top\",\n",
    "    width=1200,\n",
    "    height=600,\n",
    ").opts(\n",
    "    xrotation=45, yformatter=NumeralTickFormatter(language=\"pt-br\")\n",
    ")"
   ]
  },
  {
   "cell_type": "code",
   "execution_count": 17,
   "id": "353f8a23",
   "metadata": {},
   "outputs": [
    {
     "data": {},
     "metadata": {},
     "output_type": "display_data"
    },
    {
     "data": {
      "application/vnd.holoviews_exec.v0+json": "",
      "text/html": [
       "<div id='p1069'>\n",
       "  <div id=\"b99b897a-4606-444d-ae16-0298a48e21a6\" data-root-id=\"p1069\" style=\"display: contents;\"></div>\n",
       "</div>\n",
       "<script type=\"application/javascript\">(function(root) {\n",
       "  var docs_json = {\"cd367f9c-ea88-493c-8df2-81f85e785327\":{\"version\":\"3.4.3\",\"title\":\"Bokeh Application\",\"roots\":[{\"type\":\"object\",\"name\":\"Row\",\"id\":\"p1069\",\"attributes\":{\"name\":\"Row01099\",\"tags\":[\"embedded\"],\"stylesheets\":[\"\\n:host(.pn-loading):before, .pn-loading:before {\\n  background-color: #c3c3c3;\\n  mask-size: auto calc(min(50%, 400px));\\n  -webkit-mask-size: auto calc(min(50%, 400px));\\n}\",{\"type\":\"object\",\"name\":\"ImportedStyleSheet\",\"id\":\"p1072\",\"attributes\":{\"url\":\"https://cdn.holoviz.org/panel/1.4.5/dist/css/loading.css\"}},{\"type\":\"object\",\"name\":\"ImportedStyleSheet\",\"id\":\"p1140\",\"attributes\":{\"url\":\"https://cdn.holoviz.org/panel/1.4.5/dist/css/listpanel.css\"}},{\"type\":\"object\",\"name\":\"ImportedStyleSheet\",\"id\":\"p1070\",\"attributes\":{\"url\":\"https://cdn.holoviz.org/panel/1.4.5/dist/bundled/theme/default.css\"}},{\"type\":\"object\",\"name\":\"ImportedStyleSheet\",\"id\":\"p1071\",\"attributes\":{\"url\":\"https://cdn.holoviz.org/panel/1.4.5/dist/bundled/theme/native.css\"}}],\"min_width\":1200,\"margin\":0,\"sizing_mode\":\"stretch_width\",\"align\":\"start\",\"children\":[{\"type\":\"object\",\"name\":\"Spacer\",\"id\":\"p1073\",\"attributes\":{\"name\":\"HSpacer01106\",\"stylesheets\":[\"\\n:host(.pn-loading):before, .pn-loading:before {\\n  background-color: #c3c3c3;\\n  mask-size: auto calc(min(50%, 400px));\\n  -webkit-mask-size: auto calc(min(50%, 400px));\\n}\",{\"id\":\"p1072\"},{\"id\":\"p1070\"},{\"id\":\"p1071\"}],\"margin\":0,\"sizing_mode\":\"stretch_width\",\"align\":\"start\"}},{\"type\":\"object\",\"name\":\"Figure\",\"id\":\"p1081\",\"attributes\":{\"width\":1200,\"margin\":[5,10],\"sizing_mode\":\"fixed\",\"align\":\"start\",\"x_range\":{\"type\":\"object\",\"name\":\"Range1d\",\"id\":\"p1074\",\"attributes\":{\"tags\":[[[\"dt_entrega_pedido\",null]],[]],\"start\":1688519520000.0,\"end\":1737845280000.0,\"reset_start\":1688519520000.0,\"reset_end\":1737845280000.0}},\"y_range\":{\"type\":\"object\",\"name\":\"Range1d\",\"id\":\"p1075\",\"attributes\":{\"tags\":[[[\"0\",null]],{\"type\":\"map\",\"entries\":[[\"invert_yaxis\",false],[\"autorange\",false]]}],\"end\":4943.4,\"reset_start\":0.0,\"reset_end\":4943.4}},\"x_scale\":{\"type\":\"object\",\"name\":\"LinearScale\",\"id\":\"p1091\"},\"y_scale\":{\"type\":\"object\",\"name\":\"LinearScale\",\"id\":\"p1092\"},\"title\":{\"type\":\"object\",\"name\":\"Title\",\"id\":\"p1084\",\"attributes\":{\"text\":\"Ocorr\\u00eancias Mensais Entregas Fora do Prazo\",\"text_color\":\"black\",\"text_font_size\":\"12pt\"}},\"renderers\":[{\"type\":\"object\",\"name\":\"GlyphRenderer\",\"id\":\"p1133\",\"attributes\":{\"data_source\":{\"type\":\"object\",\"name\":\"ColumnDataSource\",\"id\":\"p1124\",\"attributes\":{\"selected\":{\"type\":\"object\",\"name\":\"Selection\",\"id\":\"p1125\",\"attributes\":{\"indices\":[],\"line_indices\":[]}},\"selection_policy\":{\"type\":\"object\",\"name\":\"UnionRenderers\",\"id\":\"p1126\"},\"data\":{\"type\":\"map\",\"entries\":[[\"dt_entrega_pedido\",{\"type\":\"ndarray\",\"array\":{\"type\":\"bytes\",\"data\":\"AADA6ZOaeEIAAAA8jqR4QgAAgCg2rnhCAADAejC4eEIAAEBn2MF4QgAAgLnSy3hCAADAC83VeEIAAICSIt94QgAAwOQc6XhCAABA0cTyeEIAAIAjv/x4QgAAABBnBnlCAABAYmEQeUIAAIC0Wxp5QgAAAKEDJHlCAABA8/0teUIAAMDfpTd5QgAAADKgQXlC\"},\"shape\":[18],\"dtype\":\"float64\",\"order\":\"little\"}],[\"A_0\",{\"type\":\"ndarray\",\"array\":{\"type\":\"bytes\",\"data\":\"mQkAAMQHAADZCQAA0gYAAKcPAACOEQAAdQEAAAAAAAAAAAAAAAAAAAAAAAAAAAAAAAAAAAAAAAAAAAAAAAAAAAAAAAAIAAAA\"},\"shape\":[18],\"dtype\":\"int32\",\"order\":\"little\"}]]}}},\"view\":{\"type\":\"object\",\"name\":\"CDSView\",\"id\":\"p1134\",\"attributes\":{\"filter\":{\"type\":\"object\",\"name\":\"AllIndices\",\"id\":\"p1135\"}}},\"glyph\":{\"type\":\"object\",\"name\":\"VBar\",\"id\":\"p1130\",\"attributes\":{\"tags\":[\"apply_ranges\"],\"x\":{\"type\":\"field\",\"field\":\"dt_entrega_pedido\"},\"width\":{\"type\":\"value\",\"value\":2004480000.0},\"top\":{\"type\":\"field\",\"field\":\"A_0\"},\"fill_color\":{\"type\":\"value\",\"value\":\"#30a2da\"},\"hatch_color\":{\"type\":\"value\",\"value\":\"#30a2da\"}}},\"selection_glyph\":{\"type\":\"object\",\"name\":\"VBar\",\"id\":\"p1136\",\"attributes\":{\"tags\":[\"apply_ranges\"],\"x\":{\"type\":\"field\",\"field\":\"dt_entrega_pedido\"},\"width\":{\"type\":\"value\",\"value\":2004480000.0},\"bottom\":{\"type\":\"value\",\"value\":0},\"top\":{\"type\":\"field\",\"field\":\"A_0\"},\"line_color\":{\"type\":\"value\",\"value\":\"black\"},\"line_alpha\":{\"type\":\"value\",\"value\":1.0},\"line_width\":{\"type\":\"value\",\"value\":1},\"line_join\":{\"type\":\"value\",\"value\":\"bevel\"},\"line_cap\":{\"type\":\"value\",\"value\":\"butt\"},\"line_dash\":{\"type\":\"value\",\"value\":[]},\"line_dash_offset\":{\"type\":\"value\",\"value\":0},\"fill_color\":{\"type\":\"value\",\"value\":\"#30a2da\"},\"fill_alpha\":{\"type\":\"value\",\"value\":1.0},\"hatch_color\":{\"type\":\"value\",\"value\":\"#30a2da\"},\"hatch_alpha\":{\"type\":\"value\",\"value\":1.0},\"hatch_scale\":{\"type\":\"value\",\"value\":12.0},\"hatch_pattern\":{\"type\":\"value\",\"value\":null},\"hatch_weight\":{\"type\":\"value\",\"value\":1.0}}},\"nonselection_glyph\":{\"type\":\"object\",\"name\":\"VBar\",\"id\":\"p1131\",\"attributes\":{\"tags\":[\"apply_ranges\"],\"x\":{\"type\":\"field\",\"field\":\"dt_entrega_pedido\"},\"width\":{\"type\":\"value\",\"value\":2004480000.0},\"top\":{\"type\":\"field\",\"field\":\"A_0\"},\"line_alpha\":{\"type\":\"value\",\"value\":0.1},\"fill_color\":{\"type\":\"value\",\"value\":\"#30a2da\"},\"fill_alpha\":{\"type\":\"value\",\"value\":0.1},\"hatch_color\":{\"type\":\"value\",\"value\":\"#30a2da\"},\"hatch_alpha\":{\"type\":\"value\",\"value\":0.1}}},\"muted_glyph\":{\"type\":\"object\",\"name\":\"VBar\",\"id\":\"p1132\",\"attributes\":{\"tags\":[\"apply_ranges\"],\"x\":{\"type\":\"field\",\"field\":\"dt_entrega_pedido\"},\"width\":{\"type\":\"value\",\"value\":2004480000.0},\"top\":{\"type\":\"field\",\"field\":\"A_0\"},\"line_alpha\":{\"type\":\"value\",\"value\":0.2},\"fill_color\":{\"type\":\"value\",\"value\":\"#30a2da\"},\"fill_alpha\":{\"type\":\"value\",\"value\":0.2},\"hatch_color\":{\"type\":\"value\",\"value\":\"#30a2da\"},\"hatch_alpha\":{\"type\":\"value\",\"value\":0.2}}}}}],\"toolbar\":{\"type\":\"object\",\"name\":\"Toolbar\",\"id\":\"p1090\",\"attributes\":{\"tools\":[{\"type\":\"object\",\"name\":\"WheelZoomTool\",\"id\":\"p1079\",\"attributes\":{\"tags\":[\"hv_created\"],\"renderers\":\"auto\",\"zoom_together\":\"none\"}},{\"type\":\"object\",\"name\":\"HoverTool\",\"id\":\"p1080\",\"attributes\":{\"tags\":[\"hv_created\"],\"renderers\":[{\"id\":\"p1133\"}],\"tooltips\":[[\"dt_entrega_pedido\",\"@{dt_entrega_pedido}{%F %T}\"],[\"0\",\"@{A_0}\"]],\"formatters\":{\"type\":\"map\",\"entries\":[[\"@{dt_entrega_pedido}\",\"datetime\"]]}}},{\"type\":\"object\",\"name\":\"SaveTool\",\"id\":\"p1115\"},{\"type\":\"object\",\"name\":\"PanTool\",\"id\":\"p1116\"},{\"type\":\"object\",\"name\":\"BoxZoomTool\",\"id\":\"p1117\",\"attributes\":{\"overlay\":{\"type\":\"object\",\"name\":\"BoxAnnotation\",\"id\":\"p1118\",\"attributes\":{\"syncable\":false,\"level\":\"overlay\",\"visible\":false,\"left\":{\"type\":\"number\",\"value\":\"nan\"},\"right\":{\"type\":\"number\",\"value\":\"nan\"},\"top\":{\"type\":\"number\",\"value\":\"nan\"},\"bottom\":{\"type\":\"number\",\"value\":\"nan\"},\"left_units\":\"canvas\",\"right_units\":\"canvas\",\"top_units\":\"canvas\",\"bottom_units\":\"canvas\",\"line_color\":\"black\",\"line_alpha\":1.0,\"line_width\":2,\"line_dash\":[4,4],\"fill_color\":\"lightgrey\",\"fill_alpha\":0.5}}}},{\"type\":\"object\",\"name\":\"ResetTool\",\"id\":\"p1123\"}],\"active_drag\":{\"id\":\"p1116\"},\"active_scroll\":{\"id\":\"p1079\"}}},\"left\":[{\"type\":\"object\",\"name\":\"LinearAxis\",\"id\":\"p1110\",\"attributes\":{\"ticker\":{\"type\":\"object\",\"name\":\"BasicTicker\",\"id\":\"p1111\",\"attributes\":{\"mantissas\":[1,2,5]}},\"formatter\":{\"type\":\"object\",\"name\":\"BasicTickFormatter\",\"id\":\"p1112\"},\"axis_label\":\"Quantidade de Eventos\",\"major_label_policy\":{\"type\":\"object\",\"name\":\"AllLabels\",\"id\":\"p1113\"}}}],\"below\":[{\"type\":\"object\",\"name\":\"DatetimeAxis\",\"id\":\"p1093\",\"attributes\":{\"ticker\":{\"type\":\"object\",\"name\":\"DatetimeTicker\",\"id\":\"p1094\",\"attributes\":{\"num_minor_ticks\":5,\"tickers\":[{\"type\":\"object\",\"name\":\"AdaptiveTicker\",\"id\":\"p1095\",\"attributes\":{\"num_minor_ticks\":0,\"mantissas\":[1,2,5],\"max_interval\":500.0}},{\"type\":\"object\",\"name\":\"AdaptiveTicker\",\"id\":\"p1096\",\"attributes\":{\"num_minor_ticks\":0,\"base\":60,\"mantissas\":[1,2,5,10,15,20,30],\"min_interval\":1000.0,\"max_interval\":1800000.0}},{\"type\":\"object\",\"name\":\"AdaptiveTicker\",\"id\":\"p1097\",\"attributes\":{\"num_minor_ticks\":0,\"base\":24,\"mantissas\":[1,2,4,6,8,12],\"min_interval\":3600000.0,\"max_interval\":43200000.0}},{\"type\":\"object\",\"name\":\"DaysTicker\",\"id\":\"p1098\",\"attributes\":{\"days\":[1,2,3,4,5,6,7,8,9,10,11,12,13,14,15,16,17,18,19,20,21,22,23,24,25,26,27,28,29,30,31]}},{\"type\":\"object\",\"name\":\"DaysTicker\",\"id\":\"p1099\",\"attributes\":{\"days\":[1,4,7,10,13,16,19,22,25,28]}},{\"type\":\"object\",\"name\":\"DaysTicker\",\"id\":\"p1100\",\"attributes\":{\"days\":[1,8,15,22]}},{\"type\":\"object\",\"name\":\"DaysTicker\",\"id\":\"p1101\",\"attributes\":{\"days\":[1,15]}},{\"type\":\"object\",\"name\":\"MonthsTicker\",\"id\":\"p1102\",\"attributes\":{\"months\":[0,1,2,3,4,5,6,7,8,9,10,11]}},{\"type\":\"object\",\"name\":\"MonthsTicker\",\"id\":\"p1103\",\"attributes\":{\"months\":[0,2,4,6,8,10]}},{\"type\":\"object\",\"name\":\"MonthsTicker\",\"id\":\"p1104\",\"attributes\":{\"months\":[0,4,8]}},{\"type\":\"object\",\"name\":\"MonthsTicker\",\"id\":\"p1105\",\"attributes\":{\"months\":[0,6]}},{\"type\":\"object\",\"name\":\"YearsTicker\",\"id\":\"p1106\"}]}},\"formatter\":{\"type\":\"object\",\"name\":\"DatetimeTickFormatter\",\"id\":\"p1107\"},\"axis_label\":\"Data\",\"major_label_policy\":{\"type\":\"object\",\"name\":\"AllLabels\",\"id\":\"p1108\"}}}],\"center\":[{\"type\":\"object\",\"name\":\"Grid\",\"id\":\"p1109\",\"attributes\":{\"axis\":{\"id\":\"p1093\"},\"grid_line_color\":null}},{\"type\":\"object\",\"name\":\"Grid\",\"id\":\"p1114\",\"attributes\":{\"dimension\":1,\"axis\":{\"id\":\"p1110\"},\"grid_line_color\":null}}],\"min_border_top\":10,\"min_border_bottom\":10,\"min_border_left\":10,\"min_border_right\":10,\"output_backend\":\"webgl\"}},{\"type\":\"object\",\"name\":\"Spacer\",\"id\":\"p1138\",\"attributes\":{\"name\":\"HSpacer01107\",\"stylesheets\":[\"\\n:host(.pn-loading):before, .pn-loading:before {\\n  background-color: #c3c3c3;\\n  mask-size: auto calc(min(50%, 400px));\\n  -webkit-mask-size: auto calc(min(50%, 400px));\\n}\",{\"id\":\"p1072\"},{\"id\":\"p1070\"},{\"id\":\"p1071\"}],\"margin\":0,\"sizing_mode\":\"stretch_width\",\"align\":\"start\"}}]}}],\"defs\":[{\"type\":\"model\",\"name\":\"ReactiveHTML1\"},{\"type\":\"model\",\"name\":\"FlexBox1\",\"properties\":[{\"name\":\"align_content\",\"kind\":\"Any\",\"default\":\"flex-start\"},{\"name\":\"align_items\",\"kind\":\"Any\",\"default\":\"flex-start\"},{\"name\":\"flex_direction\",\"kind\":\"Any\",\"default\":\"row\"},{\"name\":\"flex_wrap\",\"kind\":\"Any\",\"default\":\"wrap\"},{\"name\":\"gap\",\"kind\":\"Any\",\"default\":\"\"},{\"name\":\"justify_content\",\"kind\":\"Any\",\"default\":\"flex-start\"}]},{\"type\":\"model\",\"name\":\"FloatPanel1\",\"properties\":[{\"name\":\"config\",\"kind\":\"Any\",\"default\":{\"type\":\"map\"}},{\"name\":\"contained\",\"kind\":\"Any\",\"default\":true},{\"name\":\"position\",\"kind\":\"Any\",\"default\":\"right-top\"},{\"name\":\"offsetx\",\"kind\":\"Any\",\"default\":null},{\"name\":\"offsety\",\"kind\":\"Any\",\"default\":null},{\"name\":\"theme\",\"kind\":\"Any\",\"default\":\"primary\"},{\"name\":\"status\",\"kind\":\"Any\",\"default\":\"normalized\"}]},{\"type\":\"model\",\"name\":\"GridStack1\",\"properties\":[{\"name\":\"mode\",\"kind\":\"Any\",\"default\":\"warn\"},{\"name\":\"ncols\",\"kind\":\"Any\",\"default\":null},{\"name\":\"nrows\",\"kind\":\"Any\",\"default\":null},{\"name\":\"allow_resize\",\"kind\":\"Any\",\"default\":true},{\"name\":\"allow_drag\",\"kind\":\"Any\",\"default\":true},{\"name\":\"state\",\"kind\":\"Any\",\"default\":[]}]},{\"type\":\"model\",\"name\":\"drag1\",\"properties\":[{\"name\":\"slider_width\",\"kind\":\"Any\",\"default\":5},{\"name\":\"slider_color\",\"kind\":\"Any\",\"default\":\"black\"},{\"name\":\"value\",\"kind\":\"Any\",\"default\":50}]},{\"type\":\"model\",\"name\":\"click1\",\"properties\":[{\"name\":\"terminal_output\",\"kind\":\"Any\",\"default\":\"\"},{\"name\":\"debug_name\",\"kind\":\"Any\",\"default\":\"\"},{\"name\":\"clears\",\"kind\":\"Any\",\"default\":0}]},{\"type\":\"model\",\"name\":\"FastWrapper1\",\"properties\":[{\"name\":\"object\",\"kind\":\"Any\",\"default\":null},{\"name\":\"style\",\"kind\":\"Any\",\"default\":null}]},{\"type\":\"model\",\"name\":\"NotificationAreaBase1\",\"properties\":[{\"name\":\"js_events\",\"kind\":\"Any\",\"default\":{\"type\":\"map\"}},{\"name\":\"position\",\"kind\":\"Any\",\"default\":\"bottom-right\"},{\"name\":\"_clear\",\"kind\":\"Any\",\"default\":0}]},{\"type\":\"model\",\"name\":\"NotificationArea1\",\"properties\":[{\"name\":\"js_events\",\"kind\":\"Any\",\"default\":{\"type\":\"map\"}},{\"name\":\"notifications\",\"kind\":\"Any\",\"default\":[]},{\"name\":\"position\",\"kind\":\"Any\",\"default\":\"bottom-right\"},{\"name\":\"_clear\",\"kind\":\"Any\",\"default\":0},{\"name\":\"types\",\"kind\":\"Any\",\"default\":[{\"type\":\"map\",\"entries\":[[\"type\",\"warning\"],[\"background\",\"#ffc107\"],[\"icon\",{\"type\":\"map\",\"entries\":[[\"className\",\"fas fa-exclamation-triangle\"],[\"tagName\",\"i\"],[\"color\",\"white\"]]}]]},{\"type\":\"map\",\"entries\":[[\"type\",\"info\"],[\"background\",\"#007bff\"],[\"icon\",{\"type\":\"map\",\"entries\":[[\"className\",\"fas fa-info-circle\"],[\"tagName\",\"i\"],[\"color\",\"white\"]]}]]}]}]},{\"type\":\"model\",\"name\":\"Notification\",\"properties\":[{\"name\":\"background\",\"kind\":\"Any\",\"default\":null},{\"name\":\"duration\",\"kind\":\"Any\",\"default\":3000},{\"name\":\"icon\",\"kind\":\"Any\",\"default\":null},{\"name\":\"message\",\"kind\":\"Any\",\"default\":\"\"},{\"name\":\"notification_type\",\"kind\":\"Any\",\"default\":null},{\"name\":\"_destroyed\",\"kind\":\"Any\",\"default\":false}]},{\"type\":\"model\",\"name\":\"TemplateActions1\",\"properties\":[{\"name\":\"open_modal\",\"kind\":\"Any\",\"default\":0},{\"name\":\"close_modal\",\"kind\":\"Any\",\"default\":0}]},{\"type\":\"model\",\"name\":\"BootstrapTemplateActions1\",\"properties\":[{\"name\":\"open_modal\",\"kind\":\"Any\",\"default\":0},{\"name\":\"close_modal\",\"kind\":\"Any\",\"default\":0}]},{\"type\":\"model\",\"name\":\"TemplateEditor1\",\"properties\":[{\"name\":\"layout\",\"kind\":\"Any\",\"default\":[]}]},{\"type\":\"model\",\"name\":\"MaterialTemplateActions1\",\"properties\":[{\"name\":\"open_modal\",\"kind\":\"Any\",\"default\":0},{\"name\":\"close_modal\",\"kind\":\"Any\",\"default\":0}]},{\"type\":\"model\",\"name\":\"copy_to_clipboard1\",\"properties\":[{\"name\":\"fill\",\"kind\":\"Any\",\"default\":\"none\"},{\"name\":\"value\",\"kind\":\"Any\",\"default\":null}]}]}};\n",
       "  var render_items = [{\"docid\":\"cd367f9c-ea88-493c-8df2-81f85e785327\",\"roots\":{\"p1069\":\"b99b897a-4606-444d-ae16-0298a48e21a6\"},\"root_ids\":[\"p1069\"]}];\n",
       "  var docs = Object.values(docs_json)\n",
       "  if (!docs) {\n",
       "    return\n",
       "  }\n",
       "  const py_version = docs[0].version.replace('rc', '-rc.').replace('.dev', '-dev.')\n",
       "  async function embed_document(root) {\n",
       "    var Bokeh = get_bokeh(root)\n",
       "    await Bokeh.embed.embed_items_notebook(docs_json, render_items);\n",
       "    for (const render_item of render_items) {\n",
       "      for (const root_id of render_item.root_ids) {\n",
       "\tconst id_el = document.getElementById(root_id)\n",
       "\tif (id_el.children.length && id_el.children[0].hasAttribute('data-root-id')) {\n",
       "\t  const root_el = id_el.children[0]\n",
       "\t  root_el.id = root_el.id + '-rendered'\n",
       "\t  for (const child of root_el.children) {\n",
       "            // Ensure JupyterLab does not capture keyboard shortcuts\n",
       "            // see: https://jupyterlab.readthedocs.io/en/4.1.x/extension/notebook.html#keyboard-interaction-model\n",
       "\t    child.setAttribute('data-lm-suppress-shortcuts', 'true')\n",
       "\t  }\n",
       "\t}\n",
       "      }\n",
       "    }\n",
       "  }\n",
       "  function get_bokeh(root) {\n",
       "    if (root.Bokeh === undefined) {\n",
       "      return null\n",
       "    } else if (root.Bokeh.version !== py_version) {\n",
       "      if (root.Bokeh.versions === undefined || !root.Bokeh.versions.has(py_version)) {\n",
       "\treturn null\n",
       "      }\n",
       "      return root.Bokeh.versions.get(py_version);\n",
       "    } else if (root.Bokeh.version === py_version) {\n",
       "      return root.Bokeh\n",
       "    }\n",
       "    return null\n",
       "  }\n",
       "  function is_loaded(root) {\n",
       "    var Bokeh = get_bokeh(root)\n",
       "    return (Bokeh != null && Bokeh.Panel !== undefined)\n",
       "  }\n",
       "  if (is_loaded(root)) {\n",
       "    embed_document(root);\n",
       "  } else {\n",
       "    var attempts = 0;\n",
       "    var timer = setInterval(function(root) {\n",
       "      if (is_loaded(root)) {\n",
       "        clearInterval(timer);\n",
       "        embed_document(root);\n",
       "      } else if (document.readyState == \"complete\") {\n",
       "        attempts++;\n",
       "        if (attempts > 200) {\n",
       "          clearInterval(timer);\n",
       "\t  var Bokeh = get_bokeh(root)\n",
       "\t  if (Bokeh == null || Bokeh.Panel == null) {\n",
       "            console.warn(\"Panel: ERROR: Unable to run Panel code because Bokeh or Panel library is missing\");\n",
       "\t  } else {\n",
       "\t    console.warn(\"Panel: WARNING: Attempting to render but not all required libraries could be resolved.\")\n",
       "\t    embed_document(root)\n",
       "\t  }\n",
       "        }\n",
       "      }\n",
       "    }, 25, root)\n",
       "  }\n",
       "})(window);</script>"
      ],
      "text/plain": [
       ":Bars   [dt_entrega_pedido]   (0)"
      ]
     },
     "execution_count": 17,
     "metadata": {
      "application/vnd.holoviews_exec.v0+json": {
       "id": "p1069"
      }
     },
     "output_type": "execute_result"
    }
   ],
   "source": [
    "df.query(\"entregue_no_prazo == False\")[[\"dt_entrega_pedido\"]].set_index(\n",
    "    \"dt_entrega_pedido\"\n",
    ").groupby(pd.Grouper(freq=\"ME\")).size().hvplot.bar(\n",
    "    title=\"Ocorrências Mensais Entregas Fora do Prazo\",\n",
    "    xlabel=\"Data\",\n",
    "    ylabel=\"Quantidade de Eventos\",\n",
    "    width=1200,\n",
    "    height=600,\n",
    ")"
   ]
  },
  {
   "cell_type": "markdown",
   "id": "3f1a38ea",
   "metadata": {},
   "source": [
    "## Entendimento quantitativo das entregas"
   ]
  },
  {
   "cell_type": "code",
   "execution_count": 18,
   "id": "8d658d1f",
   "metadata": {},
   "outputs": [
    {
     "data": {},
     "metadata": {},
     "output_type": "display_data"
    },
    {
     "data": {
      "application/vnd.holoviews_exec.v0+json": "",
      "text/html": [
       "<div id='p1145'>\n",
       "  <div id=\"d840b90b-b708-4131-9c59-daae6b3862f7\" data-root-id=\"p1145\" style=\"display: contents;\"></div>\n",
       "</div>\n",
       "<script type=\"application/javascript\">(function(root) {\n",
       "  var docs_json = {\"9fad53ad-9921-487e-8255-2932ac4c98f6\":{\"version\":\"3.4.3\",\"title\":\"Bokeh Application\",\"roots\":[{\"type\":\"object\",\"name\":\"Row\",\"id\":\"p1145\",\"attributes\":{\"name\":\"Row01227\",\"tags\":[\"embedded\"],\"stylesheets\":[\"\\n:host(.pn-loading):before, .pn-loading:before {\\n  background-color: #c3c3c3;\\n  mask-size: auto calc(min(50%, 400px));\\n  -webkit-mask-size: auto calc(min(50%, 400px));\\n}\",{\"type\":\"object\",\"name\":\"ImportedStyleSheet\",\"id\":\"p1148\",\"attributes\":{\"url\":\"https://cdn.holoviz.org/panel/1.4.5/dist/css/loading.css\"}},{\"type\":\"object\",\"name\":\"ImportedStyleSheet\",\"id\":\"p1204\",\"attributes\":{\"url\":\"https://cdn.holoviz.org/panel/1.4.5/dist/css/listpanel.css\"}},{\"type\":\"object\",\"name\":\"ImportedStyleSheet\",\"id\":\"p1146\",\"attributes\":{\"url\":\"https://cdn.holoviz.org/panel/1.4.5/dist/bundled/theme/default.css\"}},{\"type\":\"object\",\"name\":\"ImportedStyleSheet\",\"id\":\"p1147\",\"attributes\":{\"url\":\"https://cdn.holoviz.org/panel/1.4.5/dist/bundled/theme/native.css\"}}],\"min_width\":1200,\"margin\":0,\"sizing_mode\":\"stretch_width\",\"align\":\"start\",\"children\":[{\"type\":\"object\",\"name\":\"Spacer\",\"id\":\"p1149\",\"attributes\":{\"name\":\"HSpacer01234\",\"stylesheets\":[\"\\n:host(.pn-loading):before, .pn-loading:before {\\n  background-color: #c3c3c3;\\n  mask-size: auto calc(min(50%, 400px));\\n  -webkit-mask-size: auto calc(min(50%, 400px));\\n}\",{\"id\":\"p1148\"},{\"id\":\"p1146\"},{\"id\":\"p1147\"}],\"margin\":0,\"sizing_mode\":\"stretch_width\",\"align\":\"start\"}},{\"type\":\"object\",\"name\":\"Figure\",\"id\":\"p1157\",\"attributes\":{\"width\":1200,\"margin\":[5,10],\"sizing_mode\":\"fixed\",\"align\":\"start\",\"x_range\":{\"type\":\"object\",\"name\":\"FactorRange\",\"id\":\"p1150\",\"attributes\":{\"tags\":[[[\"des_cd_origem\",null]],[]],\"factors\":[\"SP-Cajamar\",\"SP-Jaguar\\u00e9\",\"PR-Campina G. Sul\",\"SP-Registro\"]}},\"y_range\":{\"type\":\"object\",\"name\":\"Range1d\",\"id\":\"p1151\",\"attributes\":{\"tags\":[[[\"0\",null]],{\"type\":\"map\",\"entries\":[[\"invert_yaxis\",false],[\"autorange\",false]]}],\"end\":0.09508354726456586,\"reset_start\":0.0,\"reset_end\":0.09508354726456586}},\"x_scale\":{\"type\":\"object\",\"name\":\"CategoricalScale\",\"id\":\"p1167\"},\"y_scale\":{\"type\":\"object\",\"name\":\"LinearScale\",\"id\":\"p1168\"},\"title\":{\"type\":\"object\",\"name\":\"Title\",\"id\":\"p1160\",\"attributes\":{\"text\":\"Percentual de Entregas Fora do Prazo de cada Centro de Distribui\\u00e7\\u00e3o\",\"text_color\":\"black\",\"text_font_size\":\"12pt\"}},\"renderers\":[{\"type\":\"object\",\"name\":\"GlyphRenderer\",\"id\":\"p1197\",\"attributes\":{\"data_source\":{\"type\":\"object\",\"name\":\"ColumnDataSource\",\"id\":\"p1188\",\"attributes\":{\"selected\":{\"type\":\"object\",\"name\":\"Selection\",\"id\":\"p1189\",\"attributes\":{\"indices\":[],\"line_indices\":[]}},\"selection_policy\":{\"type\":\"object\",\"name\":\"UnionRenderers\",\"id\":\"p1190\"},\"data\":{\"type\":\"map\",\"entries\":[[\"des_cd_origem\",[\"SP-Cajamar\",\"SP-Jaguar\\u00e9\",\"PR-Campina G. Sul\",\"SP-Registro\"]],[\"A_0\",{\"type\":\"ndarray\",\"array\":{\"type\":\"bytes\",\"data\":\"MvQIAq/Ktj/ShZu9gcOuPzt18F5726M/N8/67UMunT8=\"},\"shape\":[4],\"dtype\":\"float64\",\"order\":\"little\"}]]}}},\"view\":{\"type\":\"object\",\"name\":\"CDSView\",\"id\":\"p1198\",\"attributes\":{\"filter\":{\"type\":\"object\",\"name\":\"AllIndices\",\"id\":\"p1199\"}}},\"glyph\":{\"type\":\"object\",\"name\":\"VBar\",\"id\":\"p1194\",\"attributes\":{\"tags\":[\"apply_ranges\"],\"x\":{\"type\":\"field\",\"field\":\"des_cd_origem\"},\"width\":{\"type\":\"value\",\"value\":0.8},\"top\":{\"type\":\"field\",\"field\":\"A_0\"},\"fill_color\":{\"type\":\"value\",\"value\":\"#30a2da\"},\"hatch_color\":{\"type\":\"value\",\"value\":\"#30a2da\"}}},\"selection_glyph\":{\"type\":\"object\",\"name\":\"VBar\",\"id\":\"p1200\",\"attributes\":{\"tags\":[\"apply_ranges\"],\"x\":{\"type\":\"field\",\"field\":\"des_cd_origem\"},\"width\":{\"type\":\"value\",\"value\":0.8},\"bottom\":{\"type\":\"value\",\"value\":0},\"top\":{\"type\":\"field\",\"field\":\"A_0\"},\"line_color\":{\"type\":\"value\",\"value\":\"black\"},\"line_alpha\":{\"type\":\"value\",\"value\":1.0},\"line_width\":{\"type\":\"value\",\"value\":1},\"line_join\":{\"type\":\"value\",\"value\":\"bevel\"},\"line_cap\":{\"type\":\"value\",\"value\":\"butt\"},\"line_dash\":{\"type\":\"value\",\"value\":[]},\"line_dash_offset\":{\"type\":\"value\",\"value\":0},\"fill_color\":{\"type\":\"value\",\"value\":\"#30a2da\"},\"fill_alpha\":{\"type\":\"value\",\"value\":1.0},\"hatch_color\":{\"type\":\"value\",\"value\":\"#30a2da\"},\"hatch_alpha\":{\"type\":\"value\",\"value\":1.0},\"hatch_scale\":{\"type\":\"value\",\"value\":12.0},\"hatch_pattern\":{\"type\":\"value\",\"value\":null},\"hatch_weight\":{\"type\":\"value\",\"value\":1.0}}},\"nonselection_glyph\":{\"type\":\"object\",\"name\":\"VBar\",\"id\":\"p1195\",\"attributes\":{\"tags\":[\"apply_ranges\"],\"x\":{\"type\":\"field\",\"field\":\"des_cd_origem\"},\"width\":{\"type\":\"value\",\"value\":0.8},\"top\":{\"type\":\"field\",\"field\":\"A_0\"},\"line_alpha\":{\"type\":\"value\",\"value\":0.1},\"fill_color\":{\"type\":\"value\",\"value\":\"#30a2da\"},\"fill_alpha\":{\"type\":\"value\",\"value\":0.1},\"hatch_color\":{\"type\":\"value\",\"value\":\"#30a2da\"},\"hatch_alpha\":{\"type\":\"value\",\"value\":0.1}}},\"muted_glyph\":{\"type\":\"object\",\"name\":\"VBar\",\"id\":\"p1196\",\"attributes\":{\"tags\":[\"apply_ranges\"],\"x\":{\"type\":\"field\",\"field\":\"des_cd_origem\"},\"width\":{\"type\":\"value\",\"value\":0.8},\"top\":{\"type\":\"field\",\"field\":\"A_0\"},\"line_alpha\":{\"type\":\"value\",\"value\":0.2},\"fill_color\":{\"type\":\"value\",\"value\":\"#30a2da\"},\"fill_alpha\":{\"type\":\"value\",\"value\":0.2},\"hatch_color\":{\"type\":\"value\",\"value\":\"#30a2da\"},\"hatch_alpha\":{\"type\":\"value\",\"value\":0.2}}}}}],\"toolbar\":{\"type\":\"object\",\"name\":\"Toolbar\",\"id\":\"p1166\",\"attributes\":{\"tools\":[{\"type\":\"object\",\"name\":\"WheelZoomTool\",\"id\":\"p1155\",\"attributes\":{\"tags\":[\"hv_created\"],\"renderers\":\"auto\",\"zoom_together\":\"none\"}},{\"type\":\"object\",\"name\":\"HoverTool\",\"id\":\"p1156\",\"attributes\":{\"tags\":[\"hv_created\"],\"renderers\":[{\"id\":\"p1197\"}],\"tooltips\":[[\"des_cd_origem\",\"@{des_cd_origem}\"],[\"0\",\"@{A_0}\"]]}},{\"type\":\"object\",\"name\":\"SaveTool\",\"id\":\"p1179\"},{\"type\":\"object\",\"name\":\"PanTool\",\"id\":\"p1180\"},{\"type\":\"object\",\"name\":\"BoxZoomTool\",\"id\":\"p1181\",\"attributes\":{\"overlay\":{\"type\":\"object\",\"name\":\"BoxAnnotation\",\"id\":\"p1182\",\"attributes\":{\"syncable\":false,\"level\":\"overlay\",\"visible\":false,\"left\":{\"type\":\"number\",\"value\":\"nan\"},\"right\":{\"type\":\"number\",\"value\":\"nan\"},\"top\":{\"type\":\"number\",\"value\":\"nan\"},\"bottom\":{\"type\":\"number\",\"value\":\"nan\"},\"left_units\":\"canvas\",\"right_units\":\"canvas\",\"top_units\":\"canvas\",\"bottom_units\":\"canvas\",\"line_color\":\"black\",\"line_alpha\":1.0,\"line_width\":2,\"line_dash\":[4,4],\"fill_color\":\"lightgrey\",\"fill_alpha\":0.5}}}},{\"type\":\"object\",\"name\":\"ResetTool\",\"id\":\"p1187\"}],\"active_drag\":{\"id\":\"p1180\"},\"active_scroll\":{\"id\":\"p1155\"}}},\"left\":[{\"type\":\"object\",\"name\":\"LinearAxis\",\"id\":\"p1174\",\"attributes\":{\"ticker\":{\"type\":\"object\",\"name\":\"BasicTicker\",\"id\":\"p1175\",\"attributes\":{\"mantissas\":[1,2,5]}},\"formatter\":{\"type\":\"object\",\"name\":\"NumeralTickFormatter\",\"id\":\"p1144\",\"attributes\":{\"format\":\"0%\"}},\"axis_label\":\"% Entregas Fora do Prazo\",\"major_label_policy\":{\"type\":\"object\",\"name\":\"AllLabels\",\"id\":\"p1177\"}}}],\"below\":[{\"type\":\"object\",\"name\":\"CategoricalAxis\",\"id\":\"p1169\",\"attributes\":{\"ticker\":{\"type\":\"object\",\"name\":\"CategoricalTicker\",\"id\":\"p1170\"},\"formatter\":{\"type\":\"object\",\"name\":\"CategoricalTickFormatter\",\"id\":\"p1171\"},\"axis_label\":\"Centro de Distribui\\u00e7\\u00e3o\",\"major_label_policy\":{\"type\":\"object\",\"name\":\"AllLabels\",\"id\":\"p1172\"}}}],\"center\":[{\"type\":\"object\",\"name\":\"Grid\",\"id\":\"p1173\",\"attributes\":{\"axis\":{\"id\":\"p1169\"},\"grid_line_color\":null}},{\"type\":\"object\",\"name\":\"Grid\",\"id\":\"p1178\",\"attributes\":{\"dimension\":1,\"axis\":{\"id\":\"p1174\"},\"grid_line_color\":null}}],\"min_border_top\":10,\"min_border_bottom\":10,\"min_border_left\":10,\"min_border_right\":10,\"output_backend\":\"webgl\"}},{\"type\":\"object\",\"name\":\"Spacer\",\"id\":\"p1202\",\"attributes\":{\"name\":\"HSpacer01235\",\"stylesheets\":[\"\\n:host(.pn-loading):before, .pn-loading:before {\\n  background-color: #c3c3c3;\\n  mask-size: auto calc(min(50%, 400px));\\n  -webkit-mask-size: auto calc(min(50%, 400px));\\n}\",{\"id\":\"p1148\"},{\"id\":\"p1146\"},{\"id\":\"p1147\"}],\"margin\":0,\"sizing_mode\":\"stretch_width\",\"align\":\"start\"}}]}}],\"defs\":[{\"type\":\"model\",\"name\":\"ReactiveHTML1\"},{\"type\":\"model\",\"name\":\"FlexBox1\",\"properties\":[{\"name\":\"align_content\",\"kind\":\"Any\",\"default\":\"flex-start\"},{\"name\":\"align_items\",\"kind\":\"Any\",\"default\":\"flex-start\"},{\"name\":\"flex_direction\",\"kind\":\"Any\",\"default\":\"row\"},{\"name\":\"flex_wrap\",\"kind\":\"Any\",\"default\":\"wrap\"},{\"name\":\"gap\",\"kind\":\"Any\",\"default\":\"\"},{\"name\":\"justify_content\",\"kind\":\"Any\",\"default\":\"flex-start\"}]},{\"type\":\"model\",\"name\":\"FloatPanel1\",\"properties\":[{\"name\":\"config\",\"kind\":\"Any\",\"default\":{\"type\":\"map\"}},{\"name\":\"contained\",\"kind\":\"Any\",\"default\":true},{\"name\":\"position\",\"kind\":\"Any\",\"default\":\"right-top\"},{\"name\":\"offsetx\",\"kind\":\"Any\",\"default\":null},{\"name\":\"offsety\",\"kind\":\"Any\",\"default\":null},{\"name\":\"theme\",\"kind\":\"Any\",\"default\":\"primary\"},{\"name\":\"status\",\"kind\":\"Any\",\"default\":\"normalized\"}]},{\"type\":\"model\",\"name\":\"GridStack1\",\"properties\":[{\"name\":\"mode\",\"kind\":\"Any\",\"default\":\"warn\"},{\"name\":\"ncols\",\"kind\":\"Any\",\"default\":null},{\"name\":\"nrows\",\"kind\":\"Any\",\"default\":null},{\"name\":\"allow_resize\",\"kind\":\"Any\",\"default\":true},{\"name\":\"allow_drag\",\"kind\":\"Any\",\"default\":true},{\"name\":\"state\",\"kind\":\"Any\",\"default\":[]}]},{\"type\":\"model\",\"name\":\"drag1\",\"properties\":[{\"name\":\"slider_width\",\"kind\":\"Any\",\"default\":5},{\"name\":\"slider_color\",\"kind\":\"Any\",\"default\":\"black\"},{\"name\":\"value\",\"kind\":\"Any\",\"default\":50}]},{\"type\":\"model\",\"name\":\"click1\",\"properties\":[{\"name\":\"terminal_output\",\"kind\":\"Any\",\"default\":\"\"},{\"name\":\"debug_name\",\"kind\":\"Any\",\"default\":\"\"},{\"name\":\"clears\",\"kind\":\"Any\",\"default\":0}]},{\"type\":\"model\",\"name\":\"FastWrapper1\",\"properties\":[{\"name\":\"object\",\"kind\":\"Any\",\"default\":null},{\"name\":\"style\",\"kind\":\"Any\",\"default\":null}]},{\"type\":\"model\",\"name\":\"NotificationAreaBase1\",\"properties\":[{\"name\":\"js_events\",\"kind\":\"Any\",\"default\":{\"type\":\"map\"}},{\"name\":\"position\",\"kind\":\"Any\",\"default\":\"bottom-right\"},{\"name\":\"_clear\",\"kind\":\"Any\",\"default\":0}]},{\"type\":\"model\",\"name\":\"NotificationArea1\",\"properties\":[{\"name\":\"js_events\",\"kind\":\"Any\",\"default\":{\"type\":\"map\"}},{\"name\":\"notifications\",\"kind\":\"Any\",\"default\":[]},{\"name\":\"position\",\"kind\":\"Any\",\"default\":\"bottom-right\"},{\"name\":\"_clear\",\"kind\":\"Any\",\"default\":0},{\"name\":\"types\",\"kind\":\"Any\",\"default\":[{\"type\":\"map\",\"entries\":[[\"type\",\"warning\"],[\"background\",\"#ffc107\"],[\"icon\",{\"type\":\"map\",\"entries\":[[\"className\",\"fas fa-exclamation-triangle\"],[\"tagName\",\"i\"],[\"color\",\"white\"]]}]]},{\"type\":\"map\",\"entries\":[[\"type\",\"info\"],[\"background\",\"#007bff\"],[\"icon\",{\"type\":\"map\",\"entries\":[[\"className\",\"fas fa-info-circle\"],[\"tagName\",\"i\"],[\"color\",\"white\"]]}]]}]}]},{\"type\":\"model\",\"name\":\"Notification\",\"properties\":[{\"name\":\"background\",\"kind\":\"Any\",\"default\":null},{\"name\":\"duration\",\"kind\":\"Any\",\"default\":3000},{\"name\":\"icon\",\"kind\":\"Any\",\"default\":null},{\"name\":\"message\",\"kind\":\"Any\",\"default\":\"\"},{\"name\":\"notification_type\",\"kind\":\"Any\",\"default\":null},{\"name\":\"_destroyed\",\"kind\":\"Any\",\"default\":false}]},{\"type\":\"model\",\"name\":\"TemplateActions1\",\"properties\":[{\"name\":\"open_modal\",\"kind\":\"Any\",\"default\":0},{\"name\":\"close_modal\",\"kind\":\"Any\",\"default\":0}]},{\"type\":\"model\",\"name\":\"BootstrapTemplateActions1\",\"properties\":[{\"name\":\"open_modal\",\"kind\":\"Any\",\"default\":0},{\"name\":\"close_modal\",\"kind\":\"Any\",\"default\":0}]},{\"type\":\"model\",\"name\":\"TemplateEditor1\",\"properties\":[{\"name\":\"layout\",\"kind\":\"Any\",\"default\":[]}]},{\"type\":\"model\",\"name\":\"MaterialTemplateActions1\",\"properties\":[{\"name\":\"open_modal\",\"kind\":\"Any\",\"default\":0},{\"name\":\"close_modal\",\"kind\":\"Any\",\"default\":0}]},{\"type\":\"model\",\"name\":\"copy_to_clipboard1\",\"properties\":[{\"name\":\"fill\",\"kind\":\"Any\",\"default\":\"none\"},{\"name\":\"value\",\"kind\":\"Any\",\"default\":null}]}]}};\n",
       "  var render_items = [{\"docid\":\"9fad53ad-9921-487e-8255-2932ac4c98f6\",\"roots\":{\"p1145\":\"d840b90b-b708-4131-9c59-daae6b3862f7\"},\"root_ids\":[\"p1145\"]}];\n",
       "  var docs = Object.values(docs_json)\n",
       "  if (!docs) {\n",
       "    return\n",
       "  }\n",
       "  const py_version = docs[0].version.replace('rc', '-rc.').replace('.dev', '-dev.')\n",
       "  async function embed_document(root) {\n",
       "    var Bokeh = get_bokeh(root)\n",
       "    await Bokeh.embed.embed_items_notebook(docs_json, render_items);\n",
       "    for (const render_item of render_items) {\n",
       "      for (const root_id of render_item.root_ids) {\n",
       "\tconst id_el = document.getElementById(root_id)\n",
       "\tif (id_el.children.length && id_el.children[0].hasAttribute('data-root-id')) {\n",
       "\t  const root_el = id_el.children[0]\n",
       "\t  root_el.id = root_el.id + '-rendered'\n",
       "\t  for (const child of root_el.children) {\n",
       "            // Ensure JupyterLab does not capture keyboard shortcuts\n",
       "            // see: https://jupyterlab.readthedocs.io/en/4.1.x/extension/notebook.html#keyboard-interaction-model\n",
       "\t    child.setAttribute('data-lm-suppress-shortcuts', 'true')\n",
       "\t  }\n",
       "\t}\n",
       "      }\n",
       "    }\n",
       "  }\n",
       "  function get_bokeh(root) {\n",
       "    if (root.Bokeh === undefined) {\n",
       "      return null\n",
       "    } else if (root.Bokeh.version !== py_version) {\n",
       "      if (root.Bokeh.versions === undefined || !root.Bokeh.versions.has(py_version)) {\n",
       "\treturn null\n",
       "      }\n",
       "      return root.Bokeh.versions.get(py_version);\n",
       "    } else if (root.Bokeh.version === py_version) {\n",
       "      return root.Bokeh\n",
       "    }\n",
       "    return null\n",
       "  }\n",
       "  function is_loaded(root) {\n",
       "    var Bokeh = get_bokeh(root)\n",
       "    return (Bokeh != null && Bokeh.Panel !== undefined)\n",
       "  }\n",
       "  if (is_loaded(root)) {\n",
       "    embed_document(root);\n",
       "  } else {\n",
       "    var attempts = 0;\n",
       "    var timer = setInterval(function(root) {\n",
       "      if (is_loaded(root)) {\n",
       "        clearInterval(timer);\n",
       "        embed_document(root);\n",
       "      } else if (document.readyState == \"complete\") {\n",
       "        attempts++;\n",
       "        if (attempts > 200) {\n",
       "          clearInterval(timer);\n",
       "\t  var Bokeh = get_bokeh(root)\n",
       "\t  if (Bokeh == null || Bokeh.Panel == null) {\n",
       "            console.warn(\"Panel: ERROR: Unable to run Panel code because Bokeh or Panel library is missing\");\n",
       "\t  } else {\n",
       "\t    console.warn(\"Panel: WARNING: Attempting to render but not all required libraries could be resolved.\")\n",
       "\t    embed_document(root)\n",
       "\t  }\n",
       "        }\n",
       "      }\n",
       "    }, 25, root)\n",
       "  }\n",
       "})(window);</script>"
      ],
      "text/plain": [
       ":Bars   [des_cd_origem]   (0)"
      ]
     },
     "execution_count": 18,
     "metadata": {
      "application/vnd.holoviews_exec.v0+json": {
       "id": "p1145"
      }
     },
     "output_type": "execute_result"
    }
   ],
   "source": [
    "from turtle import title\n",
    "import hvplot.pandas\n",
    "import holoviews as hv\n",
    "\n",
    "df_total_grupo = df.groupby(\"des_cd_origem\").size()\n",
    "df_fora_prazo = df.query(\"entregue_no_prazo == False\").groupby(\"des_cd_origem\").size()\n",
    "\n",
    "percentual_fora_prazo = pd.DataFrame(df_fora_prazo / df_total_grupo)\n",
    "percentual_fora_prazo.sort_values(0, ascending=False, inplace=True)\n",
    "\n",
    "percentual_fora_prazo.hvplot.bar(\n",
    "    title=\"Percentual de Entregas Fora do Prazo de cada Centro de Distribuição\",\n",
    "    xlabel=\"Centro de Distribuição\",\n",
    "    ylabel=\"% Entregas Fora do Prazo\",\n",
    "    width=1200,\n",
    "    height=600,\n",
    ").opts(yformatter=NumeralTickFormatter(format=\"0%\"))"
   ]
  },
  {
   "cell_type": "code",
   "execution_count": 19,
   "id": "4f7b5151",
   "metadata": {},
   "outputs": [
    {
     "data": {},
     "metadata": {},
     "output_type": "display_data"
    },
    {
     "data": {
      "application/vnd.holoviews_exec.v0+json": "",
      "text/html": [
       "<div id='p1208'>\n",
       "  <div id=\"f050f142-316e-41a6-8dcc-de27fe166089\" data-root-id=\"p1208\" style=\"display: contents;\"></div>\n",
       "</div>\n",
       "<script type=\"application/javascript\">(function(root) {\n",
       "  var docs_json = {\"1ffbbaf5-0c25-4ed9-9905-23836f0b09ad\":{\"version\":\"3.4.3\",\"title\":\"Bokeh Application\",\"roots\":[{\"type\":\"object\",\"name\":\"Row\",\"id\":\"p1208\",\"attributes\":{\"name\":\"Row01356\",\"tags\":[\"embedded\"],\"stylesheets\":[\"\\n:host(.pn-loading):before, .pn-loading:before {\\n  background-color: #c3c3c3;\\n  mask-size: auto calc(min(50%, 400px));\\n  -webkit-mask-size: auto calc(min(50%, 400px));\\n}\",{\"type\":\"object\",\"name\":\"ImportedStyleSheet\",\"id\":\"p1211\",\"attributes\":{\"url\":\"https://cdn.holoviz.org/panel/1.4.5/dist/css/loading.css\"}},{\"type\":\"object\",\"name\":\"ImportedStyleSheet\",\"id\":\"p1267\",\"attributes\":{\"url\":\"https://cdn.holoviz.org/panel/1.4.5/dist/css/listpanel.css\"}},{\"type\":\"object\",\"name\":\"ImportedStyleSheet\",\"id\":\"p1209\",\"attributes\":{\"url\":\"https://cdn.holoviz.org/panel/1.4.5/dist/bundled/theme/default.css\"}},{\"type\":\"object\",\"name\":\"ImportedStyleSheet\",\"id\":\"p1210\",\"attributes\":{\"url\":\"https://cdn.holoviz.org/panel/1.4.5/dist/bundled/theme/native.css\"}}],\"min_width\":1200,\"margin\":0,\"sizing_mode\":\"stretch_width\",\"align\":\"start\",\"children\":[{\"type\":\"object\",\"name\":\"Spacer\",\"id\":\"p1212\",\"attributes\":{\"name\":\"HSpacer01363\",\"stylesheets\":[\"\\n:host(.pn-loading):before, .pn-loading:before {\\n  background-color: #c3c3c3;\\n  mask-size: auto calc(min(50%, 400px));\\n  -webkit-mask-size: auto calc(min(50%, 400px));\\n}\",{\"id\":\"p1211\"},{\"id\":\"p1209\"},{\"id\":\"p1210\"}],\"margin\":0,\"sizing_mode\":\"stretch_width\",\"align\":\"start\"}},{\"type\":\"object\",\"name\":\"Figure\",\"id\":\"p1220\",\"attributes\":{\"width\":1200,\"margin\":[5,10],\"sizing_mode\":\"fixed\",\"align\":\"start\",\"x_range\":{\"type\":\"object\",\"name\":\"FactorRange\",\"id\":\"p1213\",\"attributes\":{\"tags\":[[[\"des_cd_origem\",null]],[]],\"factors\":[\"PR-Campina G. Sul\",\"SP-Registro\",\"SP-Jaguar\\u00e9\",\"SP-Cajamar\"]}},\"y_range\":{\"type\":\"object\",\"name\":\"Range1d\",\"id\":\"p1214\",\"attributes\":{\"tags\":[[[\"0\",null]],{\"type\":\"map\",\"entries\":[[\"invert_yaxis\",false],[\"autorange\",false]]}],\"end\":349779.8,\"reset_start\":0.0,\"reset_end\":349779.8}},\"x_scale\":{\"type\":\"object\",\"name\":\"CategoricalScale\",\"id\":\"p1230\"},\"y_scale\":{\"type\":\"object\",\"name\":\"LinearScale\",\"id\":\"p1231\"},\"title\":{\"type\":\"object\",\"name\":\"Title\",\"id\":\"p1223\",\"attributes\":{\"text\":\"Quantidade de Entregas por Centro de Distribui\\u00e7\\u00e3o\",\"text_color\":\"black\",\"text_font_size\":\"12pt\"}},\"renderers\":[{\"type\":\"object\",\"name\":\"GlyphRenderer\",\"id\":\"p1260\",\"attributes\":{\"data_source\":{\"type\":\"object\",\"name\":\"ColumnDataSource\",\"id\":\"p1251\",\"attributes\":{\"selected\":{\"type\":\"object\",\"name\":\"Selection\",\"id\":\"p1252\",\"attributes\":{\"indices\":[],\"line_indices\":[]}},\"selection_policy\":{\"type\":\"object\",\"name\":\"UnionRenderers\",\"id\":\"p1253\"},\"data\":{\"type\":\"map\",\"entries\":[[\"des_cd_origem\",[\"PR-Campina G. Sul\",\"SP-Registro\",\"SP-Jaguar\\u00e9\",\"SP-Cajamar\"]],[\"A_0\",{\"type\":\"ndarray\",\"array\":{\"type\":\"bytes\",\"data\":\"kNoEAMGfAQBOiQAA6gQAAA==\"},\"shape\":[4],\"dtype\":\"int32\",\"order\":\"little\"}]]}}},\"view\":{\"type\":\"object\",\"name\":\"CDSView\",\"id\":\"p1261\",\"attributes\":{\"filter\":{\"type\":\"object\",\"name\":\"AllIndices\",\"id\":\"p1262\"}}},\"glyph\":{\"type\":\"object\",\"name\":\"VBar\",\"id\":\"p1257\",\"attributes\":{\"tags\":[\"apply_ranges\"],\"x\":{\"type\":\"field\",\"field\":\"des_cd_origem\"},\"width\":{\"type\":\"value\",\"value\":0.8},\"top\":{\"type\":\"field\",\"field\":\"A_0\"},\"fill_color\":{\"type\":\"value\",\"value\":\"#30a2da\"},\"hatch_color\":{\"type\":\"value\",\"value\":\"#30a2da\"}}},\"selection_glyph\":{\"type\":\"object\",\"name\":\"VBar\",\"id\":\"p1263\",\"attributes\":{\"tags\":[\"apply_ranges\"],\"x\":{\"type\":\"field\",\"field\":\"des_cd_origem\"},\"width\":{\"type\":\"value\",\"value\":0.8},\"bottom\":{\"type\":\"value\",\"value\":0},\"top\":{\"type\":\"field\",\"field\":\"A_0\"},\"line_color\":{\"type\":\"value\",\"value\":\"black\"},\"line_alpha\":{\"type\":\"value\",\"value\":1.0},\"line_width\":{\"type\":\"value\",\"value\":1},\"line_join\":{\"type\":\"value\",\"value\":\"bevel\"},\"line_cap\":{\"type\":\"value\",\"value\":\"butt\"},\"line_dash\":{\"type\":\"value\",\"value\":[]},\"line_dash_offset\":{\"type\":\"value\",\"value\":0},\"fill_color\":{\"type\":\"value\",\"value\":\"#30a2da\"},\"fill_alpha\":{\"type\":\"value\",\"value\":1.0},\"hatch_color\":{\"type\":\"value\",\"value\":\"#30a2da\"},\"hatch_alpha\":{\"type\":\"value\",\"value\":1.0},\"hatch_scale\":{\"type\":\"value\",\"value\":12.0},\"hatch_pattern\":{\"type\":\"value\",\"value\":null},\"hatch_weight\":{\"type\":\"value\",\"value\":1.0}}},\"nonselection_glyph\":{\"type\":\"object\",\"name\":\"VBar\",\"id\":\"p1258\",\"attributes\":{\"tags\":[\"apply_ranges\"],\"x\":{\"type\":\"field\",\"field\":\"des_cd_origem\"},\"width\":{\"type\":\"value\",\"value\":0.8},\"top\":{\"type\":\"field\",\"field\":\"A_0\"},\"line_alpha\":{\"type\":\"value\",\"value\":0.1},\"fill_color\":{\"type\":\"value\",\"value\":\"#30a2da\"},\"fill_alpha\":{\"type\":\"value\",\"value\":0.1},\"hatch_color\":{\"type\":\"value\",\"value\":\"#30a2da\"},\"hatch_alpha\":{\"type\":\"value\",\"value\":0.1}}},\"muted_glyph\":{\"type\":\"object\",\"name\":\"VBar\",\"id\":\"p1259\",\"attributes\":{\"tags\":[\"apply_ranges\"],\"x\":{\"type\":\"field\",\"field\":\"des_cd_origem\"},\"width\":{\"type\":\"value\",\"value\":0.8},\"top\":{\"type\":\"field\",\"field\":\"A_0\"},\"line_alpha\":{\"type\":\"value\",\"value\":0.2},\"fill_color\":{\"type\":\"value\",\"value\":\"#30a2da\"},\"fill_alpha\":{\"type\":\"value\",\"value\":0.2},\"hatch_color\":{\"type\":\"value\",\"value\":\"#30a2da\"},\"hatch_alpha\":{\"type\":\"value\",\"value\":0.2}}}}}],\"toolbar\":{\"type\":\"object\",\"name\":\"Toolbar\",\"id\":\"p1229\",\"attributes\":{\"tools\":[{\"type\":\"object\",\"name\":\"WheelZoomTool\",\"id\":\"p1218\",\"attributes\":{\"tags\":[\"hv_created\"],\"renderers\":\"auto\",\"zoom_together\":\"none\"}},{\"type\":\"object\",\"name\":\"HoverTool\",\"id\":\"p1219\",\"attributes\":{\"tags\":[\"hv_created\"],\"renderers\":[{\"id\":\"p1260\"}],\"tooltips\":[[\"des_cd_origem\",\"@{des_cd_origem}\"],[\"0\",\"@{A_0}\"]]}},{\"type\":\"object\",\"name\":\"SaveTool\",\"id\":\"p1242\"},{\"type\":\"object\",\"name\":\"PanTool\",\"id\":\"p1243\"},{\"type\":\"object\",\"name\":\"BoxZoomTool\",\"id\":\"p1244\",\"attributes\":{\"overlay\":{\"type\":\"object\",\"name\":\"BoxAnnotation\",\"id\":\"p1245\",\"attributes\":{\"syncable\":false,\"level\":\"overlay\",\"visible\":false,\"left\":{\"type\":\"number\",\"value\":\"nan\"},\"right\":{\"type\":\"number\",\"value\":\"nan\"},\"top\":{\"type\":\"number\",\"value\":\"nan\"},\"bottom\":{\"type\":\"number\",\"value\":\"nan\"},\"left_units\":\"canvas\",\"right_units\":\"canvas\",\"top_units\":\"canvas\",\"bottom_units\":\"canvas\",\"line_color\":\"black\",\"line_alpha\":1.0,\"line_width\":2,\"line_dash\":[4,4],\"fill_color\":\"lightgrey\",\"fill_alpha\":0.5}}}},{\"type\":\"object\",\"name\":\"ResetTool\",\"id\":\"p1250\"}],\"active_drag\":{\"id\":\"p1243\"},\"active_scroll\":{\"id\":\"p1218\"}}},\"left\":[{\"type\":\"object\",\"name\":\"LinearAxis\",\"id\":\"p1237\",\"attributes\":{\"ticker\":{\"type\":\"object\",\"name\":\"BasicTicker\",\"id\":\"p1238\",\"attributes\":{\"mantissas\":[1,2,5]}},\"formatter\":{\"type\":\"object\",\"name\":\"NumeralTickFormatter\",\"id\":\"p1207\",\"attributes\":{\"language\":\"pt-br\"}},\"axis_label\":\"Quantidade de Entregas\",\"major_label_policy\":{\"type\":\"object\",\"name\":\"AllLabels\",\"id\":\"p1240\"}}}],\"below\":[{\"type\":\"object\",\"name\":\"CategoricalAxis\",\"id\":\"p1232\",\"attributes\":{\"ticker\":{\"type\":\"object\",\"name\":\"CategoricalTicker\",\"id\":\"p1233\"},\"formatter\":{\"type\":\"object\",\"name\":\"CategoricalTickFormatter\",\"id\":\"p1234\"},\"axis_label\":\"Centro de Distribui\\u00e7\\u00e3o\",\"major_label_policy\":{\"type\":\"object\",\"name\":\"AllLabels\",\"id\":\"p1235\"}}}],\"center\":[{\"type\":\"object\",\"name\":\"Grid\",\"id\":\"p1236\",\"attributes\":{\"axis\":{\"id\":\"p1232\"},\"grid_line_color\":null}},{\"type\":\"object\",\"name\":\"Grid\",\"id\":\"p1241\",\"attributes\":{\"dimension\":1,\"axis\":{\"id\":\"p1237\"},\"grid_line_color\":null}}],\"min_border_top\":10,\"min_border_bottom\":10,\"min_border_left\":10,\"min_border_right\":10,\"output_backend\":\"webgl\"}},{\"type\":\"object\",\"name\":\"Spacer\",\"id\":\"p1265\",\"attributes\":{\"name\":\"HSpacer01364\",\"stylesheets\":[\"\\n:host(.pn-loading):before, .pn-loading:before {\\n  background-color: #c3c3c3;\\n  mask-size: auto calc(min(50%, 400px));\\n  -webkit-mask-size: auto calc(min(50%, 400px));\\n}\",{\"id\":\"p1211\"},{\"id\":\"p1209\"},{\"id\":\"p1210\"}],\"margin\":0,\"sizing_mode\":\"stretch_width\",\"align\":\"start\"}}]}}],\"defs\":[{\"type\":\"model\",\"name\":\"ReactiveHTML1\"},{\"type\":\"model\",\"name\":\"FlexBox1\",\"properties\":[{\"name\":\"align_content\",\"kind\":\"Any\",\"default\":\"flex-start\"},{\"name\":\"align_items\",\"kind\":\"Any\",\"default\":\"flex-start\"},{\"name\":\"flex_direction\",\"kind\":\"Any\",\"default\":\"row\"},{\"name\":\"flex_wrap\",\"kind\":\"Any\",\"default\":\"wrap\"},{\"name\":\"gap\",\"kind\":\"Any\",\"default\":\"\"},{\"name\":\"justify_content\",\"kind\":\"Any\",\"default\":\"flex-start\"}]},{\"type\":\"model\",\"name\":\"FloatPanel1\",\"properties\":[{\"name\":\"config\",\"kind\":\"Any\",\"default\":{\"type\":\"map\"}},{\"name\":\"contained\",\"kind\":\"Any\",\"default\":true},{\"name\":\"position\",\"kind\":\"Any\",\"default\":\"right-top\"},{\"name\":\"offsetx\",\"kind\":\"Any\",\"default\":null},{\"name\":\"offsety\",\"kind\":\"Any\",\"default\":null},{\"name\":\"theme\",\"kind\":\"Any\",\"default\":\"primary\"},{\"name\":\"status\",\"kind\":\"Any\",\"default\":\"normalized\"}]},{\"type\":\"model\",\"name\":\"GridStack1\",\"properties\":[{\"name\":\"mode\",\"kind\":\"Any\",\"default\":\"warn\"},{\"name\":\"ncols\",\"kind\":\"Any\",\"default\":null},{\"name\":\"nrows\",\"kind\":\"Any\",\"default\":null},{\"name\":\"allow_resize\",\"kind\":\"Any\",\"default\":true},{\"name\":\"allow_drag\",\"kind\":\"Any\",\"default\":true},{\"name\":\"state\",\"kind\":\"Any\",\"default\":[]}]},{\"type\":\"model\",\"name\":\"drag1\",\"properties\":[{\"name\":\"slider_width\",\"kind\":\"Any\",\"default\":5},{\"name\":\"slider_color\",\"kind\":\"Any\",\"default\":\"black\"},{\"name\":\"value\",\"kind\":\"Any\",\"default\":50}]},{\"type\":\"model\",\"name\":\"click1\",\"properties\":[{\"name\":\"terminal_output\",\"kind\":\"Any\",\"default\":\"\"},{\"name\":\"debug_name\",\"kind\":\"Any\",\"default\":\"\"},{\"name\":\"clears\",\"kind\":\"Any\",\"default\":0}]},{\"type\":\"model\",\"name\":\"FastWrapper1\",\"properties\":[{\"name\":\"object\",\"kind\":\"Any\",\"default\":null},{\"name\":\"style\",\"kind\":\"Any\",\"default\":null}]},{\"type\":\"model\",\"name\":\"NotificationAreaBase1\",\"properties\":[{\"name\":\"js_events\",\"kind\":\"Any\",\"default\":{\"type\":\"map\"}},{\"name\":\"position\",\"kind\":\"Any\",\"default\":\"bottom-right\"},{\"name\":\"_clear\",\"kind\":\"Any\",\"default\":0}]},{\"type\":\"model\",\"name\":\"NotificationArea1\",\"properties\":[{\"name\":\"js_events\",\"kind\":\"Any\",\"default\":{\"type\":\"map\"}},{\"name\":\"notifications\",\"kind\":\"Any\",\"default\":[]},{\"name\":\"position\",\"kind\":\"Any\",\"default\":\"bottom-right\"},{\"name\":\"_clear\",\"kind\":\"Any\",\"default\":0},{\"name\":\"types\",\"kind\":\"Any\",\"default\":[{\"type\":\"map\",\"entries\":[[\"type\",\"warning\"],[\"background\",\"#ffc107\"],[\"icon\",{\"type\":\"map\",\"entries\":[[\"className\",\"fas fa-exclamation-triangle\"],[\"tagName\",\"i\"],[\"color\",\"white\"]]}]]},{\"type\":\"map\",\"entries\":[[\"type\",\"info\"],[\"background\",\"#007bff\"],[\"icon\",{\"type\":\"map\",\"entries\":[[\"className\",\"fas fa-info-circle\"],[\"tagName\",\"i\"],[\"color\",\"white\"]]}]]}]}]},{\"type\":\"model\",\"name\":\"Notification\",\"properties\":[{\"name\":\"background\",\"kind\":\"Any\",\"default\":null},{\"name\":\"duration\",\"kind\":\"Any\",\"default\":3000},{\"name\":\"icon\",\"kind\":\"Any\",\"default\":null},{\"name\":\"message\",\"kind\":\"Any\",\"default\":\"\"},{\"name\":\"notification_type\",\"kind\":\"Any\",\"default\":null},{\"name\":\"_destroyed\",\"kind\":\"Any\",\"default\":false}]},{\"type\":\"model\",\"name\":\"TemplateActions1\",\"properties\":[{\"name\":\"open_modal\",\"kind\":\"Any\",\"default\":0},{\"name\":\"close_modal\",\"kind\":\"Any\",\"default\":0}]},{\"type\":\"model\",\"name\":\"BootstrapTemplateActions1\",\"properties\":[{\"name\":\"open_modal\",\"kind\":\"Any\",\"default\":0},{\"name\":\"close_modal\",\"kind\":\"Any\",\"default\":0}]},{\"type\":\"model\",\"name\":\"TemplateEditor1\",\"properties\":[{\"name\":\"layout\",\"kind\":\"Any\",\"default\":[]}]},{\"type\":\"model\",\"name\":\"MaterialTemplateActions1\",\"properties\":[{\"name\":\"open_modal\",\"kind\":\"Any\",\"default\":0},{\"name\":\"close_modal\",\"kind\":\"Any\",\"default\":0}]},{\"type\":\"model\",\"name\":\"copy_to_clipboard1\",\"properties\":[{\"name\":\"fill\",\"kind\":\"Any\",\"default\":\"none\"},{\"name\":\"value\",\"kind\":\"Any\",\"default\":null}]}]}};\n",
       "  var render_items = [{\"docid\":\"1ffbbaf5-0c25-4ed9-9905-23836f0b09ad\",\"roots\":{\"p1208\":\"f050f142-316e-41a6-8dcc-de27fe166089\"},\"root_ids\":[\"p1208\"]}];\n",
       "  var docs = Object.values(docs_json)\n",
       "  if (!docs) {\n",
       "    return\n",
       "  }\n",
       "  const py_version = docs[0].version.replace('rc', '-rc.').replace('.dev', '-dev.')\n",
       "  async function embed_document(root) {\n",
       "    var Bokeh = get_bokeh(root)\n",
       "    await Bokeh.embed.embed_items_notebook(docs_json, render_items);\n",
       "    for (const render_item of render_items) {\n",
       "      for (const root_id of render_item.root_ids) {\n",
       "\tconst id_el = document.getElementById(root_id)\n",
       "\tif (id_el.children.length && id_el.children[0].hasAttribute('data-root-id')) {\n",
       "\t  const root_el = id_el.children[0]\n",
       "\t  root_el.id = root_el.id + '-rendered'\n",
       "\t  for (const child of root_el.children) {\n",
       "            // Ensure JupyterLab does not capture keyboard shortcuts\n",
       "            // see: https://jupyterlab.readthedocs.io/en/4.1.x/extension/notebook.html#keyboard-interaction-model\n",
       "\t    child.setAttribute('data-lm-suppress-shortcuts', 'true')\n",
       "\t  }\n",
       "\t}\n",
       "      }\n",
       "    }\n",
       "  }\n",
       "  function get_bokeh(root) {\n",
       "    if (root.Bokeh === undefined) {\n",
       "      return null\n",
       "    } else if (root.Bokeh.version !== py_version) {\n",
       "      if (root.Bokeh.versions === undefined || !root.Bokeh.versions.has(py_version)) {\n",
       "\treturn null\n",
       "      }\n",
       "      return root.Bokeh.versions.get(py_version);\n",
       "    } else if (root.Bokeh.version === py_version) {\n",
       "      return root.Bokeh\n",
       "    }\n",
       "    return null\n",
       "  }\n",
       "  function is_loaded(root) {\n",
       "    var Bokeh = get_bokeh(root)\n",
       "    return (Bokeh != null && Bokeh.Panel !== undefined)\n",
       "  }\n",
       "  if (is_loaded(root)) {\n",
       "    embed_document(root);\n",
       "  } else {\n",
       "    var attempts = 0;\n",
       "    var timer = setInterval(function(root) {\n",
       "      if (is_loaded(root)) {\n",
       "        clearInterval(timer);\n",
       "        embed_document(root);\n",
       "      } else if (document.readyState == \"complete\") {\n",
       "        attempts++;\n",
       "        if (attempts > 200) {\n",
       "          clearInterval(timer);\n",
       "\t  var Bokeh = get_bokeh(root)\n",
       "\t  if (Bokeh == null || Bokeh.Panel == null) {\n",
       "            console.warn(\"Panel: ERROR: Unable to run Panel code because Bokeh or Panel library is missing\");\n",
       "\t  } else {\n",
       "\t    console.warn(\"Panel: WARNING: Attempting to render but not all required libraries could be resolved.\")\n",
       "\t    embed_document(root)\n",
       "\t  }\n",
       "        }\n",
       "      }\n",
       "    }, 25, root)\n",
       "  }\n",
       "})(window);</script>"
      ],
      "text/plain": [
       ":Bars   [des_cd_origem]   (0)"
      ]
     },
     "execution_count": 19,
     "metadata": {
      "application/vnd.holoviews_exec.v0+json": {
       "id": "p1208"
      }
     },
     "output_type": "execute_result"
    }
   ],
   "source": [
    "df.groupby(\"des_cd_origem\").size().sort_values(ascending=False).hvplot.bar(\n",
    "    title=\"Quantidade de Entregas por Centro de Distribuição\",\n",
    "    xlabel=\"Centro de Distribuição\",\n",
    "    ylabel=\"Quantidade de Entregas\",\n",
    "    width=1200,\n",
    "    height=600,\n",
    ").opts(yformatter=NumeralTickFormatter(language=\"pt-br\"))"
   ]
  },
  {
   "cell_type": "code",
   "execution_count": 20,
   "id": "862f0477",
   "metadata": {},
   "outputs": [
    {
     "data": {},
     "metadata": {},
     "output_type": "display_data"
    },
    {
     "data": {
      "application/vnd.holoviews_exec.v0+json": "",
      "text/html": [
       "<div id='p1271'>\n",
       "  <div id=\"a2192ae4-483d-4d79-8e0e-1b4f9140e3cf\" data-root-id=\"p1271\" style=\"display: contents;\"></div>\n",
       "</div>\n",
       "<script type=\"application/javascript\">(function(root) {\n",
       "  var docs_json = {\"356ee2b0-eeca-4f9e-b6ac-d60beb291d2b\":{\"version\":\"3.4.3\",\"title\":\"Bokeh Application\",\"roots\":[{\"type\":\"object\",\"name\":\"Row\",\"id\":\"p1271\",\"attributes\":{\"name\":\"Row01485\",\"tags\":[\"embedded\"],\"stylesheets\":[\"\\n:host(.pn-loading):before, .pn-loading:before {\\n  background-color: #c3c3c3;\\n  mask-size: auto calc(min(50%, 400px));\\n  -webkit-mask-size: auto calc(min(50%, 400px));\\n}\",{\"type\":\"object\",\"name\":\"ImportedStyleSheet\",\"id\":\"p1274\",\"attributes\":{\"url\":\"https://cdn.holoviz.org/panel/1.4.5/dist/css/loading.css\"}},{\"type\":\"object\",\"name\":\"ImportedStyleSheet\",\"id\":\"p1330\",\"attributes\":{\"url\":\"https://cdn.holoviz.org/panel/1.4.5/dist/css/listpanel.css\"}},{\"type\":\"object\",\"name\":\"ImportedStyleSheet\",\"id\":\"p1272\",\"attributes\":{\"url\":\"https://cdn.holoviz.org/panel/1.4.5/dist/bundled/theme/default.css\"}},{\"type\":\"object\",\"name\":\"ImportedStyleSheet\",\"id\":\"p1273\",\"attributes\":{\"url\":\"https://cdn.holoviz.org/panel/1.4.5/dist/bundled/theme/native.css\"}}],\"min_width\":1200,\"margin\":0,\"sizing_mode\":\"stretch_width\",\"align\":\"start\",\"children\":[{\"type\":\"object\",\"name\":\"Spacer\",\"id\":\"p1275\",\"attributes\":{\"name\":\"HSpacer01492\",\"stylesheets\":[\"\\n:host(.pn-loading):before, .pn-loading:before {\\n  background-color: #c3c3c3;\\n  mask-size: auto calc(min(50%, 400px));\\n  -webkit-mask-size: auto calc(min(50%, 400px));\\n}\",{\"id\":\"p1274\"},{\"id\":\"p1272\"},{\"id\":\"p1273\"}],\"margin\":0,\"sizing_mode\":\"stretch_width\",\"align\":\"start\"}},{\"type\":\"object\",\"name\":\"Figure\",\"id\":\"p1283\",\"attributes\":{\"width\":1200,\"margin\":[5,10],\"sizing_mode\":\"fixed\",\"align\":\"start\",\"x_range\":{\"type\":\"object\",\"name\":\"FactorRange\",\"id\":\"p1276\",\"attributes\":{\"tags\":[[[\"grp_transportadora\",null]],[]],\"factors\":[\"Transportadora 5\",\"Transportadora 2\",\"Transportadora 8\",\"Transportadora 4\",\"Transportadora 6\",\"Transportadora 7\",\"Transportadora 3\",\"Transportadora 1\"]}},\"y_range\":{\"type\":\"object\",\"name\":\"Range1d\",\"id\":\"p1277\",\"attributes\":{\"tags\":[[[\"0\",null]],{\"type\":\"map\",\"entries\":[[\"invert_yaxis\",false],[\"autorange\",false]]}],\"end\":0.14047045824258986,\"reset_start\":0.0,\"reset_end\":0.14047045824258986}},\"x_scale\":{\"type\":\"object\",\"name\":\"CategoricalScale\",\"id\":\"p1293\"},\"y_scale\":{\"type\":\"object\",\"name\":\"LinearScale\",\"id\":\"p1294\"},\"title\":{\"type\":\"object\",\"name\":\"Title\",\"id\":\"p1286\",\"attributes\":{\"text\":\"Percentual de Entregas Fora do Prazo de cada Grupo de Transportadora\",\"text_color\":\"black\",\"text_font_size\":\"12pt\"}},\"renderers\":[{\"type\":\"object\",\"name\":\"GlyphRenderer\",\"id\":\"p1323\",\"attributes\":{\"data_source\":{\"type\":\"object\",\"name\":\"ColumnDataSource\",\"id\":\"p1314\",\"attributes\":{\"selected\":{\"type\":\"object\",\"name\":\"Selection\",\"id\":\"p1315\",\"attributes\":{\"indices\":[],\"line_indices\":[]}},\"selection_policy\":{\"type\":\"object\",\"name\":\"UnionRenderers\",\"id\":\"p1316\"},\"data\":{\"type\":\"map\",\"entries\":[[\"grp_transportadora\",[\"Transportadora 5\",\"Transportadora 2\",\"Transportadora 8\",\"Transportadora 4\",\"Transportadora 6\",\"Transportadora 7\",\"Transportadora 3\",\"Transportadora 1\"]],[\"A_0\",{\"type\":\"ndarray\",\"array\":{\"type\":\"bytes\",\"data\":\"aV6Ph9qWwD/xAA4DyNSuP7VeEQKx/Kc/Eidd95TYpD8UgxlB0jukP0hgGVK+Z6M/b4GCADyWoj/DbQrRPXCVPw==\"},\"shape\":[8],\"dtype\":\"float64\",\"order\":\"little\"}]]}}},\"view\":{\"type\":\"object\",\"name\":\"CDSView\",\"id\":\"p1324\",\"attributes\":{\"filter\":{\"type\":\"object\",\"name\":\"AllIndices\",\"id\":\"p1325\"}}},\"glyph\":{\"type\":\"object\",\"name\":\"VBar\",\"id\":\"p1320\",\"attributes\":{\"tags\":[\"apply_ranges\"],\"x\":{\"type\":\"field\",\"field\":\"grp_transportadora\"},\"width\":{\"type\":\"value\",\"value\":0.8},\"top\":{\"type\":\"field\",\"field\":\"A_0\"},\"fill_color\":{\"type\":\"value\",\"value\":\"#30a2da\"},\"hatch_color\":{\"type\":\"value\",\"value\":\"#30a2da\"}}},\"selection_glyph\":{\"type\":\"object\",\"name\":\"VBar\",\"id\":\"p1326\",\"attributes\":{\"tags\":[\"apply_ranges\"],\"x\":{\"type\":\"field\",\"field\":\"grp_transportadora\"},\"width\":{\"type\":\"value\",\"value\":0.8},\"bottom\":{\"type\":\"value\",\"value\":0},\"top\":{\"type\":\"field\",\"field\":\"A_0\"},\"line_color\":{\"type\":\"value\",\"value\":\"black\"},\"line_alpha\":{\"type\":\"value\",\"value\":1.0},\"line_width\":{\"type\":\"value\",\"value\":1},\"line_join\":{\"type\":\"value\",\"value\":\"bevel\"},\"line_cap\":{\"type\":\"value\",\"value\":\"butt\"},\"line_dash\":{\"type\":\"value\",\"value\":[]},\"line_dash_offset\":{\"type\":\"value\",\"value\":0},\"fill_color\":{\"type\":\"value\",\"value\":\"#30a2da\"},\"fill_alpha\":{\"type\":\"value\",\"value\":1.0},\"hatch_color\":{\"type\":\"value\",\"value\":\"#30a2da\"},\"hatch_alpha\":{\"type\":\"value\",\"value\":1.0},\"hatch_scale\":{\"type\":\"value\",\"value\":12.0},\"hatch_pattern\":{\"type\":\"value\",\"value\":null},\"hatch_weight\":{\"type\":\"value\",\"value\":1.0}}},\"nonselection_glyph\":{\"type\":\"object\",\"name\":\"VBar\",\"id\":\"p1321\",\"attributes\":{\"tags\":[\"apply_ranges\"],\"x\":{\"type\":\"field\",\"field\":\"grp_transportadora\"},\"width\":{\"type\":\"value\",\"value\":0.8},\"top\":{\"type\":\"field\",\"field\":\"A_0\"},\"line_alpha\":{\"type\":\"value\",\"value\":0.1},\"fill_color\":{\"type\":\"value\",\"value\":\"#30a2da\"},\"fill_alpha\":{\"type\":\"value\",\"value\":0.1},\"hatch_color\":{\"type\":\"value\",\"value\":\"#30a2da\"},\"hatch_alpha\":{\"type\":\"value\",\"value\":0.1}}},\"muted_glyph\":{\"type\":\"object\",\"name\":\"VBar\",\"id\":\"p1322\",\"attributes\":{\"tags\":[\"apply_ranges\"],\"x\":{\"type\":\"field\",\"field\":\"grp_transportadora\"},\"width\":{\"type\":\"value\",\"value\":0.8},\"top\":{\"type\":\"field\",\"field\":\"A_0\"},\"line_alpha\":{\"type\":\"value\",\"value\":0.2},\"fill_color\":{\"type\":\"value\",\"value\":\"#30a2da\"},\"fill_alpha\":{\"type\":\"value\",\"value\":0.2},\"hatch_color\":{\"type\":\"value\",\"value\":\"#30a2da\"},\"hatch_alpha\":{\"type\":\"value\",\"value\":0.2}}}}}],\"toolbar\":{\"type\":\"object\",\"name\":\"Toolbar\",\"id\":\"p1292\",\"attributes\":{\"tools\":[{\"type\":\"object\",\"name\":\"WheelZoomTool\",\"id\":\"p1281\",\"attributes\":{\"tags\":[\"hv_created\"],\"renderers\":\"auto\",\"zoom_together\":\"none\"}},{\"type\":\"object\",\"name\":\"HoverTool\",\"id\":\"p1282\",\"attributes\":{\"tags\":[\"hv_created\"],\"renderers\":[{\"id\":\"p1323\"}],\"tooltips\":[[\"grp_transportadora\",\"@{grp_transportadora}\"],[\"0\",\"@{A_0}\"]]}},{\"type\":\"object\",\"name\":\"SaveTool\",\"id\":\"p1305\"},{\"type\":\"object\",\"name\":\"PanTool\",\"id\":\"p1306\"},{\"type\":\"object\",\"name\":\"BoxZoomTool\",\"id\":\"p1307\",\"attributes\":{\"overlay\":{\"type\":\"object\",\"name\":\"BoxAnnotation\",\"id\":\"p1308\",\"attributes\":{\"syncable\":false,\"level\":\"overlay\",\"visible\":false,\"left\":{\"type\":\"number\",\"value\":\"nan\"},\"right\":{\"type\":\"number\",\"value\":\"nan\"},\"top\":{\"type\":\"number\",\"value\":\"nan\"},\"bottom\":{\"type\":\"number\",\"value\":\"nan\"},\"left_units\":\"canvas\",\"right_units\":\"canvas\",\"top_units\":\"canvas\",\"bottom_units\":\"canvas\",\"line_color\":\"black\",\"line_alpha\":1.0,\"line_width\":2,\"line_dash\":[4,4],\"fill_color\":\"lightgrey\",\"fill_alpha\":0.5}}}},{\"type\":\"object\",\"name\":\"ResetTool\",\"id\":\"p1313\"}],\"active_drag\":{\"id\":\"p1306\"},\"active_scroll\":{\"id\":\"p1281\"}}},\"left\":[{\"type\":\"object\",\"name\":\"LinearAxis\",\"id\":\"p1300\",\"attributes\":{\"ticker\":{\"type\":\"object\",\"name\":\"BasicTicker\",\"id\":\"p1301\",\"attributes\":{\"mantissas\":[1,2,5]}},\"formatter\":{\"type\":\"object\",\"name\":\"NumeralTickFormatter\",\"id\":\"p1270\",\"attributes\":{\"format\":\"0%\"}},\"axis_label\":\"% Entregas Fora do Prazo\",\"major_label_policy\":{\"type\":\"object\",\"name\":\"AllLabels\",\"id\":\"p1303\"}}}],\"below\":[{\"type\":\"object\",\"name\":\"CategoricalAxis\",\"id\":\"p1295\",\"attributes\":{\"ticker\":{\"type\":\"object\",\"name\":\"CategoricalTicker\",\"id\":\"p1296\"},\"formatter\":{\"type\":\"object\",\"name\":\"CategoricalTickFormatter\",\"id\":\"p1297\"},\"axis_label\":\"Grupo de Transportadora\",\"major_label_policy\":{\"type\":\"object\",\"name\":\"AllLabels\",\"id\":\"p1298\"}}}],\"center\":[{\"type\":\"object\",\"name\":\"Grid\",\"id\":\"p1299\",\"attributes\":{\"axis\":{\"id\":\"p1295\"},\"grid_line_color\":null}},{\"type\":\"object\",\"name\":\"Grid\",\"id\":\"p1304\",\"attributes\":{\"dimension\":1,\"axis\":{\"id\":\"p1300\"},\"grid_line_color\":null}}],\"min_border_top\":10,\"min_border_bottom\":10,\"min_border_left\":10,\"min_border_right\":10,\"output_backend\":\"webgl\"}},{\"type\":\"object\",\"name\":\"Spacer\",\"id\":\"p1328\",\"attributes\":{\"name\":\"HSpacer01493\",\"stylesheets\":[\"\\n:host(.pn-loading):before, .pn-loading:before {\\n  background-color: #c3c3c3;\\n  mask-size: auto calc(min(50%, 400px));\\n  -webkit-mask-size: auto calc(min(50%, 400px));\\n}\",{\"id\":\"p1274\"},{\"id\":\"p1272\"},{\"id\":\"p1273\"}],\"margin\":0,\"sizing_mode\":\"stretch_width\",\"align\":\"start\"}}]}}],\"defs\":[{\"type\":\"model\",\"name\":\"ReactiveHTML1\"},{\"type\":\"model\",\"name\":\"FlexBox1\",\"properties\":[{\"name\":\"align_content\",\"kind\":\"Any\",\"default\":\"flex-start\"},{\"name\":\"align_items\",\"kind\":\"Any\",\"default\":\"flex-start\"},{\"name\":\"flex_direction\",\"kind\":\"Any\",\"default\":\"row\"},{\"name\":\"flex_wrap\",\"kind\":\"Any\",\"default\":\"wrap\"},{\"name\":\"gap\",\"kind\":\"Any\",\"default\":\"\"},{\"name\":\"justify_content\",\"kind\":\"Any\",\"default\":\"flex-start\"}]},{\"type\":\"model\",\"name\":\"FloatPanel1\",\"properties\":[{\"name\":\"config\",\"kind\":\"Any\",\"default\":{\"type\":\"map\"}},{\"name\":\"contained\",\"kind\":\"Any\",\"default\":true},{\"name\":\"position\",\"kind\":\"Any\",\"default\":\"right-top\"},{\"name\":\"offsetx\",\"kind\":\"Any\",\"default\":null},{\"name\":\"offsety\",\"kind\":\"Any\",\"default\":null},{\"name\":\"theme\",\"kind\":\"Any\",\"default\":\"primary\"},{\"name\":\"status\",\"kind\":\"Any\",\"default\":\"normalized\"}]},{\"type\":\"model\",\"name\":\"GridStack1\",\"properties\":[{\"name\":\"mode\",\"kind\":\"Any\",\"default\":\"warn\"},{\"name\":\"ncols\",\"kind\":\"Any\",\"default\":null},{\"name\":\"nrows\",\"kind\":\"Any\",\"default\":null},{\"name\":\"allow_resize\",\"kind\":\"Any\",\"default\":true},{\"name\":\"allow_drag\",\"kind\":\"Any\",\"default\":true},{\"name\":\"state\",\"kind\":\"Any\",\"default\":[]}]},{\"type\":\"model\",\"name\":\"drag1\",\"properties\":[{\"name\":\"slider_width\",\"kind\":\"Any\",\"default\":5},{\"name\":\"slider_color\",\"kind\":\"Any\",\"default\":\"black\"},{\"name\":\"value\",\"kind\":\"Any\",\"default\":50}]},{\"type\":\"model\",\"name\":\"click1\",\"properties\":[{\"name\":\"terminal_output\",\"kind\":\"Any\",\"default\":\"\"},{\"name\":\"debug_name\",\"kind\":\"Any\",\"default\":\"\"},{\"name\":\"clears\",\"kind\":\"Any\",\"default\":0}]},{\"type\":\"model\",\"name\":\"FastWrapper1\",\"properties\":[{\"name\":\"object\",\"kind\":\"Any\",\"default\":null},{\"name\":\"style\",\"kind\":\"Any\",\"default\":null}]},{\"type\":\"model\",\"name\":\"NotificationAreaBase1\",\"properties\":[{\"name\":\"js_events\",\"kind\":\"Any\",\"default\":{\"type\":\"map\"}},{\"name\":\"position\",\"kind\":\"Any\",\"default\":\"bottom-right\"},{\"name\":\"_clear\",\"kind\":\"Any\",\"default\":0}]},{\"type\":\"model\",\"name\":\"NotificationArea1\",\"properties\":[{\"name\":\"js_events\",\"kind\":\"Any\",\"default\":{\"type\":\"map\"}},{\"name\":\"notifications\",\"kind\":\"Any\",\"default\":[]},{\"name\":\"position\",\"kind\":\"Any\",\"default\":\"bottom-right\"},{\"name\":\"_clear\",\"kind\":\"Any\",\"default\":0},{\"name\":\"types\",\"kind\":\"Any\",\"default\":[{\"type\":\"map\",\"entries\":[[\"type\",\"warning\"],[\"background\",\"#ffc107\"],[\"icon\",{\"type\":\"map\",\"entries\":[[\"className\",\"fas fa-exclamation-triangle\"],[\"tagName\",\"i\"],[\"color\",\"white\"]]}]]},{\"type\":\"map\",\"entries\":[[\"type\",\"info\"],[\"background\",\"#007bff\"],[\"icon\",{\"type\":\"map\",\"entries\":[[\"className\",\"fas fa-info-circle\"],[\"tagName\",\"i\"],[\"color\",\"white\"]]}]]}]}]},{\"type\":\"model\",\"name\":\"Notification\",\"properties\":[{\"name\":\"background\",\"kind\":\"Any\",\"default\":null},{\"name\":\"duration\",\"kind\":\"Any\",\"default\":3000},{\"name\":\"icon\",\"kind\":\"Any\",\"default\":null},{\"name\":\"message\",\"kind\":\"Any\",\"default\":\"\"},{\"name\":\"notification_type\",\"kind\":\"Any\",\"default\":null},{\"name\":\"_destroyed\",\"kind\":\"Any\",\"default\":false}]},{\"type\":\"model\",\"name\":\"TemplateActions1\",\"properties\":[{\"name\":\"open_modal\",\"kind\":\"Any\",\"default\":0},{\"name\":\"close_modal\",\"kind\":\"Any\",\"default\":0}]},{\"type\":\"model\",\"name\":\"BootstrapTemplateActions1\",\"properties\":[{\"name\":\"open_modal\",\"kind\":\"Any\",\"default\":0},{\"name\":\"close_modal\",\"kind\":\"Any\",\"default\":0}]},{\"type\":\"model\",\"name\":\"TemplateEditor1\",\"properties\":[{\"name\":\"layout\",\"kind\":\"Any\",\"default\":[]}]},{\"type\":\"model\",\"name\":\"MaterialTemplateActions1\",\"properties\":[{\"name\":\"open_modal\",\"kind\":\"Any\",\"default\":0},{\"name\":\"close_modal\",\"kind\":\"Any\",\"default\":0}]},{\"type\":\"model\",\"name\":\"copy_to_clipboard1\",\"properties\":[{\"name\":\"fill\",\"kind\":\"Any\",\"default\":\"none\"},{\"name\":\"value\",\"kind\":\"Any\",\"default\":null}]}]}};\n",
       "  var render_items = [{\"docid\":\"356ee2b0-eeca-4f9e-b6ac-d60beb291d2b\",\"roots\":{\"p1271\":\"a2192ae4-483d-4d79-8e0e-1b4f9140e3cf\"},\"root_ids\":[\"p1271\"]}];\n",
       "  var docs = Object.values(docs_json)\n",
       "  if (!docs) {\n",
       "    return\n",
       "  }\n",
       "  const py_version = docs[0].version.replace('rc', '-rc.').replace('.dev', '-dev.')\n",
       "  async function embed_document(root) {\n",
       "    var Bokeh = get_bokeh(root)\n",
       "    await Bokeh.embed.embed_items_notebook(docs_json, render_items);\n",
       "    for (const render_item of render_items) {\n",
       "      for (const root_id of render_item.root_ids) {\n",
       "\tconst id_el = document.getElementById(root_id)\n",
       "\tif (id_el.children.length && id_el.children[0].hasAttribute('data-root-id')) {\n",
       "\t  const root_el = id_el.children[0]\n",
       "\t  root_el.id = root_el.id + '-rendered'\n",
       "\t  for (const child of root_el.children) {\n",
       "            // Ensure JupyterLab does not capture keyboard shortcuts\n",
       "            // see: https://jupyterlab.readthedocs.io/en/4.1.x/extension/notebook.html#keyboard-interaction-model\n",
       "\t    child.setAttribute('data-lm-suppress-shortcuts', 'true')\n",
       "\t  }\n",
       "\t}\n",
       "      }\n",
       "    }\n",
       "  }\n",
       "  function get_bokeh(root) {\n",
       "    if (root.Bokeh === undefined) {\n",
       "      return null\n",
       "    } else if (root.Bokeh.version !== py_version) {\n",
       "      if (root.Bokeh.versions === undefined || !root.Bokeh.versions.has(py_version)) {\n",
       "\treturn null\n",
       "      }\n",
       "      return root.Bokeh.versions.get(py_version);\n",
       "    } else if (root.Bokeh.version === py_version) {\n",
       "      return root.Bokeh\n",
       "    }\n",
       "    return null\n",
       "  }\n",
       "  function is_loaded(root) {\n",
       "    var Bokeh = get_bokeh(root)\n",
       "    return (Bokeh != null && Bokeh.Panel !== undefined)\n",
       "  }\n",
       "  if (is_loaded(root)) {\n",
       "    embed_document(root);\n",
       "  } else {\n",
       "    var attempts = 0;\n",
       "    var timer = setInterval(function(root) {\n",
       "      if (is_loaded(root)) {\n",
       "        clearInterval(timer);\n",
       "        embed_document(root);\n",
       "      } else if (document.readyState == \"complete\") {\n",
       "        attempts++;\n",
       "        if (attempts > 200) {\n",
       "          clearInterval(timer);\n",
       "\t  var Bokeh = get_bokeh(root)\n",
       "\t  if (Bokeh == null || Bokeh.Panel == null) {\n",
       "            console.warn(\"Panel: ERROR: Unable to run Panel code because Bokeh or Panel library is missing\");\n",
       "\t  } else {\n",
       "\t    console.warn(\"Panel: WARNING: Attempting to render but not all required libraries could be resolved.\")\n",
       "\t    embed_document(root)\n",
       "\t  }\n",
       "        }\n",
       "      }\n",
       "    }, 25, root)\n",
       "  }\n",
       "})(window);</script>"
      ],
      "text/plain": [
       ":Bars   [grp_transportadora]   (0)"
      ]
     },
     "execution_count": 20,
     "metadata": {
      "application/vnd.holoviews_exec.v0+json": {
       "id": "p1271"
      }
     },
     "output_type": "execute_result"
    }
   ],
   "source": [
    "df_total_grupo = df.groupby(\"grp_transportadora\").size()\n",
    "df_fora_prazo = (\n",
    "    df.query(\"entregue_no_prazo == False\").groupby(\"grp_transportadora\").size()\n",
    ")\n",
    "\n",
    "percentual_fora_prazo = pd.DataFrame(df_fora_prazo / df_total_grupo)\n",
    "percentual_fora_prazo.sort_values(0, ascending=False, inplace=True)\n",
    "\n",
    "percentual_fora_prazo.hvplot.bar(\n",
    "    title=\"Percentual de Entregas Fora do Prazo de cada Grupo de Transportadora\",\n",
    "    xlabel=\"Grupo de Transportadora\",\n",
    "    ylabel=\"% Entregas Fora do Prazo\",\n",
    "    width=1200,\n",
    "    height=600,\n",
    ").opts(yformatter=NumeralTickFormatter(format=\"0%\"))"
   ]
  },
  {
   "cell_type": "code",
   "execution_count": 21,
   "id": "de8abd02",
   "metadata": {},
   "outputs": [
    {
     "data": {
      "application/vnd.jupyter.widget-view+json": {
       "model_id": "47e9ca745661469cbc0a9ff0fc207304",
       "version_major": 2,
       "version_minor": 0
      },
      "text/plain": [
       "BokehModel(combine_events=True, render_bundle={'docs_json': {'0cea9c97-c603-48c0-b42e-c0eacc6f7f37': {'version…"
      ]
     },
     "execution_count": 21,
     "metadata": {},
     "output_type": "execute_result"
    }
   ],
   "source": [
    "import panel as pn\n",
    "\n",
    "combo = pn.widgets.Select(\n",
    "    name=\"Centro de Distribuição\", options=sorted(df[\"des_cd_origem\"].unique())\n",
    ")\n",
    "\n",
    "\n",
    "@pn.depends(combo)\n",
    "def grafico_barras_transportadoras_centro_origem(centro_dist):\n",
    "    return (\n",
    "        df.query(\"des_cd_origem == @centro_dist\")\n",
    "        .groupby(\"grp_transportadora\")\n",
    "        .size()\n",
    "        .sort_values(ascending=False)\n",
    "    ).hvplot.bar(\n",
    "        title=f\"Quantidade de Entregas por Grupo de Transportadora - {centro_dist}\",\n",
    "        xlabel=\"Grupo de Transportadora\",\n",
    "        ylabel=\"Quantidade de Entregas\",\n",
    "        width=1200,\n",
    "        height=600,\n",
    "    ).opts(yformatter=NumeralTickFormatter(language=\"pt-br\"))\n",
    "\n",
    "pn.Column(combo, grafico_barras_transportadoras_centro_origem)"
   ]
  },
  {
   "cell_type": "code",
   "execution_count": 22,
   "id": "f39aeb96",
   "metadata": {},
   "outputs": [
    {
     "data": {
      "application/vnd.jupyter.widget-view+json": {
       "model_id": "776b213513474e7fafeda3591f0ae7d2",
       "version_major": 2,
       "version_minor": 0
      },
      "text/plain": [
       "BokehModel(combine_events=True, render_bundle={'docs_json': {'71692b7c-d6c5-446a-85a3-c0dab0cd8d15': {'version…"
      ]
     },
     "execution_count": 22,
     "metadata": {},
     "output_type": "execute_result"
    }
   ],
   "source": [
    "import panel as pn\n",
    "\n",
    "combo = pn.widgets.Select(\n",
    "    name=\"Centro de Distribuição\", options=sorted(df[\"des_cd_origem\"].unique())\n",
    ")\n",
    "\n",
    "\n",
    "@pn.depends(combo)\n",
    "def grafico_barras_percent_atraso_transportadora(centro_dist):\n",
    "    df_filtrado = df.query(\"des_cd_origem == @centro_dist\")\n",
    "\n",
    "    df_total_grupo = df_filtrado.groupby(\"grp_transportadora\").size()\n",
    "    df_fora_prazo = (\n",
    "\n",
    "        df_filtrado.query(\"entregue_no_prazo == False\")\n",
    "        .groupby(\"grp_transportadora\")\n",
    "        .size()\n",
    "    )\n",
    "\n",
    "    percentual_fora_prazo = pd.DataFrame(df_fora_prazo / df_total_grupo)\n",
    "    percentual_fora_prazo.sort_values(0, ascending=False, inplace=True)\n",
    "\n",
    "    return percentual_fora_prazo.hvplot.bar(\n",
    "        title=f\"Percentual de Entregas Fora do Prazo por transportadora centro de distribuição {centro_dist}\",\n",
    "        xlabel=\"Centro de Distribuição\",\n",
    "        ylabel=\"% Entregas Fora do Prazo\",\n",
    "        width=1200,\n",
    "        height=600,\n",
    "    ).opts(yformatter=NumeralTickFormatter(format=\"0%\"))\n",
    "\n",
    "\n",
    "pn.Column(combo, grafico_barras_percent_atraso_transportadora)"
   ]
  }
 ],
 "metadata": {
  "kernelspec": {
   "display_name": "Python 3",
   "language": "python",
   "name": "python3"
  },
  "language_info": {
   "codemirror_mode": {
    "name": "ipython",
    "version": 3
   },
   "file_extension": ".py",
   "mimetype": "text/x-python",
   "name": "python",
   "nbconvert_exporter": "python",
   "pygments_lexer": "ipython3",
   "version": "3.11.9"
  }
 },
 "nbformat": 4,
 "nbformat_minor": 5
}
